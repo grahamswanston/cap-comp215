{
  "cells": [
    {
      "cell_type": "markdown",
      "metadata": {
        "id": "view-in-github",
        "colab_type": "text"
      },
      "source": [
        "<a href=\"https://colab.research.google.com/github/grahamswanston/cap-comp215/blob/main/Graham_Swanston_final_lab07.ipynb\" target=\"_parent\"><img src=\"https://colab.research.google.com/assets/colab-badge.svg\" alt=\"Open In Colab\"/></a>"
      ]
    },
    {
      "cell_type": "markdown",
      "source": [
        "# Lab 7: Fractal Dimension of Natural Disturbance\n",
        "In [1990](https://doi.org/10.1016/0375-9601(90)90451-S) Bak, Chen and Tang proposed a cellular automaton that is an abstract model of a forest fire. Each cell is in one of three states: empty, occupied by forest, or on fire.\n",
        "\n",
        "3 ecological processes is modelled: forest re-growth, fire ignition, and fire spread\n",
        "\n",
        "  * empty cells \"regenerate\" forest at a fixed rate\n",
        "  * forest fires ignite with a regular but small frequency\n",
        "  * forested cells catch fire when their neighbours are burning, and burn our in one time step.\n",
        "\n",
        "In this lab we will write a program that implements this model as a CA and look at the stable landscape patterns that emerge."
      ],
      "metadata": {
        "collapsed": false,
        "id": "jw8Dp_4GYy0F"
      }
    },
    {
      "cell_type": "code",
      "execution_count": 4,
      "metadata": {
        "collapsed": true,
        "id": "UviYYCW-Yy0N",
        "colab": {
          "base_uri": "https://localhost:8080/"
        },
        "outputId": "3873af4b-1d3a-48b9-9416-5059711fcd4b"
      },
      "outputs": [
        {
          "output_type": "stream",
          "name": "stdout",
          "text": [
            "--2022-03-16 14:44:14--  https://raw.githubusercontent.com/pearcej/complex-colab/master/notebooks/utils.py\n",
            "Resolving raw.githubusercontent.com (raw.githubusercontent.com)... 185.199.111.133, 185.199.110.133, 185.199.109.133, ...\n",
            "Connecting to raw.githubusercontent.com (raw.githubusercontent.com)|185.199.111.133|:443... connected.\n",
            "HTTP request sent, awaiting response... 200 OK\n",
            "Length: 2645 (2.6K) [text/plain]\n",
            "Saving to: ‘utils.py’\n",
            "\n",
            "\rutils.py              0%[                    ]       0  --.-KB/s               \rutils.py            100%[===================>]   2.58K  --.-KB/s    in 0s      \n",
            "\n",
            "2022-03-16 14:44:14 (46.6 MB/s) - ‘utils.py’ saved [2645/2645]\n",
            "\n",
            "--2022-03-16 14:44:14--  https://raw.githubusercontent.com/pearcej/complex-colab/master/notebooks/Cell2D.py\n",
            "Resolving raw.githubusercontent.com (raw.githubusercontent.com)... 185.199.108.133, 185.199.109.133, 185.199.110.133, ...\n",
            "Connecting to raw.githubusercontent.com (raw.githubusercontent.com)|185.199.108.133|:443... connected.\n",
            "HTTP request sent, awaiting response... 200 OK\n",
            "Length: 2628 (2.6K) [text/plain]\n",
            "Saving to: ‘Cell2D.py’\n",
            "\n",
            "Cell2D.py           100%[===================>]   2.57K  --.-KB/s    in 0s      \n",
            "\n",
            "2022-03-16 14:44:15 (52.5 MB/s) - ‘Cell2D.py’ saved [2628/2628]\n",
            "\n"
          ]
        }
      ],
      "source": [
        "import os\n",
        "import numpy as np\n",
        "import matplotlib.pyplot as plt\n",
        "import matplotlib as mpl\n",
        "from scipy.signal import correlate2d\n",
        "from scipy.stats import linregress\n",
        "from pprint import pprint\n",
        "\n",
        "\n",
        "if not os.path.exists('utils.py'):\n",
        "  !wget  https://raw.githubusercontent.com/pearcej/complex-colab/master/notebooks/utils.py\n",
        "if not os.path.exists('Cell2D.py'):\n",
        "  !wget  https://raw.githubusercontent.com/pearcej/complex-colab/master/notebooks/Cell2D.py\n",
        "from Cell2D import Cell2D, draw_array"
      ]
    },
    {
      "cell_type": "markdown",
      "source": [
        "## Data Definitions\n",
        "let's improve on the textbook's somewhat terse code style and define names for the 3 possible cell states, and a colour map that maps each cell state to an intuitive colour."
      ],
      "metadata": {
        "collapsed": false,
        "id": "ffJAyr9NYy0Q"
      }
    },
    {
      "cell_type": "code",
      "execution_count": 5,
      "outputs": [],
      "source": [
        "EMPTY = 0\n",
        "OCCUPIED = 1\n",
        "FIRE = 10\n",
        "BURNT = 2\n",
        "\n",
        "cmap = [(0,0,0) for _ in range(11)]\n",
        "cmap[EMPTY] = (1, 0.5, 0)    # brown\n",
        "cmap[OCCUPIED] = (0,  1, 0)  # green\n",
        "cmap[FIRE] = (1,  0, 0)      # red\n",
        "cmap[BURNT] = (0,0,0)        #black\n",
        "\n",
        "forest_colour_map = mpl.colors.ListedColormap(cmap)"
      ],
      "metadata": {
        "pycharm": {
          "name": "#%%\n"
        },
        "id": "WJ2k1MowYy0Q"
      }
    },
    {
      "cell_type": "markdown",
      "source": [
        "## The Cellular Automata\n",
        "We'll extend the Cell2D CA, and define the step function to implement the 4 rules:\n",
        "  *  An empty cell becomes occupied with probability p.\n",
        "\n",
        "  *  A cell with a tree burns if any of its neighbors is on fire.\n",
        "\n",
        "  *  A cell with a tree spontaneously burns, with probability f, even if none of its neighbors is on fire.\n",
        "\n",
        "  *  A cell with a burning tree becomes an empty cell in the next time step.\n",
        "\n",
        "Typical values for the parameters are p=0.01 and f=0.001."
      ],
      "metadata": {
        "collapsed": false,
        "id": "f-pmnVIvYy0R"
      }
    },
    {
      "cell_type": "code",
      "execution_count": 16,
      "outputs": [],
      "source": [
        "from numpy import random\n",
        "class ForestFire(Cell2D):\n",
        "  \"\"\" 2D Cellular Automaton that simulates a fire-dominated landscape \"\"\"\n",
        "\n",
        "  # TODO: define a corelation kernel\n",
        "  kernel = np.array([[0, 1, 0],\n",
        "                     [1, 0, 1],\n",
        "                     [0, 1, 0]])\n",
        "\n",
        "  def __init__(self, n, p=0.01, f=0.001, q=0.5):\n",
        "    \"\"\"Initializes the attributes.\n",
        "\n",
        "    \n",
        "\n",
        "    n: number of rows\n",
        "    p: probability an empty cells becomes \"forested\" (occupied)\n",
        "    f: probability of spontaneous file (e.g., 1/fire ignition interval)\n",
        "    q: initial forest density (probability cell is \"forested\" in initial state)\n",
        "    \"\"\"\n",
        "\n",
        "    kernel = np.array([[0, 1, 1],\n",
        "                       [1,10, 1],\n",
        "                       [0, 1, 0]])\n",
        "       \n",
        "    # TODO: define internal model state variables and initialize landscape with approx. q proportion of cells OCCUPIED\n",
        "    self.array = np.random.choice([OCCUPIED, EMPTY], size = (n, n), p=[q, 1-q])\n",
        "    self.size = n*n\n",
        "    self.p = p\n",
        "    self.f = f\n",
        "    self.q = q\n",
        "    self.rows = n\n",
        "    self.age = 0\n",
        " \n",
        "\n",
        "  def step(self):\n",
        "    \"\"\"Executes one time step, applying the CA rules to regnerate empty cells and spread fire to occupied neighbours.\"\"\"\n",
        "    # TODO: define the rules for the CA.  This is a significant challenge b/c there are 4 rules and they must act independently!\n",
        "    a = self.array\n",
        "    c = correlate2d(a, self.kernel, mode='same')\n",
        "    #conditionals\n",
        "    is_occupied = a==OCCUPIED\n",
        "    is_on_fire = a==FIRE\n",
        "    is_empty = a==EMPTY\n",
        "    is_burnt = a==BURNT\n",
        "    neighbours_on_fire = c>FIRE\n",
        "    no_fire_nearby = c<FIRE\n",
        "    current_fire = np.argwhere(a == 10)\n",
        "    \n",
        "    #interate through array for random chance of ingnition in OCCUPIED\n",
        "    self.array[is_occupied] = np.random.choice([FIRE, OCCUPIED], size= len(self.array[is_occupied]), p=[self.f, 1-self.f]) \n",
        "       \n",
        "    #Correlate kernel over array to spread fire(percolation)\n",
        "    self.array[(a==1) & (neighbours_on_fire == True)] = 10\n",
        "\n",
        "    #interate through array for random chance of growing in EMPTY\n",
        "    self.array[is_empty] = np.random.choice([OCCUPIED, EMPTY], size= len(self.array[is_empty]), p=[self.p, 1-self.p]) \n",
        "    \n",
        "    #iterate through array for chance to 3x chance to regrow burnt cells, or return to empty \n",
        "    self.array[is_burnt] = np.random.choice([OCCUPIED, EMPTY], size= len(self.array[is_burnt]), p=[self.p*3, 1-self.p *3])\n",
        "  \n",
        "    #extinguish old fires\n",
        "    self.array[is_on_fire] = BURNT\n",
        "\n",
        "    self.age +=1\n",
        "\n",
        "  def num_occupied(self):\n",
        "    \"\"\" return the number of cells occupied by forest \"\"\"\n",
        "    #return np.count_nonzero(self.array == OCCUPIED)\n",
        "    return len(self.array[self.array == OCCUPIED])\n",
        "\n",
        "\n",
        "  def num_fire(self):\n",
        "    return len(self.array[self.array == FIRE])\n",
        "    \n",
        "\n",
        "  def pct_occupied(self):\n",
        "    \"\"\" return the proportion of cells occupied by forest \"\"\"\n",
        "    return self.num_occupied()/self.size\n",
        "\n",
        "\n",
        "  def draw(self):\n",
        "    \"\"\"Draws the CA cells using the forest colour map so values are coloured intuitively.\"\"\"\n",
        "    plt.axes().set_title(\"Occupied: {}%\".format(round(self.pct_occupied()*100, 2)))\n",
        "    draw_array(self.array, cmap=forest_colour_map, vmin=0, vmax=len(forest_colour_map.colors))\n",
        "  \n",
        "        \n",
        "\n",
        "\n",
        "\n"
      ],
      "metadata": {
        "pycharm": {
          "name": "#%%\n"
        },
        "id": "GhDA2D9TYy0S"
      }
    },
    {
      "cell_type": "code",
      "source": [
        "forest = ForestFire(100)\n",
        "\n",
        "\n",
        "for i in range(2):\n",
        "  forest.step()\n",
        "forest.draw()\n",
        "\n",
        "\n",
        "print(\"Occupied?\", len(forest.array[forest.array ==OCCUPIED]))\n",
        "print(\"Empty?\", len(forest.array[forest.array ==EMPTY]))\n",
        "print(\"On fire?\", len(forest.array[forest.array ==FIRE]))\n",
        "\n",
        " "
      ],
      "metadata": {
        "id": "35BfBbOBebeW",
        "colab": {
          "base_uri": "https://localhost:8080/",
          "height": 320
        },
        "outputId": "a682f01e-a40e-49b9-d6a6-7896bc64f5e3"
      },
      "execution_count": 24,
      "outputs": [
        {
          "output_type": "stream",
          "name": "stdout",
          "text": [
            "Occupied? 5182\n",
            "Empty? 4805\n",
            "On fire? 10\n"
          ]
        },
        {
          "output_type": "display_data",
          "data": {
            "text/plain": [
              "<Figure size 432x288 with 1 Axes>"
            ],
            "image/png": "[encoded data removed]"
          },
          "metadata": {}
        }
      ]
    },
    {
      "cell_type": "markdown",
      "source": [
        "## Animation\n",
        "Create a simple animation (using Cell2d.animate method) so we can visualize and verify the system dynamics"
      ],
      "metadata": {
        "collapsed": false,
        "id": "vzQqyZLqYy0T"
      }
    },
    {
      "cell_type": "code",
      "execution_count": 25,
      "outputs": [
        {
          "output_type": "display_data",
          "data": {
            "text/plain": [
              "<Figure size 432x288 with 1 Axes>"
            ],
            "image/png": "[encoded data removed]"
          },
          "metadata": {}
        }
      ],
      "source": [
        "from time import sleep\n",
        "from IPython.display import clear_output\n",
        "\n",
        "from utils import underride#  Suggestions: use a small grid (e.g., 20x20)  and\n",
        "#               a short animation (100 frames) with interval=0.3, to slow it down so you can inspect its behvaviour\n",
        "def animate(self, frames, interval=None, step=None):\n",
        "        \"\"\"Animate the forest.\n",
        "        \n",
        "        frames: number of frames to draw\n",
        "        interval: time between frames in seconds\n",
        "        iters: number of steps between frames\n",
        "        \"\"\"\n",
        "        if step is None:\n",
        "            step = self.step\n",
        "            \n",
        "        plt.figure()\n",
        "        try:\n",
        "            for i in range(frames-1):\n",
        "                self.draw()\n",
        "                plt.show()\n",
        "                if interval:\n",
        "                    sleep(interval)\n",
        "                step()\n",
        "                clear_output(wait=True)\n",
        "            self.draw()\n",
        "            plt.show()\n",
        "        except KeyboardInterrupt:\n",
        "            pass\n",
        "\n",
        "  \n",
        "animate(forest, 100, 0.3)\n",
        "\n"
      ],
      "metadata": {
        "pycharm": {
          "name": "#%%\n"
        },
        "id": "HKGANj1oYy0U",
        "colab": {
          "base_uri": "https://localhost:8080/",
          "height": 268
        },
        "outputId": "c5b56bd9-917f-4b8c-c2c7-4fc536468a1d"
      }
    },
    {
      "cell_type": "markdown",
      "source": [
        "## Steady State\n",
        "Starting from a random initial condition, run the model until it reaches a \"steady state\" where the number of trees no longer increases or decreases consistently.\n",
        "How might we visualize this system or take measurements to determine steady-state?\n",
        "Start by making a plan for an experiment and visualiztion that will allow you to estimate the steady-state proportion of occuppied cells."
      ],
      "metadata": {
        "collapsed": false,
        "id": "ThEaLnk8Yy0V"
      }
    },
    {
      "cell_type": "code",
      "execution_count": 26,
      "outputs": [
        {
          "output_type": "execute_result",
          "data": {
            "text/plain": [
              "[<matplotlib.lines.Line2D at 0x7f84c11e9350>]"
            ]
          },
          "metadata": {},
          "execution_count": 26
        },
        {
          "output_type": "display_data",
          "data": {
            "text/plain": [
              "<Figure size 432x288 with 1 Axes>"
            ],
            "image/png": "[encoded data removed]"
          },
          "metadata": {
            "needs_background": "light"
          }
        }
      ],
      "source": [
        "\"\"\"\n",
        "compute the % change of forest state until it levels out in a desired bound\n",
        "ie: while %coverage change > 1% forrest, step\n",
        "visualization: animate until it reaches this step\n",
        "graph showing distribution of multiple trials\n",
        "one state run to population carrying capacity\n",
        "\"\"\"\n",
        "\n",
        "\n",
        "def proportion_occupied(forest, run_length=1000):\n",
        "  occupied = [forest.pct_occupied()]\n",
        "  for _ in range(run_length):\n",
        "    forest.step()\n",
        "    occupied.append(forest.pct_occupied())\n",
        "  return occupied\n",
        "\n",
        "test = ForestFire(100)\n",
        "\n",
        "pct_occupied = proportion_occupied(test, 5000)\n",
        "plt.plot(pct_occupied)\n",
        "\n",
        "\n",
        "\n"
      ],
      "metadata": {
        "pycharm": {
          "name": "#%%\n"
        },
        "id": "Sg2LhUJfYy0V",
        "colab": {
          "base_uri": "https://localhost:8080/",
          "height": 282
        },
        "outputId": "c6b67697-78d9-4a0d-d395-d5504abd782b"
      }
    },
    {
      "cell_type": "code",
      "source": [
        "\n",
        "def pct_change_over_time(self, window):\n",
        "  \"\"\" Calculate the mean change in percent coverage of OCCUPIED cells in a ForestFire object over a given window. \n",
        "\n",
        "  self = ForestFire object\n",
        "  window = number of steps used in calculating mean change\n",
        "  \"\"\"\n",
        "\n",
        "  change = [pct_change(self)]\n",
        "  for i in range(window):\n",
        "    change.append(abs(pct_change(self)))\n",
        "  return (sum(change)/window)\n",
        "\n",
        "def pct_change(self):\n",
        "  \"\"\"returns the percent change in OCCUPIED cells over one step of ForestFire object\n",
        "  \n",
        "  self = ForestFire object\n",
        "  \"\"\"\n",
        "  init = self.pct_occupied()\n",
        "  self.step()\n",
        "  state = self.pct_occupied()\n",
        "  return abs((init - state)*100)\n",
        "\n",
        "def steady_state(self, window, p):\n",
        "  \"\"\"Runs a ForestFire object until it reaches a steady state defined as a mean change in percent of OCCUPIED cells over a given window\n",
        "\n",
        "  self = ForestFire object\n",
        "  window = iterations of ForestFire objects used to calculate mean  change in OCCUPIED cells\n",
        "  p = upper bound for change in OCCUPIED area considered steady  \n",
        "  \"\"\"\n",
        "  while pct_change_over_time(self, window) > p:\n",
        "        if self.age > 5000:\n",
        "          print(\"Error: Runtime exceeded\")\n",
        "          return \n",
        "        continue\n",
        "  #print('It took ',self.age, ' steps to acheive a percent change less than', p, \" percent.\" )\n",
        "  results = {'age' : self.age,\n",
        "             'pct_coverage' : self.pct_occupied()\n",
        "             }\n",
        "  \n",
        "  return results\n",
        "\n",
        "\n",
        "steady = ForestFire(100)\n",
        "steady_state(steady, 10,  0.05)\n",
        "\n",
        "\n"
      ],
      "metadata": {
        "id": "9Op3gopTdvN7",
        "colab": {
          "base_uri": "https://localhost:8080/"
        },
        "outputId": "b03062be-2aab-4e31-9137-79085866c0e2"
      },
      "execution_count": 28,
      "outputs": [
        {
          "output_type": "execute_result",
          "data": {
            "text/plain": [
              "{'age': 2882, 'pct_coverage': 0.3802}"
            ]
          },
          "metadata": {},
          "execution_count": 28
        }
      ]
    },
    {
      "cell_type": "markdown",
      "source": [
        "Make a scatter plot of the forest ages that reach a %change under the desired threshold\n"
      ],
      "metadata": {
        "id": "6Pl1Khc3DTZ4"
      }
    },
    {
      "cell_type": "code",
      "source": [
        "\"\"\"\n",
        "Goals:\n",
        "\n",
        "results{# size of number of trials\n",
        "        'n' :{# trial#\n",
        "              age : self.age\n",
        "              coverage : self.percent coverage\n",
        "              }\n",
        "        }\n",
        "\"\"\"\n",
        "#x = range of %coverage\n",
        "#y = age of result\n",
        "\n",
        "def scatter_rig(n, s, window, p):\n",
        "  \"\"\"return a list of dictionaries from multiple trials of ForestFire objects reaching a steady state\n",
        "\n",
        "  n= number of trials\n",
        "  s= size of forests\n",
        "  window = number of steps used in mean calculation\n",
        "  p= upper bound of mean change in OCCUPIED cells considered stable\n",
        "  \"\"\"\n",
        "\n",
        "  results = []\n",
        "  for i in range(n):\n",
        "    i = ForestFire(s)\n",
        "    results.append(steady_state(i, window, p))\n",
        "  return results\n",
        "\n",
        "def make_scatter(n, s, window, p):\n",
        "  \"\"\"plot the results of scatter_rig function as a scatter plot\n",
        "  x= final percent coverage of OCCUPIED cells in the forest\n",
        "  y= age of the forest upon reaching steady state\n",
        "  \"\"\"\n",
        "  results = scatter_rig(n, s, window, p)\n",
        "\n",
        "# make the data\n",
        "  x = [results[i]['pct_coverage'] if type(results[i]['pct_coverage']) == float else 0 for i in range(len(results))]\n",
        "  y = [results[i]['age'] if type(results[i]['age']) == int else 0 for i in range(len(results))]\n",
        "# size and color:\n",
        "  sizes = np.random.uniform(15, 80, len(x))\n",
        "  colors = np.random.uniform(15, 80, len(x))\n",
        "\n",
        "# plot\n",
        "  fig, ax = plt.subplots()\n",
        "\n",
        "  ax.scatter(x, y, c=colors, vmin=0, vmax=100)\n",
        "\n",
        "  #ax.set(xlim=(0, 8), xticks=np.arange(1, 8),\n",
        "  #       ylim=(0, 8), yticks=np.arange(1, 8))\n",
        "\n",
        "  plt.show()\n",
        "\n",
        "make_scatter(500, 50, 5, 0.1)\n",
        "#test = scatter_rig(10, 50, 7, 0.1)"
      ],
      "metadata": {
        "colab": {
          "base_uri": "https://localhost:8080/",
          "height": 265
        },
        "id": "KQQA0TRuDeNj",
        "outputId": "9a5af297-a784-4e4d-e5dd-b7d47b5b0300"
      },
      "execution_count": 55,
      "outputs": [
        {
          "output_type": "display_data",
          "data": {
            "text/plain": [
              "<Figure size 432x288 with 1 Axes>"
            ],
            "image/png": "[encoded data removed]"
          },
          "metadata": {
            "needs_background": "light"
          }
        }
      ]
    },
    {
      "cell_type": "markdown",
      "source": [
        "## Fractal Dimension\n",
        "In steady state, is the geometry of the landscape fractal?\n",
        "What is its fractal dimension?\n",
        "\n",
        "The code below is re-purpose from the ``plot_perc_scaling`` function presented in Chapter 9.\n",
        "It splits that function in 2: first to generate the scaling data (occupied cells by grid size), then to plot the results."
      ],
      "metadata": {
        "collapsed": false,
        "id": "C-eM-NswYy0W"
      }
    },
    {
      "cell_type": "code",
      "execution_count": null,
      "outputs": [],
      "source": [
        "def calc_forest_scaling(sizes, p=0.01, f=0.001, q=0.33, run_length=200):\n",
        "    \"\"\" return a vector with one value for number of occupied cells in stable landscape, for each grid size provided \"\"\"\n",
        "    occupied = []\n",
        "    for size in sizes:\n",
        "        forest = ForestFire(n=size, p=p, f=f, q=q)\n",
        "        for _ in range(run_length):\n",
        "            forest.step()\n",
        "        occupied.append(forest.num_occupied())\n",
        "    return occupied\n",
        "\n",
        "\n",
        "def plot_forest_scaling(sizes, occupied):\n",
        "    \"\"\" plot the # of occupied cells by the size of the simulation grid \"\"\"\n",
        "    plot_options = dict(xlabel='scale', ylabel='N occupied', xscale='log', yscale='log')\n",
        "    fig, ax = plt.subplots(figsize=(6, 6), subplot_kw=plot_options)\n",
        "\n",
        "    line_options = dict(linestyle='dashed', color='gray', alpha=0.7)\n",
        "    ax.plot(sizes, sizes**2, label='d=2', **line_options)    # y =  x**2\n",
        "    ax.plot(sizes, occupied, '.', label='occupied')\n",
        "    ax.plot(sizes, sizes, label='d=1', **line_options)       # y = x\n",
        "    ax.legend()\n",
        "\n",
        "    # linear regression to estimate the slope of 3 lines (square, koch perim, linear) to estimate their dimension\n",
        "    for label, ys in [('square', sizes**2), ('landscape  ', occupied), ('linear', sizes)]:\n",
        "        params = linregress(np.log(sizes), np.log(ys))\n",
        "        print('{label} dimension: {slope}'.format(label=label, slope=params[0]))"
      ],
      "metadata": {
        "pycharm": {
          "name": "#%%\n"
        },
        "id": "tyQOXxCHYy0W"
      }
    },
    {
      "cell_type": "markdown",
      "source": [
        "If we plot the number of occupied cells versus the size of the box on a log-log scale, the slope estimates the dimension.\n",
        "\n",
        "But in this model everything scales at the same rate - total area, forested cell sizes, fire sizes, etc., so unsurprisingly, the occupied cells scale proportional to the total grid area, i.e., 2-dimensional.  \n",
        "\n",
        "What strategy could we employ to estimate the fractal dimension - the relative rate at which the \"mass\" changes as the length scale changes?"
      ],
      "metadata": {
        "collapsed": false,
        "id": "eF9U_xc4Yy0X"
      }
    },
    {
      "cell_type": "code",
      "execution_count": null,
      "outputs": [],
      "source": [
        "sizes = np.array([10, 50, 100, 200, 500, 800, 1200])\n",
        "occupied = calc_forest_scaling(sizes)\n",
        "plot_forest_scaling(sizes, occupied)"
      ],
      "metadata": {
        "pycharm": {
          "name": "#%%\n"
        },
        "id": "uFrswK97Yy0X"
      }
    },
    {
      "cell_type": "code",
      "execution_count": null,
      "outputs": [],
      "source": [
        ""
      ],
      "metadata": {
        "pycharm": {
          "name": "#%%\n"
        },
        "id": "0cCuuW1XYy0X"
      }
    }
  ],
  "metadata": {
    "kernelspec": {
      "display_name": "Python 3",
      "language": "python",
      "name": "python3"
    },
    "language_info": {
      "codemirror_mode": {
        "name": "ipython",
        "version": 2
      },
      "file_extension": ".py",
      "mimetype": "text/x-python",
      "name": "python",
      "nbconvert_exporter": "python",
      "pygments_lexer": "ipython2",
      "version": "2.7.6"
    },
    "colab": {
      "name": "Graham_Swanston_final_lab07.ipynb",
      "provenance": [],
      "collapsed_sections": [],
      "include_colab_link": true
    }
  },
  "nbformat": 4,
  "nbformat_minor": 0
}