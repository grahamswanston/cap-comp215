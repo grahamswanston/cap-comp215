{
  "cells": [
    {
      "cell_type": "markdown",
      "metadata": {
        "id": "view-in-github",
        "colab_type": "text"
      },
      "source": [
        "<a href=\"https://colab.research.google.com/github/grahamswanston/cap-comp215/blob/main/Graham_Swanston_final_lab07.ipynb\" target=\"_parent\"><img src=\"https://colab.research.google.com/assets/colab-badge.svg\" alt=\"Open In Colab\"/></a>"
      ]
    },
    {
      "cell_type": "markdown",
      "source": [
        "# Lab 7: Fractal Dimension of Natural Disturbance\n",
        "In [1990](https://doi.org/10.1016/0375-9601(90)90451-S) Bak, Chen and Tang proposed a cellular automaton that is an abstract model of a forest fire. Each cell is in one of three states: empty, occupied by forest, or on fire.\n",
        "\n",
        "3 ecological processes is modelled: forest re-growth, fire ignition, and fire spread\n",
        "\n",
        "  * empty cells \"regenerate\" forest at a fixed rate\n",
        "  * forest fires ignite with a regular but small frequency\n",
        "  * forested cells catch fire when their neighbours are burning, and burn our in one time step.\n",
        "\n",
        "In this lab we will write a program that implements this model as a CA and look at the stable landscape patterns that emerge."
      ],
      "metadata": {
        "collapsed": false,
        "id": "jw8Dp_4GYy0F"
      }
    },
    {
      "cell_type": "code",
      "execution_count": 40,
      "metadata": {
        "collapsed": true,
        "id": "UviYYCW-Yy0N"
      },
      "outputs": [],
      "source": [
        "import os\n",
        "import numpy as np\n",
        "import matplotlib.pyplot as plt\n",
        "import matplotlib as mpl\n",
        "from scipy.signal import correlate2d\n",
        "from scipy.stats import linregress\n",
        "from pprint import pprint\n",
        "\n",
        "\n",
        "if not os.path.exists('utils.py'):\n",
        "  !wget  https://raw.githubusercontent.com/pearcej/complex-colab/master/notebooks/utils.py\n",
        "if not os.path.exists('Cell2D.py'):\n",
        "  !wget  https://raw.githubusercontent.com/pearcej/complex-colab/master/notebooks/Cell2D.py\n",
        "from Cell2D import Cell2D, draw_array"
      ]
    },
    {
      "cell_type": "markdown",
      "source": [
        "## Data Definitions\n",
        "let's improve on the textbook's somewhat terse code style and define names for the 3 possible cell states, and a colour map that maps each cell state to an intuitive colour."
      ],
      "metadata": {
        "collapsed": false,
        "id": "ffJAyr9NYy0Q"
      }
    },
    {
      "cell_type": "code",
      "execution_count": 41,
      "outputs": [],
      "source": [
        "EMPTY = 0\n",
        "OCCUPIED = 1\n",
        "FIRE = 10\n",
        "BURNT = 2\n",
        "\n",
        "cmap = [(0,0,0) for _ in range(11)]\n",
        "cmap[EMPTY] = (1, 0.5, 0)    # brown\n",
        "cmap[OCCUPIED] = (0,  1, 0)  # green\n",
        "cmap[FIRE] = (1,  0, 0)      # red\n",
        "cmap[BURNT] = (0,0,0)        #black\n",
        "\n",
        "forest_colour_map = mpl.colors.ListedColormap(cmap)"
      ],
      "metadata": {
        "pycharm": {
          "name": "#%%\n"
        },
        "id": "WJ2k1MowYy0Q"
      }
    },
    {
      "cell_type": "markdown",
      "source": [
        "## The Cellular Automata\n",
        "We'll extend the Cell2D CA, and define the step function to implement the 4 rules:\n",
        "  *  An empty cell becomes occupied with probability p.\n",
        "\n",
        "  *  A cell with a tree burns if any of its neighbors is on fire.\n",
        "\n",
        "  *  A cell with a tree spontaneously burns, with probability f, even if none of its neighbors is on fire.\n",
        "\n",
        "  *  A cell with a burning tree becomes an empty cell in the next time step.\n",
        "\n",
        "Typical values for the parameters are p=0.01 and f=0.001."
      ],
      "metadata": {
        "collapsed": false,
        "id": "f-pmnVIvYy0R"
      }
    },
    {
      "cell_type": "code",
      "execution_count": 57,
      "outputs": [],
      "source": [
        "from numpy import random\n",
        "class ForestFire(Cell2D):\n",
        "  \"\"\" 2D Cellular Automaton that simulates a fire-dominated landscape \"\"\"\n",
        "\n",
        "  # TODO: define a corelation kernel\n",
        "  kernel = np.array([[0, 1, 0],\n",
        "                     [1, 0, 1],\n",
        "                     [0, 1, 0]])\n",
        "\n",
        "  def __init__(self, n, p=0.01, f=0.001, q=0.5):\n",
        "    \"\"\"Initializes the attributes.\n",
        "\n",
        "    \n",
        "\n",
        "    n: number of rows\n",
        "    p: probability an empty cells becomes \"forested\" (occupied)\n",
        "    f: probability of spontaneous file (e.g., 1/fire ignition interval)\n",
        "    q: initial forest density (probability cell is \"forested\" in initial state)\n",
        "    \"\"\"\n",
        "\n",
        "    kernel = np.array([[0, 1, 1],\n",
        "                       [1,10, 1],\n",
        "                       [0, 1, 0]])\n",
        "       \n",
        "    # TODO: define internal model state variables and initialize landscape with approx. q proportion of cells OCCUPIED\n",
        "    self.array = np.random.choice([OCCUPIED, EMPTY], size = (n, n), p=[q, 1-q])\n",
        "    self.size = n*n\n",
        "    self.p = p\n",
        "    self.f = f\n",
        "    self.q = q\n",
        "    self.rows = n\n",
        " \n",
        "\n",
        "  def step(self):\n",
        "    \"\"\"Executes one time step, applying the CA rules to regnerate empty cells and spread fire to occupied neighbours.\"\"\"\n",
        "    # TODO: define the rules for the CA.  This is a significant challenge b/c there are 4 rules and they must act independently!\n",
        "    a = self.array\n",
        "    c = correlate2d(a, self.kernel, mode='same')\n",
        "    #conditionals\n",
        "    is_occupied = a==OCCUPIED\n",
        "    is_on_fire = a==FIRE\n",
        "    is_empty = a==EMPTY\n",
        "    is_burnt = a==BURNT\n",
        "    neighbours_on_fire = c>FIRE\n",
        "    no_fire_nearby = c<FIRE\n",
        "    current_fire = np.argwhere(a == 10)\n",
        "    \n",
        "    #interate through array for random chance of ingnition in OCCUPIED\n",
        "    self.array[is_occupied] = np.random.choice([FIRE, OCCUPIED], size= len(self.array[is_occupied]), p=[self.f, 1-self.f]) \n",
        "       \n",
        "    #Correlate kernel over array to spread fire(percolation)\n",
        "    self.array[(a==1) & (c>=10)] = 10\n",
        "\n",
        "    #interate through array for random chance of growing in EMPTY\n",
        "    self.array[is_empty] = np.random.choice([OCCUPIED, EMPTY], size= len(self.array[is_empty]), p=[self.p, 1-self.p]) \n",
        "    \n",
        "    #iterate through array for chance to 3x chance to regrow burnt cells, or return to empty \n",
        "    self.array[is_burnt] = np.random.choice([OCCUPIED, EMPTY], size= len(self.array[is_burnt]), p=[self.p*3, 1-self.p *3])\n",
        "  \n",
        "    #extinguish old fires\n",
        "    self.array[is_on_fire] = BURNT\n",
        "\n",
        "  def num_occupied(self):\n",
        "    \"\"\" return the number of cells occupied by forest \"\"\"\n",
        "    #return np.count_nonzero(self.array == OCCUPIED)\n",
        "    return len(self.array[self.array == OCCUPIED])\n",
        "\n",
        "\n",
        "  def num_fire(self):\n",
        "    return len(self.array[self.array == FIRE])\n",
        "    \n",
        "\n",
        "  def pct_occupied(self):\n",
        "    \"\"\" return the proportion of cells occupied by forest \"\"\"\n",
        "    return self.num_occupied()/self.size\n",
        "\n",
        "\n",
        "  def draw(self):\n",
        "    \"\"\"Draws the CA cells using the forest colour map so values are coloured intuitively.\"\"\"\n",
        "    plt.axes().set_title(\"Occupied: {}%\".format(round(self.pct_occupied()*100, 2)))\n",
        "    draw_array(self.array, cmap=forest_colour_map, vmin=0, vmax=len(forest_colour_map.colors))\n",
        "  \n",
        "        \n",
        "\n",
        "\n",
        "\n"
      ],
      "metadata": {
        "pycharm": {
          "name": "#%%\n"
        },
        "id": "GhDA2D9TYy0S"
      }
    },
    {
      "cell_type": "code",
      "source": [
        "forest = ForestFire(100)\n",
        "\n",
        "\n",
        "for i in range(20):\n",
        "  forest.step()\n",
        "forest.draw()\n",
        "\n",
        "\n",
        "print(\"Occupied?\", len(forest.array[forest.array ==OCCUPIED]))\n",
        "print(\"Empty?\", len(forest.array[forest.array ==EMPTY]))\n",
        "print(\"On fire?\", len(forest.array[forest.array ==FIRE]))\n",
        "\n",
        " "
      ],
      "metadata": {
        "id": "35BfBbOBebeW",
        "colab": {
          "base_uri": "https://localhost:8080/",
          "height": 320
        },
        "outputId": "fed53fc9-8b20-4f5c-c0c1-246cf788e10f"
      },
      "execution_count": 127,
      "outputs": [
        {
          "output_type": "stream",
          "name": "stdout",
          "text": [
            "Occupied? 3399\n",
            "Empty? 6190\n",
            "On fire? 200\n"
          ]
        },
        {
          "output_type": "display_data",
          "data": {
            "text/plain": [
              "<Figure size 432x288 with 1 Axes>"
            ],
            "image/png": "[encoded data removed]"
          },
          "metadata": {}
        }
      ]
    },
    {
      "cell_type": "markdown",
      "source": [
        "## Animation\n",
        "Create a simple animation (using Cell2d.animate method) so we can visualize and verify the system dynamics"
      ],
      "metadata": {
        "collapsed": false,
        "id": "vzQqyZLqYy0T"
      }
    },
    {
      "cell_type": "code",
      "execution_count": 123,
      "outputs": [
        {
          "output_type": "display_data",
          "data": {
            "text/plain": [
              "<Figure size 432x288 with 1 Axes>"
            ],
            "image/png": "[encoded data removed]"
          },
          "metadata": {}
        }
      ],
      "source": [
        "from time import sleep\n",
        "from IPython.display import clear_output\n",
        "\n",
        "from utils import underride#  Suggestions: use a small grid (e.g., 20x20)  and\n",
        "#               a short animation (100 frames) with interval=0.3, to slow it down so you can inspect its behvaviour\n",
        "def animate(self, frames, interval=None, step=None):\n",
        "        \"\"\"Animate the forest.\n",
        "        \n",
        "        frames: number of frames to draw\n",
        "        interval: time between frames in seconds\n",
        "        iters: number of steps between frames\n",
        "        \"\"\"\n",
        "        if step is None:\n",
        "            step = self.step\n",
        "            \n",
        "        plt.figure()\n",
        "        try:\n",
        "            for i in range(frames-1):\n",
        "                self.draw()\n",
        "                plt.show()\n",
        "                if interval:\n",
        "                    sleep(interval)\n",
        "                step()\n",
        "                clear_output(wait=True)\n",
        "            self.draw()\n",
        "            plt.show()\n",
        "        except KeyboardInterrupt:\n",
        "            pass\n",
        "\n",
        "  \n",
        "animate(forest, 100, 0.3)\n",
        "\n"
      ],
      "metadata": {
        "pycharm": {
          "name": "#%%\n"
        },
        "id": "HKGANj1oYy0U",
        "colab": {
          "base_uri": "https://localhost:8080/",
          "height": 268
        },
        "outputId": "b15861f3-94e0-4571-849f-26a6d74bce8a"
      }
    },
    {
      "cell_type": "markdown",
      "source": [
        "## Steady State\n",
        "Starting from a random initial condition, run the model until it reaches a \"steady state\" where the number of trees no longer increases or decreases consistently.\n",
        "How might we visualize this system or take measurements to determine steady-state?\n",
        "Start by making a plan for an experiment and visualiztion that will allow you to estimate the steady-state proportion of occuppied cells."
      ],
      "metadata": {
        "collapsed": false,
        "id": "ThEaLnk8Yy0V"
      }
    },
    {
      "cell_type": "code",
      "execution_count": 132,
      "outputs": [
        {
          "output_type": "execute_result",
          "data": {
            "text/plain": [
              "[<matplotlib.lines.Line2D at 0x7f0eb9b0a7d0>]"
            ]
          },
          "metadata": {},
          "execution_count": 132
        },
        {
          "output_type": "display_data",
          "data": {
            "text/plain": [
              "<Figure size 432x288 with 1 Axes>"
            ],
            "image/png": "[encoded data removed]"
          },
          "metadata": {
            "needs_background": "light"
          }
        }
      ],
      "source": [
        "\"\"\"\n",
        "compute the % change of forest state until it levels out in a desired bound\n",
        "ie: while %coverage change > 1% forrest, step\n",
        "visualization: animate until it reaches this step\n",
        "graph showing distribution curve of multiple trials\n",
        "one state run to population carrying capacity\n",
        "\"\"\"\n",
        "\n",
        "\n",
        "def proportion_occupied(forest, run_length=1000):\n",
        "  occupied = [forest.pct_occupied()]\n",
        "  for _ in range(run_length):\n",
        "    forest.step()\n",
        "    occupied.append(forest.pct_occupied())\n",
        "  return occupied\n",
        "\n",
        "test = ForestFire(100)\n",
        "\n",
        "pct_occupied = proportion_occupied(test, 5000)\n",
        "plt.plot(pct_occupied)\n",
        "\n",
        "\n",
        "\n"
      ],
      "metadata": {
        "pycharm": {
          "name": "#%%\n"
        },
        "id": "Sg2LhUJfYy0V",
        "colab": {
          "base_uri": "https://localhost:8080/",
          "height": 282
        },
        "outputId": "dd5616eb-dcf1-4117-bba4-11594a0bbbd8"
      }
    },
    {
      "cell_type": "code",
      "source": [
        "\n",
        "\"\"\"\n",
        "def pct_change(self):\n",
        "  init_state = self.pct_occupied()\n",
        "  self.step()\n",
        "  current_state = self.pct_occupied()\n",
        "  print((current_state/init_state) - 1))\n",
        "  return ((abs(current_state/init_state) - 1)\n",
        "\n",
        "def steady_state(self, p):\n",
        "\n",
        "self = ForestFire object\n",
        "p= precision of range of % change in forested area considered steady\n",
        "\n",
        "  count = 0\n",
        "  while pct_change(self) > p:\n",
        "    count +=1\n",
        "    continue\n",
        "  print('It took ',count, ' steps to acheive a percent change less than', p )\n",
        "  self.draw()  \n",
        "  return steady.pct_occupied()\n",
        "\n",
        "\n",
        "steady = ForestFire(100)\n",
        "pct_change(steady)\n",
        "steady_state(steady, 0.001)\n",
        "\n",
        "\"\"\""
      ],
      "metadata": {
        "id": "9Op3gopTdvN7"
      },
      "execution_count": null,
      "outputs": []
    },
    {
      "cell_type": "markdown",
      "source": [
        "## Fractal Dimension\n",
        "In steady state, is the geometry of the landscape fractal?\n",
        "What is its fractal dimension?\n",
        "\n",
        "The code below is re-purpose from the ``plot_perc_scaling`` function presented in Chapter 9.\n",
        "It splits that function in 2: first to generate the scaling data (occupied cells by grid size), then to plot the results."
      ],
      "metadata": {
        "collapsed": false,
        "id": "C-eM-NswYy0W"
      }
    },
    {
      "cell_type": "code",
      "execution_count": 8,
      "outputs": [],
      "source": [
        "def calc_forest_scaling(sizes, p=0.01, f=0.001, q=0.33, run_length=200):\n",
        "    \"\"\" return a vector with one value for number of occupied cells in stable landscape, for each grid size provided \"\"\"\n",
        "    occupied = []\n",
        "    for size in sizes:\n",
        "        forest = ForestFire(n=size, p=p, f=f, q=q)\n",
        "        for _ in range(run_length):\n",
        "            forest.step()\n",
        "        occupied.append(forest.num_occupied())\n",
        "    return occupied\n",
        "\n",
        "\n",
        "def plot_forest_scaling(sizes, occupied):\n",
        "    \"\"\" plot the # of occupied cells by the size of the simulation grid \"\"\"\n",
        "    plot_options = dict(xlabel='scale', ylabel='N occupied', xscale='log', yscale='log')\n",
        "    fig, ax = plt.subplots(figsize=(6, 6), subplot_kw=plot_options)\n",
        "\n",
        "    line_options = dict(linestyle='dashed', color='gray', alpha=0.7)\n",
        "    ax.plot(sizes, sizes**2, label='d=2', **line_options)    # y =  x**2\n",
        "    ax.plot(sizes, occupied, '.', label='occupied')\n",
        "    ax.plot(sizes, sizes, label='d=1', **line_options)       # y = x\n",
        "    ax.legend()\n",
        "\n",
        "    # linear regression to estimate the slope of 3 lines (square, koch perim, linear) to estimate their dimension\n",
        "    for label, ys in [('square', sizes**2), ('landscape  ', occupied), ('linear', sizes)]:\n",
        "        params = linregress(np.log(sizes), np.log(ys))\n",
        "        print('{label} dimension: {slope}'.format(label=label, slope=params[0]))"
      ],
      "metadata": {
        "pycharm": {
          "name": "#%%\n"
        },
        "id": "tyQOXxCHYy0W"
      }
    },
    {
      "cell_type": "markdown",
      "source": [
        "If we plot the number of occupied cells versus the size of the box on a log-log scale, the slope estimates the dimension.\n",
        "\n",
        "But in this model everything scales at the same rate - total area, forested cell sizes, fire sizes, etc., so unsurprisingly, the occupied cells scale proportional to the total grid area, i.e., 2-dimensional.  \n",
        "\n",
        "What strategy could we employ to estimate the fractal dimension - the relative rate at which the \"mass\" changes as the length scale changes?"
      ],
      "metadata": {
        "collapsed": false,
        "id": "eF9U_xc4Yy0X"
      }
    },
    {
      "cell_type": "code",
      "execution_count": 9,
      "outputs": [
        {
          "output_type": "stream",
          "name": "stdout",
          "text": [
            "square dimension: 2.0\n",
            "landscape   dimension: 0.0\n",
            "linear dimension: 1.0\n"
          ]
        },
        {
          "output_type": "display_data",
          "data": {
            "text/plain": [
              "<Figure size 432x432 with 1 Axes>"
            ],
            "image/png": "[encoded data removed]"
          },
          "metadata": {
            "needs_background": "light"
          }
        }
      ],
      "source": [
        "sizes = np.array([10, 50, 100, 200, 500, 800, 1200])\n",
        "occupied = calc_forest_scaling(sizes)\n",
        "plot_forest_scaling(sizes, occupied)"
      ],
      "metadata": {
        "pycharm": {
          "name": "#%%\n"
        },
        "id": "uFrswK97Yy0X",
        "colab": {
          "base_uri": "https://localhost:8080/",
          "height": 444
        },
        "outputId": "c2805734-8f28-4bba-da67-c6a35c826fe4"
      }
    },
    {
      "cell_type": "code",
      "execution_count": 9,
      "outputs": [],
      "source": [
        ""
      ],
      "metadata": {
        "pycharm": {
          "name": "#%%\n"
        },
        "id": "0cCuuW1XYy0X"
      }
    }
  ],
  "metadata": {
    "kernelspec": {
      "display_name": "Python 3",
      "language": "python",
      "name": "python3"
    },
    "language_info": {
      "codemirror_mode": {
        "name": "ipython",
        "version": 2
      },
      "file_extension": ".py",
      "mimetype": "text/x-python",
      "name": "python",
      "nbconvert_exporter": "python",
      "pygments_lexer": "ipython2",
      "version": "2.7.6"
    },
    "colab": {
      "name": "Graham_Swanston_final_lab07.ipynb",
      "provenance": [],
      "collapsed_sections": [],
      "include_colab_link": true
    }
  },
  "nbformat": 4,
  "nbformat_minor": 0
}