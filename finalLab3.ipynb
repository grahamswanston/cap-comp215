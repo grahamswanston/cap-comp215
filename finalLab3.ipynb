{
  "nbformat": 4,
  "nbformat_minor": 0,
  "metadata": {
    "colab": {
      "name": "lab3_objects.ipynb",
      "provenance": [],
      "collapsed_sections": [],
      "include_colab_link": true
    },
    "kernelspec": {
      "name": "python3",
      "language": "python",
      "display_name": "Python 3 (ipykernel)"
    },
    "language_info": {
      "name": "python"
    }
  },
  "cells": [
    {
      "cell_type": "markdown",
      "metadata": {
        "id": "view-in-github",
        "colab_type": "text"
      },
      "source": [
        "<a href=\"https://colab.research.google.com/github/grahamswanston/cap-comp215/blob/main/finalLab3.ipynb\" target=\"_parent\"><img src=\"https://colab.research.google.com/assets/colab-badge.svg\" alt=\"Open In Colab\"/></a>"
      ]
    },
    {
      "cell_type": "markdown",
      "source": [
        "COMP 215 - LAB 2\n",
        "----------------\n",
        "#### Name: Graham Swanston\n",
        "#### Date: January 20, 2022\n",
        "This lab exercise is mostly a review of strings, tuples, lists, dictionaries, and functions.\n",
        "We will also see how \"list comprehension\" provides a compact form for \"list accumulator\" algorithms.\n",
        "\n",
        "As usual, the first code cell simply imports all the modules we'll be using..."
      ],
      "metadata": {
        "id": "nbRPZPKZU5Pk"
      }
    },
    {
      "cell_type": "code",
      "execution_count": null,
      "outputs": [],
      "source": [
        "import json, requests\n",
        "import matplotlib.pyplot as plt\n",
        "from pprint import pprint"
      ],
      "metadata": {
        "pycharm": {
          "name": "#%%\n"
        },
        "id": "g-bM7ATV0wG_"
      }
    },
    {
      "cell_type": "markdown",
      "source": [
        "We'll answer some questions about movies and TV shows with the IMDb database:  https://www.imdb.com/\n",
        "> using the IMDb API:  https://imdb-api.com/api\n",
        "\n",
        "You can register for your own API key, or simply use the one provided below.\n",
        "\n",
        "Here's an example query:\n",
        " *   search for TV Series with title == \"Lexx\""
      ],
      "metadata": {
        "collapsed": false,
        "pycharm": {
          "name": "#%% md\n"
        },
        "id": "M0kgkyqP0wHB"
      }
    },
    {
      "cell_type": "code",
      "execution_count": null,
      "metadata": {
        "id": "JDGbYTySU3BP"
      },
      "outputs": [],
      "source": [
        "API_KEY = 'k_ynffhhna'\n",
        "\n",
        "title = 'lexx'\n",
        "url = \"https://imdb-api.com/en/API/SearchTitle/{key}/{title}\".format(key=API_KEY, title=title)\n",
        "\n",
        "response = requests.request(\"GET\", url, headers={}, data={})\n",
        "\n",
        "data = json.loads(response.text)  # recall json.loads for lab 1\n",
        "\n",
        "results = data['results']\n",
        "pprint(results)"
      ]
    },
    {
      "cell_type": "markdown",
      "source": [
        "Next we extract the item we want from the data set by applying a \"filter\":"
      ],
      "metadata": {
        "collapsed": false,
        "pycharm": {
          "name": "#%% md\n"
        },
        "id": "qhE3KjTB0wHC"
      }
    },
    {
      "cell_type": "code",
      "execution_count": null,
      "outputs": [
        {
          "output_type": "stream",
          "name": "stdout",
          "text": [
            "{'description': '(1996) (TV Series)',\n",
            " 'id': 'tt0115243',\n",
            " 'image': 'https://imdb-api.com/images/original/MV5BOGFjMzQyMTYtMjQxNy00NjAyLWI2OWMtZGVhMjk4OGM3ZjE5XkEyXkFqcGdeQXVyNzMzMjU5NDY@._V1_Ratio0.7273_AL_.jpg',\n",
            " 'resultType': 'Title',\n",
            " 'title': 'Lexx'}\n"
          ]
        }
      ],
      "source": [
        "items = [item for item in results if item['title']=='Lexx' and \"TV\" in item['description']]\n",
        "assert len(items) == 1\n",
        "lexx = items[0]\n",
        "pprint(lexx)"
      ],
      "metadata": {
        "pycharm": {
          "name": "#%%\n"
        },
        "id": "pkL-F5yO0wHD",
        "outputId": "ba3338a6-0652-4da8-a020-e4f42b543aa9",
        "colab": {
          "base_uri": "https://localhost:8080/"
        }
      }
    },
    {
      "cell_type": "markdown",
      "source": [
        "## Exercise 1\n",
        "\n",
        "In the code cell below, re-write the \"list comprehension\" above as a loop so you understand how it works.\n",
        "Notice how the \"conditional list comprehension\" is a compact way to \"filter\" items of interest from a large data set.\n"
      ],
      "metadata": {
        "collapsed": false,
        "pycharm": {
          "name": "#%% md\n"
        },
        "id": "3M7G8wLG0wHE"
      }
    },
    {
      "cell_type": "code",
      "execution_count": null,
      "outputs": [
        {
          "output_type": "stream",
          "name": "stdout",
          "text": [
            "{'description': '(1996) (TV Series)',\n",
            " 'id': 'tt0115243',\n",
            " 'image': 'https://imdb-api.com/images/original/MV5BOGFjMzQyMTYtMjQxNy00NjAyLWI2OWMtZGVhMjk4OGM3ZjE5XkEyXkFqcGdeQXVyNzMzMjU5NDY@._V1_Ratio0.7273_AL_.jpg',\n",
            " 'resultType': 'Title',\n",
            " 'title': 'Lexx'}\n"
          ]
        }
      ],
      "source": [
        "items = []\n",
        "for i in results:\n",
        "    if i['title'] == 'Lexx' and \"TV\" in i['description']:\n",
        "        items.append(i)\n",
        "        assert len(items) == 1\n",
        "pprint(items[0])\n"
      ],
      "metadata": {
        "pycharm": {
          "name": "#%%\n"
        },
        "id": "svDU2bqD0wHE",
        "outputId": "42a3a7d2-1a1a-456a-8f1a-cfe079f4637e",
        "colab": {
          "base_uri": "https://localhost:8080/"
        }
      }
    },
    {
      "cell_type": "markdown",
      "source": [
        "Notice that the `lexx` dictionary contains an `id` field that uniquely identifies this record in the database.\n",
        "\n",
        "We can use the `id` to fetch other information about the TV series, for example,\n",
        "*   get names of all actors in the TV Series Lexx\n"
      ],
      "metadata": {
        "id": "DNRs7ynOYwYk"
      }
    },
    {
      "cell_type": "code",
      "source": [
        "url = \"https://imdb-api.com/en/API/FullCast/{key}/{id}\".format(key=API_KEY, id=lexx['id'])\n",
        "response = requests.request(\"GET\", url, headers={}, data={})\n",
        "data = json.loads(response.text)\n",
        "\n",
        "actors = data['actors']\n",
        "pprint(actors[10::])   # recall the slice operator (it's a long list!)"
      ],
      "metadata": {
        "id": "tiyXTDfnZAd0"
      },
      "execution_count": null,
      "outputs": []
    },
    {
      "cell_type": "markdown",
      "source": [
        "Notice that the `asCharacter` field contains a number of different pieces of data as a single string, including the character name.\n",
        "This kind of \"free-form\" text data is notoriously challenging to parse...\n",
        "\n",
        "## Exercise 2\n",
        "\n",
        "In the code cell below, write a python function that takes a string input (the text from `asCharacter` field)\n",
        "and returns the number of episodes, if available, or None.\n",
        "\n",
        "Hints:\n",
        "* notice this is a numeric value followed by the word \"episodes\"\n",
        "* recall str.split() and str.isdigit() and other string build-ins.\n",
        "\n",
        "Add unit tests to cover as many cases from the `actors` data set above as you can.\n"
      ],
      "metadata": {
        "id": "iOZspDBVbBns"
      }
    },
    {
      "cell_type": "code",
      "execution_count": null,
      "outputs": [
        {
          "output_type": "stream",
          "name": "stdout",
          "text": [
            "This actor was in 61 episodes.\n",
            "This actor was in 61 episodes.\n",
            "This actor was in 57 episodes.\n",
            "This actor was in 55 episodes.\n",
            "This actor was in 46 episodes.\n",
            "This actor was in 23 episodes.\n",
            "This actor was in 16 episodes.\n",
            "This actor was in 8 episodes.\n",
            "This actor was in 13 episodes.\n",
            "This actor was in 10 episodes.\n"
          ]
        }
      ],
      "source": [
        "def episode_count(asCharString):\n",
        "  \n",
        "  str_parse = asCharString['asCharacter'].split(' ', -3)\n",
        "  episodes = str_parse[-3]\n",
        "  if episodes.isdigit() == False:\n",
        "    return 'NONE'\n",
        "  return episodes\n",
        "  \n",
        "\n",
        "for i in actors[:10]:\n",
        "  print(\"This actor was in\", episode_count(i), 'episodes.')\n"
      ],
      "metadata": {
        "pycharm": {
          "name": "#%%\n"
        },
        "id": "zpRH0a-b0wHH",
        "outputId": "81c45ca8-e969-4129-89f4-36bbb9372e00",
        "colab": {
          "base_uri": "https://localhost:8080/"
        }
      }
    },
    {
      "cell_type": "markdown",
      "source": [
        "## Exercise 3\n",
        "\n",
        "In the code cell below, write a python function that takes a string input (the text from `asCharacter` field)\n",
        "and returns just the character name.  This one may be even a little harder!\n",
        "\n",
        "Hints:\n",
        "* notice the character name is usually followed by a forward slash, `/`\n",
        "* don't worry if your algorithm does not perfectly parse every character's name --\n",
        "it may not really be possible to correclty handle all cases because the field format does not follow consistent rules\n",
        "\n",
        "Add unit tests to cover as many cases from the `actors` data set above as you can.\n"
      ],
      "metadata": {
        "collapsed": false,
        "pycharm": {
          "name": "#%% md\n"
        },
        "id": "oXoWorF-0wHI"
      }
    },
    {
      "cell_type": "code",
      "execution_count": null,
      "outputs": [
        {
          "output_type": "stream",
          "name": "stdout",
          "text": [
            "Divine Predecessor \n",
            "Holo Cleric \n",
            "Holo Judge \n",
            "Blue Team Member \n",
            "E.J. Moss, Commander of Eagle 5 \n",
            "Lomea \n",
            "Road Worker \n",
            "Computer \n",
            "Black Pawn #3 \n",
            "Master of Ceremonies\n",
            "Brother Treygor\n",
            "Groo\n",
            "Thodin\n",
            "Kyoo\n",
            "Older Woman\n",
            "Gibble\n",
            "Dale\n",
            "Dream Girl #1\n",
            "Journalist #2\n",
            "Rockhound\n",
            "Professor Shnoog\n",
            "Middle Aged Son\n",
            "Guard #3\n",
            "Nurse\n",
            "Older Husband\n",
            "Older Wife\n",
            "Gypsy Servant\n",
            "Lace\n",
            "Survivalist\n",
            "Frankie\n",
            "Businessman\n",
            "Hank\n",
            "Guard #1\n",
            "Cmdr. Bricklin\n",
            "Computer\n",
            "\n"
          ]
        }
      ],
      "source": [
        "def character_name(asCharString):\n",
        "  \n",
        "  str_parse = asCharString['asCharacter'].split('/')\n",
        "  if len(str_parse) == 1:\n",
        "    reformat = str_parse[0].split() \n",
        "    i = 0\n",
        "    name = []\n",
        "    for i in range(len(reformat)):\n",
        "      \n",
        "      if reformat[i].isdigit() == True:\n",
        "        break\n",
        "      name.append(reformat[i])\n",
        "      i = i +1\n",
        "    \n",
        "    return ' '.join(name)\n",
        "  else:    \n",
        "    name = str_parse[0]\n",
        "  return name\n",
        "\n",
        "for i in actors[10::10]:\n",
        "  print(character_name(i))"
      ],
      "metadata": {
        "pycharm": {
          "name": "#%%\n"
        },
        "id": "WUakFXr50wHI",
        "colab": {
          "base_uri": "https://localhost:8080/"
        },
        "outputId": "ea0c071c-8276-4aa5-a4a0-351134c5dfeb"
      }
    },
    {
      "cell_type": "markdown",
      "source": [
        "\n",
        "## Exercise 4\n",
        "\n",
        "Using the functions you developed above, define 2 list comprehensions that:\n",
        "* create list of 2 tuples with (actor name, character description) for actors in Lexx  (from `asCharacter` field)\n",
        "* create a list of dictionaries, with keys:  'actor' and 'character' for the same data\n",
        "\n",
        "Hint: this is a very simple problem - the goal is to learn how to build these lists using a comprehension.\n",
        "\n",
        "Pretty print (pprint) your lists to visually verify the results."
      ],
      "metadata": {
        "id": "f_iRYAa3lqV0"
      }
    },
    {
      "cell_type": "code",
      "source": [
        "\n",
        "\n",
        "\n",
        "actorInRoleList = [(actors[i]['name'] , character_name(actors[i])) for i in range(len(actors))]\n",
        "\n",
        "actorInRoleDict = [{'Actor' : actors[i]['name'], 'Character' : character_name(actors[i])} for i in range(len(actors))]\n",
        "\n",
        "\n",
        "pprint(actorInRoleList[:5])\n",
        "pprint(actorInRoleDict)\n",
        "\n",
        "\n",
        "  "
      ],
      "metadata": {
        "id": "Ds1YevErlzCe",
        "pycharm": {
          "name": "#%%\n"
        },
        "colab": {
          "base_uri": "https://localhost:8080/"
        },
        "outputId": "e1345357-c9b5-44fd-f2f4-4472c77cb924"
      },
      "execution_count": null,
      "outputs": [
        {
          "output_type": "stream",
          "name": "stdout",
          "text": [
            "[('Brian Downey', 'Stanley H. Tweedle '),\n",
            " ('Michael McManus', 'Kai '),\n",
            " ('Jeffrey Hirschfield', '790 '),\n",
            " ('Xenia Seeberg', 'Xev Bellringer '),\n",
            " ('Tom Gallant', 'The Lexx')]\n",
            "[{'Actor': 'Brian Downey', 'Character': 'Stanley H. Tweedle '},\n",
            " {'Actor': 'Michael McManus', 'Character': 'Kai '},\n",
            " {'Actor': 'Jeffrey Hirschfield', 'Character': '790 '},\n",
            " {'Actor': 'Xenia Seeberg', 'Character': 'Xev Bellringer '},\n",
            " {'Actor': 'Tom Gallant', 'Character': 'The Lexx'},\n",
            " {'Actor': 'Nigel Bennett', 'Character': 'Prince '},\n",
            " {'Actor': 'Patricia Zentilli', 'Character': 'Bunny Priest '},\n",
            " {'Actor': 'Lex Gigeroff', 'Character': 'Bound Man '},\n",
            " {'Actor': 'Rolf Kanies', 'Character': 'Reginald J. Priest '},\n",
            " {'Actor': 'Louise Wischermann', 'Character': 'Lyekka '},\n",
            " {'Actor': 'John Dunsworth', 'Character': 'Divine Predecessor '},\n",
            " {'Actor': 'Walter Borden', 'Character': 'His Divine Shadow '},\n",
            " {'Actor': 'David Albiston', 'Character': 'Mothbreeder '},\n",
            " {'Actor': 'Minna Aaltonen', 'Character': 'Vlad '},\n",
            " {'Actor': 'Clive Sweeney', 'Character': 'Megashadow Adjutant '},\n",
            " {'Actor': 'Eva Habermann', 'Character': 'Zev Bellringer'},\n",
            " {'Actor': 'Ellen Dubin', 'Character': 'Giggerota '},\n",
            " {'Actor': 'Anna Cameron', 'Character': 'The Time Prophet '},\n",
            " {'Actor': 'Dieter Laser', 'Character': 'Mantrid'},\n",
            " {'Actor': 'Jeff Pustil', 'Character': 'Fifi '},\n",
            " {'Actor': 'David McClelland', 'Character': 'Holo Cleric '},\n",
            " {'Actor': 'Kevin Curran', 'Character': 'Dougall'},\n",
            " {'Actor': 'Jamie Bradley', 'Character': 'Jood '},\n",
            " {'Actor': 'Jeremy Akerman', 'Character': 'Transport Major '},\n",
            " {'Actor': 'Nicolás Artajo', 'Character': 'Child '},\n",
            " {'Actor': 'John Dartt', 'Character': 'Holo Lawyr '},\n",
            " {'Actor': 'Chas Lawther', 'Character': 'Video Customs Officer '},\n",
            " {'Actor': 'Todd Godin', 'Character': 'Mothbreeder '},\n",
            " {'Actor': 'Robert Sigl', 'Character': 'Petrif '},\n",
            " {'Actor': 'David Renton', 'Character': 'Joshua '},\n",
            " {'Actor': 'Lionel Doucette', 'Character': 'Holo Judge '},\n",
            " {'Actor': 'Ralph Brown', 'Character': 'Duke'},\n",
            " {'Actor': 'Anna Kathrin Bleuler', 'Character': 'May'},\n",
            " {'Actor': 'Tony Anholt', 'Character': 'Anchorman '},\n",
            " {'Actor': 'Tara Doyle', 'Character': 'Tina'},\n",
            " {'Actor': 'Gary Levert', 'Character': 'Lead Balloonist '},\n",
            " {'Actor': 'Jon K. Loverin', 'Character': 'Handler 2 '},\n",
            " {'Actor': 'Glenn Wadman', 'Character': 'Archaeologist '},\n",
            " {'Actor': 'Jennifer Overton', 'Character': 'Matron '},\n",
            " {'Actor': 'Geoff Herod', 'Character': 'Brock '},\n",
            " {'Actor': 'Glen Grant', 'Character': 'Blue Team Member '},\n",
            " {'Actor': 'Richard Donat', 'Character': 'Megashadow Admiral'},\n",
            " {'Actor': 'Gil Brenton', 'Character': 'Tem'},\n",
            " {'Actor': 'Barbara Kowa', 'Character': 'Wig Girl'},\n",
            " {'Actor': 'Bill Carr', 'Character': 'Correction Center Guard'},\n",
            " {'Actor': 'Sanjay Talwar', 'Character': 'Honar'},\n",
            " {'Actor': 'Clemens von Tubeuf', 'Character': 'Monk'},\n",
            " {'Actor': 'Gary Vermeir', 'Character': 'Scientist'},\n",
            " {'Actor': 'Jocelyn Cunningham', 'Character': 'Cluster Major'},\n",
            " {'Actor': 'Andrei Mahankov', 'Character': 'Rebel'},\n",
            " {'Actor': 'Stephen McHattie', 'Character': 'E.J. Moss, Commander of Eagle 5 '},\n",
            " {'Actor': 'Ryan Cooley', 'Character': 'Digby'},\n",
            " {'Actor': 'Mark A. Owen', 'Character': 'Big Angry Ed '},\n",
            " {'Actor': 'Janet Wright', 'Character': 'First Lady Priest '},\n",
            " {'Actor': 'Geoff McBride', 'Character': 'Moth Breeder '},\n",
            " {'Actor': 'Jenson Vaughan', 'Character': 'Moth Breeder'},\n",
            " {'Actor': 'Louis Del Grande', 'Character': 'Louie '},\n",
            " {'Actor': 'Brandon McCarvell', 'Character': 'Norb '},\n",
            " {'Actor': 'Holger Kunkel', 'Character': 'Boork '},\n",
            " {'Actor': 'Andrea Green', 'Character': 'Davinia Silver '},\n",
            " {'Actor': 'Lauren Abrahams', 'Character': 'Lomea '},\n",
            " {'Actor': 'Brian Carter', 'Character': '791 '},\n",
            " {'Actor': 'Linda Busby', 'Character': 'Chief Handler'},\n",
            " {'Actor': 'Peter Guinness', 'Character': 'Joseph Van Helsing'},\n",
            " {'Actor': 'Stephen Coats', 'Character': 'Dad '},\n",
            " {'Actor': 'Angie Hill', 'Character': 'Muffy '},\n",
            " {'Actor': 'Dan Fredenburgh', 'Character': 'Gordon'},\n",
            " {'Actor': 'Laura Mae Nason', 'Character': 'Dream Girl #2 '},\n",
            " {'Actor': 'Chris Duffy', 'Character': 'ATF Agent #1 '},\n",
            " {'Actor': 'Marem Hassler', 'Character': 'Skankita'},\n",
            " {'Actor': 'Michael Pellerin', 'Character': 'Road Worker '},\n",
            " {'Actor': 'Landy Cannon', 'Character': 'Root '},\n",
            " {'Actor': 'Rachel Mooney', 'Character': 'Mandragora Morgana '},\n",
            " {'Actor': 'Stephen J.M. Sisk', 'Character': 'Flintokk, Head Pimp Sister '},\n",
            " {'Actor': 'Andre Haines', 'Character': 'Doily '},\n",
            " {'Actor': 'Alan MacGillivray', 'Character': 'Argon Protopi '},\n",
            " {'Actor': 'Shaun Clarke', 'Character': 'Reteep '},\n",
            " {'Actor': 'Graham Pountney', 'Character': 'Commentator '},\n",
            " {'Actor': 'Sam White', 'Character': 'Rexal '},\n",
            " {'Actor': 'Andy Smith', 'Character': 'Eco Tourist #2 '},\n",
            " {'Actor': 'Angela Vermeir', 'Character': 'Computer '},\n",
            " {'Actor': 'Jack Carr', 'Character': 'Bellhop '},\n",
            " {'Actor': 'Sherry White', 'Character': 'Middle aged woman '},\n",
            " {'Actor': 'Mike Petersen', 'Character': '790 Robot '},\n",
            " {'Actor': 'Maury Chaykin', 'Character': 'Pa Gollean '},\n",
            " {'Actor': 'Lisa Hynes', 'Character': 'Original Xev '},\n",
            " {'Actor': 'Malcolm Younger', 'Character': 'Priest '},\n",
            " {'Actor': 'Amy Kerr', 'Character': 'Desh '},\n",
            " {'Actor': 'Jeri-Matti Helppi', 'Character': 'Peasant'},\n",
            " {'Actor': 'Cindy Sampson', 'Character': 'Druid Girl '},\n",
            " {'Actor': 'Joshua Young', 'Character': 'Black Pawn #3 '},\n",
            " {'Actor': 'Tom Tasse', 'Character': 'C.G.'},\n",
            " {'Actor': 'Gordon Patrick White', 'Character': 'Thief '},\n",
            " {'Actor': 'Simon Licht', 'Character': 'Dr. Kazan'},\n",
            " {'Actor': 'Lenore Zann', 'Character': 'The Dark Lady'},\n",
            " {'Actor': 'Page Fletcher', 'Character': 'Captain Jebbed'},\n",
            " {'Actor': 'Nina Franoszek', 'Character': 'Grand Prosecutor Jihana'},\n",
            " {'Actor': 'Earl Pastko', 'Character': 'Brizon'},\n",
            " {'Actor': 'Andrew Bigelow', 'Character': 'Enox'},\n",
            " {'Actor': 'Matthew Burton', 'Character': 'Brother Randor'},\n",
            " {'Actor': 'Jeremy Webb', 'Character': 'Master of Ceremonies'},\n",
            " {'Actor': 'Richard Braine', 'Character': 'Card Carrying Druid'},\n",
            " {'Actor': 'Nick Cawdron', 'Character': 'Deputy Festus Trout'},\n",
            " {'Actor': 'Tim Curry', 'Character': 'Poet Man'},\n",
            " {'Actor': 'Andy Jones', 'Character': 'Smoor'},\n",
            " {'Actor': 'Wayne Robson', 'Character': 'Gubby Mok'},\n",
            " {'Actor': 'Mary Walsh', 'Character': 'Heedia'},\n",
            " {'Actor': 'Andrew Bush', 'Character': 'Tad'},\n",
            " {'Actor': 'Susan Quinn', 'Character': 'Sissy Gollean'},\n",
            " {'Actor': 'Diego Chambers', 'Character': 'Aulk'},\n",
            " {'Actor': 'Matthias Klimsa', 'Character': 'Brother Treygor'},\n",
            " {'Actor': 'Barbara Schmied', 'Character': 'Slinka'},\n",
            " {'Actor': 'Polly Jo Pleasence', 'Character': 'Rivet'},\n",
            " {'Actor': 'Julia Haacke', 'Character': 'Lily'},\n",
            " {'Actor': 'David Christoffel', 'Character': 'Cellphone Druid'},\n",
            " {'Actor': 'Britt Ekland', 'Character': 'Dulcibella Sternflanks'},\n",
            " {'Actor': 'Polly Green', 'Character': 'Amber'},\n",
            " {'Actor': 'Kathryn Fraser', 'Character': 'Bereaved Mom'},\n",
            " {'Actor': 'Sandra Keller', 'Character': 'Nurse '},\n",
            " {'Actor': 'Dave Carmichael', 'Character': 'Junior Gollean'},\n",
            " {'Actor': 'Sharon Timmins', 'Character': 'Groo'},\n",
            " {'Actor': 'Sandra S. Leonhard', 'Character': 'Tish'},\n",
            " {'Actor': 'Terry Neason', 'Character': 'Wench'},\n",
            " {'Actor': 'Hephzibah Tintner', 'Character': 'Tulip'},\n",
            " {'Actor': 'Nicole Ciroth', 'Character': 'Minx'},\n",
            " {'Actor': 'Nick Ewans', 'Character': 'Colin'},\n",
            " {'Actor': 'Michael Best', 'Character': 'Merle'},\n",
            " {'Actor': 'Celia Henebury', 'Character': 'Didi Figgleshrick'},\n",
            " {'Actor': 'Mason Phillips', 'Character': 'Wyatt'},\n",
            " {'Actor': 'Donald Chisholm', 'Character': 'FBI Lieutenant'},\n",
            " {'Actor': 'Barry Bostwick', 'Character': 'Thodin'},\n",
            " {'Actor': 'Malcolm McDowell', 'Character': 'Yottskry'},\n",
            " {'Actor': 'Gerry Wolff', 'Character': 'Snik'},\n",
            " {'Actor': 'Kate Rose', 'Character': 'Holo Woman'},\n",
            " {'Actor': 'Roman Podhora', 'Character': 'L.L. Boosh'},\n",
            " {'Actor': 'Oliver Stern', 'Character': 'Dr. Funz'},\n",
            " {'Actor': 'Benjamin Sadler', 'Character': 'Nool'},\n",
            " {'Actor': 'Ellen-Ray Hennessy', 'Character': 'Rissha'},\n",
            " {'Actor': 'Nikki Barnett', 'Character': 'Kanana'},\n",
            " {'Actor': 'Kerry McPherson', 'Character': 'Skye'},\n",
            " {'Actor': 'Paul McQuillan', 'Character': 'Kyoo'},\n",
            " {'Actor': 'Diane Langton', 'Character': 'Hammer'},\n",
            " {'Actor': 'Urs Remond', 'Character': 'Cab'},\n",
            " {'Actor': 'Udo Jolly', 'Character': 'Dr. Bunz'},\n",
            " {'Actor': 'Sabrina Rattey', 'Character': 'Daisy'},\n",
            " {'Actor': 'Peter Blake', 'Character': 'Oliver'},\n",
            " {'Actor': 'Tim Frances', 'Character': 'Puck'},\n",
            " {'Actor': 'Howard Attfield', 'Character': 'Executive'},\n",
            " {'Actor': 'Agumeuay Nakanakis', 'Character': 'Native American Leader'},\n",
            " {'Actor': 'Danielle Dawe', 'Character': 'Tourist'},\n",
            " {'Actor': 'Lois Brown', 'Character': 'Older Woman'},\n",
            " {'Actor': 'Johnny Lomas', 'Character': 'Josh'},\n",
            " {'Actor': 'Andrulla Blanchette', 'Character': 'Queen of Sheba'},\n",
            " {'Actor': 'John Diamond', 'Character': 'Burl'},\n",
            " {'Actor': 'Rachel Grover', 'Character': \"Zev's Mother\"},\n",
            " {'Actor': 'Barbara Geiger', 'Character': 'Dr. Veezra'},\n",
            " {'Actor': 'David Lewis', 'Character': 'Fruitcake'},\n",
            " {'Actor': 'Stacy Smith', 'Character': 'Calico'},\n",
            " {'Actor': 'Susanna Metzner', 'Character': 'Lissha'},\n",
            " {'Actor': 'Martin Höner', 'Character': 'Older Brother'},\n",
            " {'Actor': 'Bruce Fillmore', 'Character': 'Gibble'},\n",
            " {'Actor': 'Joe Wynn', 'Character': 'New Born'},\n",
            " {'Actor': 'Ina Paule Klink', 'Character': 'Daffodil'},\n",
            " {'Actor': 'Jelena Budimir', 'Character': 'Socket'},\n",
            " {'Actor': 'Hans Brückner', 'Character': 'Zin'},\n",
            " {'Actor': 'Katrin Schrake', 'Character': 'Fox'},\n",
            " {'Actor': 'Craig Charles', 'Character': 'The Warden'},\n",
            " {'Actor': 'Jay Benedict', 'Character': 'Vet'},\n",
            " {'Actor': 'Brian Buckley', 'Character': 'George'},\n",
            " {'Actor': 'Alexis Conran', 'Character': 'Mustafa Al Hambra'},\n",
            " {'Actor': 'Bob Dearden', 'Character': 'Dale'},\n",
            " {'Actor': 'Patrick Gordon', 'Character': 'Oberon'},\n",
            " {'Actor': 'Rupert Evans', 'Character': 'Cleasby'},\n",
            " {'Actor': 'Rebecca Mordan', 'Character': 'Haley'},\n",
            " {'Actor': 'Kevin Deagle', 'Character': 'A.F.R. #1'},\n",
            " {'Actor': 'Hussi Kutlucan', 'Character': 'Orlluk'},\n",
            " {'Actor': 'Eva Ebner', 'Character': 'Mrs. Deebee'},\n",
            " {'Actor': 'Burgandy Code', 'Character': 'Navigator'},\n",
            " {'Actor': 'Tom Petry Strauss', 'Character': 'Brother Deal'},\n",
            " {'Actor': 'Peter Scollin', 'Character': 'Guard'},\n",
            " {'Actor': 'Lee-Anne Lowe', 'Character': 'Dream Girl #1'},\n",
            " {'Actor': 'Karl Lewis Johnston', 'Character': 'Glootus'},\n",
            " {'Actor': 'Robin Johnson', 'Character': 'Guard #1'},\n",
            " {'Actor': 'Rosemarie Friedrich', 'Character': 'The Wife'},\n",
            " {'Actor': 'Katja Richter', 'Character': 'Lynx'},\n",
            " {'Actor': 'David Matheson', 'Character': 'ATF Agent'},\n",
            " {'Actor': 'Rejean Cournoyer', 'Character': 'Earl'},\n",
            " {'Actor': 'David Charles', 'Character': 'Boy'},\n",
            " {'Actor': 'Mike Daly', 'Character': 'ATF Agent'},\n",
            " {'Actor': 'Stan Carew', 'Character': 'French Diplomat'},\n",
            " {'Actor': 'Karen Beverly', 'Character': 'Journalist #2'},\n",
            " {'Actor': 'Giovanni del Vecchio', 'Character': 'Marconi'},\n",
            " {'Actor': 'Togo Igawa', 'Character': 'Monk'},\n",
            " {'Actor': 'Finlay Robertson', 'Character': 'Ryan'},\n",
            " {'Actor': 'Rory MacGregor', 'Character': 'Mort the Mortician'},\n",
            " {'Actor': 'Doug Barron', 'Character': 'Secretary of Defense'},\n",
            " {'Actor': 'Shawn Duggan', 'Character': 'Survivalist #2'},\n",
            " {'Actor': 'Dennis Envoldsen', 'Character': 'Corporal Harrison Birdie'},\n",
            " {'Actor': 'Hans-Dieter Brückner', 'Character': 'Grullek'},\n",
            " {'Actor': 'Errol Shaker', 'Character': 'Administrator'},\n",
            " {'Actor': 'John Davie', 'Character': 'Rockhound'},\n",
            " {'Actor': 'Noah Dalton Danby', 'Character': 'Varrtan'},\n",
            " {'Actor': 'C.J. Lusby', 'Character': 'Nympho'},\n",
            " {'Actor': 'Harvey Friedman', 'Character': 'Guard'},\n",
            " {'Actor': 'Christian Murray', 'Character': ''},\n",
            " {'Actor': 'Lorraine Segato', 'Character': 'Time Prophet'},\n",
            " {'Actor': 'Philippe Roche', 'Character': 'Brother Stack '},\n",
            " {'Actor': 'Christian Murray', 'Character': 'Gold Lamé Man'},\n",
            " {'Actor': 'Jimmy Somerville', 'Character': 'Satin'},\n",
            " {'Actor': 'Rose Zone', 'Character': 'Bruise'},\n",
            " {'Actor': 'Clive Merrison', 'Character': 'Professor Shnoog'},\n",
            " {'Actor': 'Alun Lewis',\n",
            "  'Character': 'Uther de Glastonbury, formerly known as Nigel Bumsen'},\n",
            " {'Actor': 'John Gleeson', 'Character': 'Doctor'},\n",
            " {'Actor': 'David Francis', 'Character': 'Newfie'},\n",
            " {'Actor': 'Lee J. Campbell', 'Character': 'Journalist #1'},\n",
            " {'Actor': 'Melanie Harris', 'Character': 'Marjorie'},\n",
            " {'Actor': 'James Crossley', 'Character': 'Chad'},\n",
            " {'Actor': 'Philip Dinn', 'Character': 'Local'},\n",
            " {'Actor': 'Seán Cullen', 'Character': 'Remo'},\n",
            " {'Actor': 'Richard Hanson', 'Character': 'Devlin'},\n",
            " {'Actor': 'Geoffrey McLean', 'Character': 'Middle Aged Son'},\n",
            " {'Actor': 'Rainer Matsutani', 'Character': 'Brunnen-G General'},\n",
            " {'Actor': 'Arno Wyzniewski', 'Character': 'Kuk'},\n",
            " {'Actor': 'Ian T. Dickinson', 'Character': 'Berg'},\n",
            " {'Actor': 'Milton Welsh', 'Character': 'Rat II'},\n",
            " {'Actor': 'Thorsten Feller', 'Character': 'Liggum'},\n",
            " {'Actor': 'Amy Lonergan', 'Character': 'Dream Girl #3'},\n",
            " {'Actor': 'Alison McMullin', 'Character': 'Nympho'},\n",
            " {'Actor': 'Paul Day', 'Character': 'Consort'},\n",
            " {'Actor': 'Dick Sircom', 'Character': 'Judge'},\n",
            " {'Actor': 'Adrienne Horton', 'Character': 'Guard #3'},\n",
            " {'Actor': 'Peter Baylis', 'Character': 'First Balloonist'},\n",
            " {'Actor': 'Lionel Jeffries', 'Character': 'Father Borscht'},\n",
            " {'Actor': 'Mick Walter', 'Character': 'Titania'},\n",
            " {'Actor': 'Jim Fowler', 'Character': 'Rooster'},\n",
            " {'Actor': 'Ken Shipley', 'Character': 'Produce Manager'},\n",
            " {'Actor': 'Tom Haney', 'Character': 'Studio Guard'},\n",
            " {'Actor': 'Sam Douglas', 'Character': 'General Klebstock'},\n",
            " {'Actor': 'Mike Durling', 'Character': 'Joey'},\n",
            " {'Actor': 'Michael Habeck', 'Character': 'Feppo'},\n",
            " {'Actor': 'Tatjana Alexander', 'Character': 'Nurse'},\n",
            " {'Actor': 'Gabi Fleming', 'Character': 'Dead Female Body'},\n",
            " {'Actor': 'Lori Heath', 'Character': 'Hologram Guard'},\n",
            " {'Actor': 'Adrian Mattiske', 'Character': 'Young Copying Brother'},\n",
            " {'Actor': 'Janaya Stephens', 'Character': 'Peach'},\n",
            " {'Actor': 'Keith-Lee Castle', 'Character': 'Renfield'},\n",
            " {'Actor': 'Jeremy Peters', 'Character': 'Surgeon'},\n",
            " {'Actor': 'Jason Hemsworth', 'Character': 'Secret Service Agent'},\n",
            " {'Actor': 'Andrea Dymond', 'Character': 'Goth Prisoner'},\n",
            " {'Actor': 'Michael J. Reynolds', 'Character': 'Colonel Donald K. Gore'},\n",
            " {'Actor': 'William Parsons', 'Character': 'Older Husband'},\n",
            " {'Actor': 'Nancy Marshall', 'Character': 'Geekette'},\n",
            " {'Actor': 'Rick Collins', 'Character': 'Fat Man'},\n",
            " {'Actor': 'Greg Cormier', 'Character': 'Bound Man'},\n",
            " {'Actor': 'Thomas Arnicke', 'Character': 'Bodyguard'},\n",
            " {'Actor': 'Wanja Mues', 'Character': 'Pearl'},\n",
            " {'Actor': 'Robyn Palmer', 'Character': 'Pear'},\n",
            " {'Actor': 'Martha Irving', 'Character': 'Doris'},\n",
            " {'Actor': 'Travis Ferris', 'Character': 'Guard #2'},\n",
            " {'Actor': 'Kevin LeBlanc', 'Character': 'FBI Agent #1'},\n",
            " {'Actor': 'Mary Alvena Poole', 'Character': 'Older Wife'},\n",
            " {'Actor': 'Paul Jessen', 'Character': 'ATF Officer'},\n",
            " {'Actor': 'Jim Petrie', 'Character': 'Gorrett'},\n",
            " {'Actor': 'Terry Nicholas', 'Character': 'First Babe'},\n",
            " {'Actor': 'Al Mueller', 'Character': 'Bodyguard'},\n",
            " {'Actor': 'Roberta Angelica', 'Character': 'Plum'},\n",
            " {'Actor': 'Roger Tebb', 'Character': 'Silk'},\n",
            " {'Actor': 'Robert Maillet', 'Character': 'Leroy'},\n",
            " {'Actor': 'Frank Kelly', 'Character': 'Father Pickle'},\n",
            " {'Actor': 'Richard Hards', 'Character': 'Nelson'},\n",
            " {'Actor': 'Arthur Spray', 'Character': 'Gypsy Servant'},\n",
            " {'Actor': 'Bill Jessome', 'Character': 'Chief Justice'},\n",
            " {'Actor': 'Kelsa Kinsly', 'Character': 'Slave Girl'},\n",
            " {'Actor': 'Jesse Lund', 'Character': 'Rod'},\n",
            " {'Actor': 'Stephanie Redding', 'Character': 'Twin Daughter'},\n",
            " {'Actor': 'Sherry Devanney', 'Character': 'Kyyra'},\n",
            " {'Actor': 'Lisa Wong', 'Character': 'Second Babe'},\n",
            " {'Actor': 'Dave Maddeaux', 'Character': 'Male Customer'},\n",
            " {'Actor': 'Mirko Szabo', 'Character': 'Bodyguard'},\n",
            " {'Actor': 'Mika Ward', 'Character': 'Cherry'},\n",
            " {'Actor': 'Georg Tryphon', 'Character': 'Lace'},\n",
            " {'Actor': 'John Standing', 'Character': 'Count Dracul'},\n",
            " {'Actor': 'Chris Owens', 'Character': 'Biff'},\n",
            " {'Actor': 'Hattie Hayridge', 'Character': 'Sub-Warden Heidi'},\n",
            " {'Actor': 'Bette MacDonald', 'Character': 'Marge'},\n",
            " {'Actor': 'Madeleine Lefebvre', 'Character': 'Eco Tourist #1'},\n",
            " {'Actor': 'Gareth Miller', 'Character': 'Lieutenant'},\n",
            " {'Actor': 'John Lebar', 'Character': 'The Mummy - Draco'},\n",
            " {'Actor': 'Ryan McCluskey', 'Character': 'Tad'},\n",
            " {'Actor': 'Nicole Redding', 'Character': 'Dead Twin Daughter'},\n",
            " {'Actor': 'Cleveland Sauer', 'Character': 'Survivalist'},\n",
            " {'Actor': 'Joel Sapp', 'Character': 'Bleeding Cleric '},\n",
            " {'Actor': 'Sebastian Kokot', 'Character': 'Bodyguard'},\n",
            " {'Actor': 'Renate Spona', 'Character': 'Guard #1'},\n",
            " {'Actor': 'Ed Macdonald', 'Character': 'Leo'},\n",
            " {'Actor': 'Maggie Holland', 'Character': 'Elderly Lady'},\n",
            " {'Actor': 'Nunzio Lombardo', 'Character': 'Valentino'},\n",
            " {'Actor': 'Stephen Morgan', 'Character': 'Chip'},\n",
            " {'Actor': 'Dan Steeves', 'Character': 'Store Guard'},\n",
            " {'Actor': 'Marguerite McNeil', 'Character': 'Stress Counselor'},\n",
            " {'Actor': 'Dominic Pallotta', 'Character': 'Frankie'},\n",
            " {'Actor': 'Oliver Stolz', 'Character': 'Bodyguard'},\n",
            " {'Actor': 'Sabine Winterfeldt', 'Character': 'Guard #2'},\n",
            " {'Actor': \"Ross O'Hennessy\", 'Character': 'Cedric'},\n",
            " {'Actor': 'Alec Linstead', 'Character': 'Cardinal Meinpo Duftet'},\n",
            " {'Actor': 'Douglas Mayr', 'Character': 'Bartender'},\n",
            " {'Actor': 'James Reeve', 'Character': 'Sheriff'},\n",
            " {'Actor': 'Laura Patch', 'Character': 'Piccalina'},\n",
            " {'Actor': 'Jeremiah Sparks', 'Character': 'Cabbie'},\n",
            " {'Actor': 'Thordis König', 'Character': 'Guard #3'},\n",
            " {'Actor': 'David Verrey', 'Character': 'Businessman'},\n",
            " {'Actor': 'Justin Pierre', 'Character': 'Bob'},\n",
            " {'Actor': 'Rhonda McLean', 'Character': 'Mom'},\n",
            " {'Actor': 'Julia Moore', 'Character': 'Truro'},\n",
            " {'Actor': 'Lydia Klenck', 'Character': 'Shower Nude #1'},\n",
            " {'Actor': 'Tricia Taylor', 'Character': 'Love Slave Wrestler'},\n",
            " {'Actor': 'Jason Sweeney', 'Character': 'Rex'},\n",
            " {'Actor': 'Lenuta Sim', 'Character': 'Dancing Twin #2'},\n",
            " {'Actor': 'Gina Fischer', 'Character': 'Guard #4'},\n",
            " {'Actor': 'Craig Wood', 'Character': 'Chief Guard'},\n",
            " {'Actor': 'Silvio Simac', 'Character': 'Hank'},\n",
            " {'Actor': 'Heather Rankin', 'Character': 'Phoebe'},\n",
            " {'Actor': 'John Pearson', 'Character': 'Cobra'},\n",
            " {'Actor': 'Beth Mahaney', 'Character': 'Shower Nude #2'},\n",
            " {'Actor': 'Bruce Murphy', 'Character': 'Junior'},\n",
            " {'Actor': 'Heidi von Palleske', 'Character': 'Slave Girl'},\n",
            " {'Actor': 'Matt Zimmerman', 'Character': 'Supervisor'},\n",
            " {'Actor': 'Mariana Sim', 'Character': 'Dancing Twin #1'},\n",
            " {'Actor': 'Jana Piehl', 'Character': 'Guard #5'},\n",
            " {'Actor': 'Jamie Sparks', 'Character': 'Passenger'},\n",
            " {'Actor': 'Peter James', 'Character': 'Guard #1'},\n",
            " {'Actor': 'Raymond Solomon', 'Character': 'Jacques'},\n",
            " {'Actor': 'Maisie Rillie', 'Character': 'Sharon'},\n",
            " {'Actor': 'Andy Gatjen', 'Character': 'Ridolan'},\n",
            " {'Actor': 'Shooglenifty', 'Character': 'Themselves'},\n",
            " {'Actor': 'Rupert Solomon', 'Character': 'Pierce'},\n",
            " {'Actor': 'Marcos Troy', 'Character': 'Malik'},\n",
            " {'Actor': 'Malcolm Cosbie', 'Character': 'Self - Band'},\n",
            " {'Actor': 'David Woods', 'Character': 'Yoyal'},\n",
            " {'Actor': 'Georgia Zaris', 'Character': \"Farley's Assistant\"},\n",
            " {'Actor': 'Jim Swansburg', 'Character': 'Cmdr. Bricklin'},\n",
            " {'Actor': 'Garry Finlayson', 'Character': 'Self - Band'},\n",
            " {'Actor': 'Craig Gaskin', 'Character': 'Self - Band'},\n",
            " {'Actor': 'Josh MacDonald', 'Character': 'Sergeant'},\n",
            " {'Actor': 'Angus Grant', 'Character': 'Self - Band'},\n",
            " {'Actor': 'Ian MacLeod', 'Character': 'Self - Band'},\n",
            " {'Actor': 'Conrad Molleson', 'Character': 'Self - Band'},\n",
            " {'Actor': 'Horst Ulan', 'Character': 'Cluster General'},\n",
            " {'Actor': 'Stephen J. Turnbull', 'Character': 'Fore Shadow Officer'},\n",
            " {'Actor': 'Andrew Smith', 'Character': 'Cleric'},\n",
            " {'Actor': 'Janice Evens', 'Character': 'Computer'},\n",
            " {'Actor': 'Marty Simon', 'Character': 'Brain No.'},\n",
            " {'Actor': 'Elizabeth Richardson', 'Character': 'Holo Prosecutor'},\n",
            " {'Actor': 'Joseph Rutten', 'Character': 'Slab Prisoner'},\n",
            " {'Actor': 'Chris Rowntree', 'Character': 'Holo Official'},\n",
            " {'Actor': 'Rutger Hauer', 'Character': 'Bog'},\n",
            " {'Actor': 'Doreen Jacobi', 'Character': 'Wist'},\n",
            " {'Actor': 'Darcy Lindzon', 'Character': 'Air Force One Attendant'},\n",
            " {'Actor': 'David Alexander Miller', 'Character': \"Duke's Guard \"},\n",
            " {'Actor': 'J. William Grantham', 'Character': 'ATF Agent (uncredited)'},\n",
            " {'Actor': 'Rick Courtney', 'Character': ''},\n",
            " {'Actor': 'Alexander Baier', 'Character': 'Additional Girl (uncredited)'},\n",
            " {'Actor': 'Craig Dawson', 'Character': 'Klassp (uncredited)'},\n",
            " {'Actor': 'Nikki Timmons', 'Character': 'Background (uncredited)'},\n",
            " {'Actor': 'Hank White', 'Character': 'French Diplomat (uncredited)'}]\n"
          ]
        }
      ]
    },
    {
      "cell_type": "markdown",
      "source": [
        "## EXERCISE 3\n",
        "\n",
        "NAME: Graham Swanston\n",
        "\n",
        "DATE: Jan. 28\n",
        "\n",
        "Practice making classes to work with IMDB API"
      ],
      "metadata": {
        "id": "OCY-CBfZUzvO"
      }
    },
    {
      "cell_type": "code",
      "source": [
        "class seriesActor:\n",
        "\n",
        "  \"\"\"representation of an actor to populate with data from IMDB API\"\"\"\n",
        "\n",
        "  def __init__(self, name, character, episodes):\n",
        "    self.name = name\n",
        "    self.character = character\n",
        "    self.episodes = episodes\n",
        "\n",
        "  def __str__(self):\n",
        "    return str(self.name) + \" plays \" + str(self.character) + \" in \" + str(self.episodes) + \" episodes.\"\n",
        "\n",
        "test = seriesActor('graham', 'student', 'infinite')\n",
        "\n",
        "print(test)\n",
        "\n",
        "actorObjects = [seriesActor(actors[i]['name'], character_name(actors[i]), episode_count(actors[i])) for i in range(len(actors))]\n",
        "\n",
        "print(actorObjects[0])"
      ],
      "metadata": {
        "id": "LQ5fp0v5Pdje",
        "colab": {
          "base_uri": "https://localhost:8080/"
        },
        "outputId": "71d4a7d3-5ed7-4500-f115-48a5b4048bfa"
      },
      "execution_count": null,
      "outputs": [
        {
          "output_type": "stream",
          "name": "stdout",
          "text": [
            "graham plays student in infinite episodes.\n",
            "Brian Downey plays Stanley H. Tweedle  in 61 episodes.\n"
          ]
        }
      ]
    },
    {
      "cell_type": "markdown",
      "source": [
        " ### questions\n",
        " what advantage(s) does a class / object have over a simple tuple or dictionary for\n",
        "representing a record?\n",
        "\n",
        "• Is it possible to call the methods defined by a class in the “normal” way, where the object is\n",
        "simply passed as the first parameter? How? (May take some experimenting).\\\n",
        "###answers\n",
        "It is much easier to store and break up information into easily accesible bits\n",
        "generally cleaner, shorter code\n",
        "\n",
        "if you pass the required states of the object as parameters "
      ],
      "metadata": {
        "id": "R799BS2aeiFj"
      }
    },
    {
      "cell_type": "markdown",
      "source": [
        "Define a TvSeries class. The init method takes the id for an IMDb TV Series, fetches the record\n",
        "and stores some key values (like id, title, date). You should define a helper method to parse\n",
        "the date from the description field.\n",
        "\n",
        "• Define an Actor class. The init method takes the id for an IMDb Actor, fetches the record, and\n",
        "stores some key values (like id, name, birthDate)\n",
        "\n",
        "• Define a Character class. The init method takes a TVSeries object and an Actor object, along\n",
        "with name of the character played by that Actor, and the number of episodes they were in.\n",
        "\n",
        "• Add an accessor method to your TvSeries class to get a rating for the series. Take one\n",
        "parameter, the type of rating, and return the rating, if available, otherwise None.\n",
        "\n",
        "• Add an accessor method to your TvSeries class to get a list of Character objects for the series.\n",
        "You will need the parse functions you wrote in Lab 2, consider integrating them here as helper\n",
        "methods."
      ],
      "metadata": {
        "id": "Jc9YhTHIf0cL"
      }
    },
    {
      "cell_type": "code",
      "source": [
        "\"\"\"\n",
        "API_KEY = 'k_ynffhhna'\n",
        "\n",
        "id= 'tt1486217'\n",
        "url = \"https://imdb-api.com/en/API/Title/{key}/{ID}\".format(key=API_KEY, ID=id)\n",
        "#https://imdb-api.com/en/API/Title/k_12345678/tt0110413\n",
        "\n",
        "response = requests.request(\"GET\", url, headers={}, data={})\n",
        "data = json.loads(response.text)  # recall json.loads for lab 1\n",
        "print(keys(results))\n",
        "\n",
        "\"\"\"\n",
        "class TvSeries:\n",
        "\n",
        "  \"\"\"Get the info for TV series from IMDP API\"\"\"\n",
        "  \n",
        "\n",
        "  def __init__(self, showID):\n",
        "    self.ID = showID\n",
        "    \n",
        "    API_KEY = 'k_ynffhhna'\n",
        "    url = \"https://imdb-api.com/en/API/Title/{key}/{ID}\".format(key=API_KEY, ID=id)\n",
        "    response = requests.request(\"GET\", url, headers={}, data={})\n",
        "    data = json.loads(response.text)  # recall json.loads for lab 1\n",
        "    \n",
        "    self.title = data['title']\n",
        "    self.description = data['plot']\n",
        "\n",
        "  def __str__(self):\n",
        "    return self.title + \" is identified by \" + self.ID + \" in IMDB's API and is described as follows: \" + self.description\n",
        "\n",
        "\n",
        "class Actor:\n",
        "  \n",
        "    \"\"\"Get the info for an Actor from IMDP API\"\"\"\n",
        "  \n",
        "\n",
        "    def __init__(self, name):\n",
        "\n",
        "      API_KEY = 'k_ynffhhna'\n",
        "      url = \"https://imdb-api.com/en/API/SearchName/{key}/{Name}\".format(key=API_KEY, Name=name)\n",
        "      response = requests.request(\"GET\", url, headers={}, data={})\n",
        "      data = json.loads(response.text)  # recall json.loads for lab 1\n",
        "      if len(data['results']) == 1:\n",
        "        results = data['results']\n",
        "\n",
        "        self.ID = results[0]['id']\n",
        "\n",
        "        url2 = \"https://imdb-api.com/en/API/Name/{key}/{ID}\".format(key=API_KEY, ID = str(self.ID))\n",
        "        response2 = requests.request(\"GET\", url2, headers={}, data={})\n",
        "        deeperData = json.loads(response2.text)  # recall json.loads for lab 1\n",
        "        \n",
        "        self.birthDay = deeperData['birthDate']\n",
        "        self.name = deeperData['name']\n",
        "\n",
        "      else:\n",
        "        print('More than one result. Try again')\n",
        "\n",
        "    def __str__(self):\n",
        "      return self.name + \" is identified by \" + self.ID + \" in IMDB's API and was born on: \" + self.birthDay\n",
        "\n",
        "testOne = Actor('Timothée chalamet')\n",
        "print(testOne)\n"
      ],
      "metadata": {
        "colab": {
          "base_uri": "https://localhost:8080/"
        },
        "id": "0l-QMQSaf8mQ",
        "outputId": "02f5c0a8-d5cd-4e05-99e4-b5c9b0267b17"
      },
      "execution_count": null,
      "outputs": [
        {
          "output_type": "stream",
          "name": "stdout",
          "text": [
            "Timothée Chalamet is identified by nm3154303 in IMDB's API and was born on: 1995-12-27\n"
          ]
        }
      ]
    }
  ]
}