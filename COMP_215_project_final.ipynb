{
  "nbformat": 4,
  "nbformat_minor": 0,
  "metadata": {
    "colab": {
      "name": "COMP-215_project_final.ipynb",
      "provenance": [],
      "authorship_tag": "ABX9TyPFy5pIRtlEDsjfonJpGAby",
      "include_colab_link": true
    },
    "kernelspec": {
      "name": "python3",
      "display_name": "Python 3"
    },
    "language_info": {
      "name": "python"
    }
  },
  "cells": [
    {
      "cell_type": "markdown",
      "metadata": {
        "id": "view-in-github",
        "colab_type": "text"
      },
      "source": [
        "<a href=\"https://colab.research.google.com/github/grahamswanston/cap-comp215/blob/main/COMP_215_project_final.ipynb\" target=\"_parent\"><img src=\"https://colab.research.google.com/assets/colab-badge.svg\" alt=\"Open In Colab\"/></a>"
      ]
    },
    {
      "cell_type": "markdown",
      "source": [
        "### GAME OF LIFE PATTERNS\n",
        "\n",
        "Graham Swanston\n",
        "\n",
        "March 1st, 2022"
      ],
      "metadata": {
        "id": "9ARduZCrYEot"
      }
    },
    {
      "cell_type": "code",
      "source": [
        "import json, requests\n",
        "import matplotlib.pyplot as plt\n",
        "from pprint import pprint\n",
        "import os\n",
        "import re"
      ],
      "metadata": {
        "id": "-lijLODcdt8q"
      },
      "execution_count": 11,
      "outputs": []
    },
    {
      "cell_type": "code",
      "execution_count": 13,
      "metadata": {
        "colab": {
          "base_uri": "https://localhost:8080/"
        },
        "id": "UPBai_9uXv3R",
        "outputId": "7ce62736-ddb6-4c86-a713-85883d7edf35"
      },
      "outputs": [
        {
          "output_type": "execute_result",
          "data": {
            "text/plain": [
              "{'glider': 'glider.rle',\n",
              " 'hwss': 'hwss.rle',\n",
              " 'lwss': 'lwss.rle',\n",
              " 'mwss': 'mwss.rle'}"
            ]
          },
          "metadata": {},
          "execution_count": 13
        }
      ],
      "source": [
        "\"\"\" BUILT OFF of Josephs in lab example\"\"\"\n",
        "\n",
        "\n",
        "PATTERN_SITE = 'https://conwaylife.com/patterns'\n",
        "PATTERNS = ('glider','lwss', 'mwss', 'hwss')\n",
        "\n",
        "FOLDER = 'patterns'\n",
        "os.mkdir(FOLDER)\n",
        "\n",
        "def getPatternFile(patternName):\n",
        "  \"\"\" Loads the RLE file for the given pattern name from the PATTERN_SITE\"\"\"\n",
        "  patternFile = '{name}.rle'.format(name = patternName)\n",
        "  url = os.path.join(PATTERN_SITE, patternFile)\n",
        "  response = requests.request(\"GET\", url, headers={}, data={})\n",
        "  with open(patternFile, 'w') as outfile:\n",
        "    outfile.write(response.text)\n",
        "  return patternFile\n",
        "\n",
        "pattern_files = {\n",
        "    pattern : getPatternFile(pattern) for pattern in patternName\n",
        "}\n",
        "\n",
        "pattern_files"
      ]
    }
  ]
}