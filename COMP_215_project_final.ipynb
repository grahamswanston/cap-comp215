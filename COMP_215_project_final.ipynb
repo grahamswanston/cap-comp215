{
  "nbformat": 4,
  "nbformat_minor": 0,
  "metadata": {
    "colab": {
      "name": "COMP-215_project_final.ipynb",
      "provenance": [],
      "collapsed_sections": [],
      "authorship_tag": "ABX9TyMv2vGqA9JOKH1XSKAwj9yW",
      "include_colab_link": true
    },
    "kernelspec": {
      "name": "python3",
      "display_name": "Python 3"
    },
    "language_info": {
      "name": "python"
    }
  },
  "cells": [
    {
      "cell_type": "markdown",
      "metadata": {
        "id": "view-in-github",
        "colab_type": "text"
      },
      "source": [
        "<a href=\"https://colab.research.google.com/github/grahamswanston/cap-comp215/blob/main/COMP_215_project_final.ipynb\" target=\"_parent\"><img src=\"https://colab.research.google.com/assets/colab-badge.svg\" alt=\"Open In Colab\"/></a>"
      ]
    },
    {
      "cell_type": "markdown",
      "source": [
        "### GAME OF LIFE PATTERNS\n",
        "\n",
        "Graham Swanston\n",
        "\n",
        "March 1st, 2022"
      ],
      "metadata": {
        "id": "9ARduZCrYEot"
      }
    },
    {
      "cell_type": "code",
      "source": [
        "import json, requests\n",
        "import matplotlib.pyplot as plt\n",
        "from pprint import pprint\n",
        "import os\n",
        "import re\n",
        "from genericpath import exists\n",
        "import numpy as np\n"
      ],
      "metadata": {
        "id": "-lijLODcdt8q"
      },
      "execution_count": 35,
      "outputs": []
    },
    {
      "cell_type": "markdown",
      "source": [
        "###Retrieving files\n",
        "\n",
        "There are thousands of patterns possible in the game of life that are retrievable from the internet. The next code window retrieves these patterns and stores them for later use in a GoL simulation\n"
      ],
      "metadata": {
        "id": "_AFvo5JzhnNZ"
      }
    },
    {
      "cell_type": "code",
      "execution_count": 20,
      "metadata": {
        "id": "UPBai_9uXv3R"
      },
      "outputs": [],
      "source": [
        "\n",
        "\"\"\" BUILT OFF of Josephs in lab example\"\"\"\n",
        "\n",
        "\n",
        "PATTERN_SITE = 'https://conwaylife.com/patterns'\n",
        "PATTERNS = ('glider','lwss', 'mwss', 'hwss', '3-engine Cordership gun')\n",
        "\n",
        "FOLDER = 'patterns'\n",
        "if not os.path.exists(FOLDER):\n",
        "  os.mkdir(FOLDER)\n",
        "\n",
        "def getPatternFile(patternName):\n",
        "  \"\"\" Loads the RLE file for the given pattern name from the PATTERN_SITE\"\"\"\n",
        "  patternFile = '{name}.rle'.format(name = patternName)\n",
        "  url = os.path.join(PATTERN_SITE, patternFile)\n",
        "  response = requests.request(\"GET\", url, headers={}, data={})\n",
        "  with open(os.path.join(FOLDER, patternFile), 'w') as outfile:\n",
        "    outfile.write(response.text)\n",
        "  return patternFile\n",
        "\n",
        "pattern_files = {\n",
        "    pattern : getPatternFile(pattern) for pattern in PATTERNS\n",
        "}"
      ]
    },
    {
      "cell_type": "markdown",
      "source": [
        "With the files retrieved, the RLE format they are stored in must be converted to a usable state for our simulation. The code below extracts the data related to the desired pattern and stores it in a dictionary keyed to its given name"
      ],
      "metadata": {
        "id": "FgpBOyGtiev0"
      }
    },
    {
      "cell_type": "code",
      "source": [
        "\n",
        "#TODO\n",
        "#---DONE---pull desired string out of open file\n",
        "#---DONE---run an algorithm that converts string into string of 0s and 1s to be used in initial state creator for cell2D\n",
        "def extract_RLE_string(name):\n",
        "  \"\"\"\n",
        "  Retrives the rle format string for the initial cell states of desired pattern\n",
        "  \"\"\"\n",
        "\n",
        "  with open(('/content/patterns/{name}.rle').format(name=name), 'r') as file:\n",
        "    num_lines = sum(1 for line in file)\n",
        "    if num_lines <= 6:\n",
        "     file.seek(0, 0)\n",
        "     pattern = file.readlines()[-1]\n",
        "     return pattern\n",
        "    else:\n",
        "      print('error, file too long') #TODO add long file case\n",
        "    return\n",
        "\n",
        "extract_RLE_string('glider')\n",
        "\n",
        "def RLE_to_add_cells(name):\n",
        "  \"\"\"\n",
        "  read the input string and convert in to an np.array kernal to overlay into initail cell2D state\n",
        "  \"\"\"\n",
        "  RLE_string = makeStrTrueLen(extract_RLE_string(name))\n",
        "  RLE_string = RLE_string.replace('b', '0')\n",
        "  RLE_string= RLE_string.replace('o', '1')\n",
        "  RLE_string= RLE_string.replace('!', '')\n",
        "\n",
        "  \n",
        "  strParts = RLE_string.split('$')\n",
        "  if len(strParts[0]) != len(strParts[-1]):\n",
        "    strParts[-1] += '0'\n",
        "  print(strParts)\n",
        "  for i, s in enumerate(strParts):\n",
        "    print(i,s)\n",
        "  return strParts\n",
        "    \n",
        "  \"\"\"\n",
        "  # removed to simplify usage with Cell2D object, returns list of strings to use\n",
        "  #with Cell2D.add_cells method\n",
        "\n",
        "  array = np.zeros((len(strParts), len(strParts[0])), np.uint8)\n",
        " \n",
        "  for i, s in enumerate(strParts):\n",
        "    array[i] = [int(c) for c in s]\n",
        "    print(s)\n",
        "  print(array)\n",
        "  \"\"\"\n",
        "#format retrieved string to remove digit stored repeated values\n",
        "def makeStrTrueLen(s):\n",
        "  s_list = list(s)\n",
        "  #get index location of ints in s_list, store in num_location --DONE--\n",
        "  numLocation = []\n",
        "  for i in range(len(s_list)):\n",
        "    if str(s_list[i]).isdigit() == True:\n",
        "      numLocation.append(i)\n",
        "  \n",
        "  #read through num location, take value of int, char in s_list n+1 and \n",
        "  #replace the int in num location with (int-1)*char of n+1 \n",
        "  counter = 0\n",
        "  for counter in range(len(numLocation)):\n",
        "    index = numLocation[counter]\n",
        "    multiplyer = s_list[index]\n",
        "    s_list[index] = s_list[index + 1] * (int(multiplyer) - 1)\n",
        "\n",
        "  trueLenRLE = ''.join(s_list)\n",
        "  print(trueLenRLE)\n",
        "\n",
        "  return trueLenRLE\n",
        "\n",
        "\n",
        "RLE_to_add_cells('glider')\n",
        "RLE_to_add_cells('lwss')\n"
      ],
      "metadata": {
        "colab": {
          "base_uri": "https://localhost:8080/"
        },
        "id": "0VCESvc4hm4c",
        "outputId": "b90b8729-a1cd-4680-f319-0692bf81e7d3"
      },
      "execution_count": 55,
      "outputs": [
        {
          "output_type": "stream",
          "name": "stdout",
          "text": [
            "bob$bbo$ooo!\n",
            "['010', '001', '111']\n",
            "0 010\n",
            "1 001\n",
            "2 111\n",
            "bobbo$obbbb$obbbo$oooo!\n",
            "['01001', '10000', '10001', '11110']\n",
            "0 01001\n",
            "1 10000\n",
            "2 10001\n",
            "3 11110\n"
          ]
        },
        {
          "output_type": "execute_result",
          "data": {
            "text/plain": [
              "['01001', '10000', '10001', '11110']"
            ]
          },
          "metadata": {},
          "execution_count": 55
        }
      ]
    },
    {
      "cell_type": "code",
      "source": [
        "\"\"\"\n",
        "Copy of cell2D object from https://raw.githubusercontent.com/pearcej/complex-colab/master/notebooks/Cell2D.py\n",
        "\"\"\"\n",
        "if not os.path.exists('utils.py'):\n",
        "    !wget https://raw.githubusercontent.com/AllenDowney/ThinkComplexity2/master/notebooks/utils.py\n",
        "\n",
        "if not os.path.exists('Cell2D.py'):\n",
        "  !wget  https://raw.githubusercontent.com/pearcej/complex-colab/master/notebooks/Cell2D.py\n",
        "\n",
        "%matplotlib inline\n",
        "\n",
        "import matplotlib.pyplot as plt\n",
        "import numpy as np\n",
        "import seaborn as sns\n",
        "\n",
        "from utils import decorate\n",
        "\n",
        "from scipy.signal import correlate2d\n",
        "from Cell2D import Cell2D\n",
        "\n",
        "class Life(Cell2D):\n",
        "    \"\"\"Implementation of Conway's Game of Life.\"\"\"\n",
        "    kernel = np.array([[1, 1, 1],\n",
        "                       [1,10, 1],\n",
        "                       [1, 1, 1]])\n",
        "\n",
        "    table = np.zeros(20, dtype=np.uint8)\n",
        "    table[[3, 12, 13]] = 1\n",
        "\n",
        "    def step(self):\n",
        "        \"\"\"Executes one time step.\"\"\"\n",
        "        c = correlate2d(self.array, self.kernel, mode='same')\n",
        "        self.array = self.table[c]\n"
      ],
      "metadata": {
        "id": "dN6XeshAAir1"
      },
      "execution_count": 53,
      "outputs": []
    },
    {
      "cell_type": "markdown",
      "source": [
        "### Test Rig for various Game of life States"
      ],
      "metadata": {
        "id": "nQL5OhHbBfxO"
      }
    },
    {
      "cell_type": "code",
      "source": [
        "its_alive = Life(25,25)\n",
        "its_alive.add_cells(0,2, RLE_to_add_cells('glider'))\n",
        "its_alive.animate(10, 0.5)"
      ],
      "metadata": {
        "colab": {
          "base_uri": "https://localhost:8080/",
          "height": 632
        },
        "id": "NBeAwJxFBpRt",
        "outputId": "8b6e396a-f60b-427e-c52a-0dcb8d95f115"
      },
      "execution_count": 58,
      "outputs": [
        {
          "output_type": "stream",
          "name": "stdout",
          "text": [
            "bob$bbo$ooo!\n",
            "['010', '001', '111']\n",
            "0 010\n",
            "1 001\n",
            "2 111\n"
          ]
        },
        {
          "output_type": "display_data",
          "data": {
            "image/png": "[encoded data removed]",
            "text/plain": [
              "<Figure size 432x288 with 1 Axes>"
            ]
          },
          "metadata": {}
        },
        {
          "output_type": "error",
          "ename": "IndexError",
          "evalue": "ignored",
          "traceback": [
            "\u001b[0;31m---------------------------------------------------------------------------\u001b[0m",
            "\u001b[0;31mIndexError\u001b[0m                                Traceback (most recent call last)",
            "\u001b[0;32m<ipython-input-58-03748779f5c1>\u001b[0m in \u001b[0;36m<module>\u001b[0;34m()\u001b[0m\n\u001b[1;32m      1\u001b[0m \u001b[0mits_alive\u001b[0m \u001b[0;34m=\u001b[0m \u001b[0mLife\u001b[0m\u001b[0;34m(\u001b[0m\u001b[0;36m25\u001b[0m\u001b[0;34m,\u001b[0m\u001b[0;36m25\u001b[0m\u001b[0;34m)\u001b[0m\u001b[0;34m\u001b[0m\u001b[0;34m\u001b[0m\u001b[0m\n\u001b[1;32m      2\u001b[0m \u001b[0mits_alive\u001b[0m\u001b[0;34m.\u001b[0m\u001b[0madd_cells\u001b[0m\u001b[0;34m(\u001b[0m\u001b[0;36m0\u001b[0m\u001b[0;34m,\u001b[0m\u001b[0;36m2\u001b[0m\u001b[0;34m,\u001b[0m \u001b[0mRLE_to_add_cells\u001b[0m\u001b[0;34m(\u001b[0m\u001b[0;34m'glider'\u001b[0m\u001b[0;34m)\u001b[0m\u001b[0;34m)\u001b[0m\u001b[0;34m\u001b[0m\u001b[0;34m\u001b[0m\u001b[0m\n\u001b[0;32m----> 3\u001b[0;31m \u001b[0mits_alive\u001b[0m\u001b[0;34m.\u001b[0m\u001b[0manimate\u001b[0m\u001b[0;34m(\u001b[0m\u001b[0;36m10\u001b[0m\u001b[0;34m,\u001b[0m \u001b[0;36m0.5\u001b[0m\u001b[0;34m)\u001b[0m\u001b[0;34m\u001b[0m\u001b[0;34m\u001b[0m\u001b[0m\n\u001b[0m",
            "\u001b[0;32m/content/Cell2D.py\u001b[0m in \u001b[0;36manimate\u001b[0;34m(self, frames, interval, step)\u001b[0m\n\u001b[1;32m     70\u001b[0m                 \u001b[0;32mif\u001b[0m \u001b[0minterval\u001b[0m\u001b[0;34m:\u001b[0m\u001b[0;34m\u001b[0m\u001b[0;34m\u001b[0m\u001b[0m\n\u001b[1;32m     71\u001b[0m                     \u001b[0msleep\u001b[0m\u001b[0;34m(\u001b[0m\u001b[0minterval\u001b[0m\u001b[0;34m)\u001b[0m\u001b[0;34m\u001b[0m\u001b[0;34m\u001b[0m\u001b[0m\n\u001b[0;32m---> 72\u001b[0;31m                 \u001b[0mstep\u001b[0m\u001b[0;34m(\u001b[0m\u001b[0;34m)\u001b[0m\u001b[0;34m\u001b[0m\u001b[0;34m\u001b[0m\u001b[0m\n\u001b[0m\u001b[1;32m     73\u001b[0m                 \u001b[0mclear_output\u001b[0m\u001b[0;34m(\u001b[0m\u001b[0mwait\u001b[0m\u001b[0;34m=\u001b[0m\u001b[0;32mTrue\u001b[0m\u001b[0;34m)\u001b[0m\u001b[0;34m\u001b[0m\u001b[0;34m\u001b[0m\u001b[0m\n\u001b[1;32m     74\u001b[0m             \u001b[0mself\u001b[0m\u001b[0;34m.\u001b[0m\u001b[0mdraw\u001b[0m\u001b[0;34m(\u001b[0m\u001b[0;34m)\u001b[0m\u001b[0;34m\u001b[0m\u001b[0;34m\u001b[0m\u001b[0m\n",
            "\u001b[0;32m<ipython-input-53-77047c2671b5>\u001b[0m in \u001b[0;36mstep\u001b[0;34m(self)\u001b[0m\n\u001b[1;32m     31\u001b[0m         \u001b[0;34m\"\"\"Executes one time step.\"\"\"\u001b[0m\u001b[0;34m\u001b[0m\u001b[0;34m\u001b[0m\u001b[0m\n\u001b[1;32m     32\u001b[0m         \u001b[0mc\u001b[0m \u001b[0;34m=\u001b[0m \u001b[0mcorrelate2d\u001b[0m\u001b[0;34m(\u001b[0m\u001b[0mself\u001b[0m\u001b[0;34m.\u001b[0m\u001b[0marray\u001b[0m\u001b[0;34m,\u001b[0m \u001b[0mself\u001b[0m\u001b[0;34m.\u001b[0m\u001b[0mkernel\u001b[0m\u001b[0;34m,\u001b[0m \u001b[0mmode\u001b[0m\u001b[0;34m=\u001b[0m\u001b[0;34m'same'\u001b[0m\u001b[0;34m)\u001b[0m\u001b[0;34m\u001b[0m\u001b[0;34m\u001b[0m\u001b[0m\n\u001b[0;32m---> 33\u001b[0;31m         \u001b[0mself\u001b[0m\u001b[0;34m.\u001b[0m\u001b[0marray\u001b[0m \u001b[0;34m=\u001b[0m \u001b[0mself\u001b[0m\u001b[0;34m.\u001b[0m\u001b[0mtable\u001b[0m\u001b[0;34m[\u001b[0m\u001b[0mc\u001b[0m\u001b[0;34m]\u001b[0m\u001b[0;34m\u001b[0m\u001b[0;34m\u001b[0m\u001b[0m\n\u001b[0m",
            "\u001b[0;31mIndexError\u001b[0m: index 101 is out of bounds for axis 0 with size 20"
          ]
        }
      ]
    }
  ]
}