{
  "nbformat": 4,
  "nbformat_minor": 0,
  "metadata": {
    "colab": {
      "name": "COMP-215_project_final.ipynb",
      "provenance": [],
      "authorship_tag": "ABX9TyOckF6bhAXkeT3zE4x/745K",
      "include_colab_link": true
    },
    "kernelspec": {
      "name": "python3",
      "display_name": "Python 3"
    },
    "language_info": {
      "name": "python"
    }
  },
  "cells": [
    {
      "cell_type": "markdown",
      "metadata": {
        "id": "view-in-github",
        "colab_type": "text"
      },
      "source": [
        "<a href=\"https://colab.research.google.com/github/grahamswanston/cap-comp215/blob/main/COMP_215_project_final.ipynb\" target=\"_parent\"><img src=\"https://colab.research.google.com/assets/colab-badge.svg\" alt=\"Open In Colab\"/></a>"
      ]
    },
    {
      "cell_type": "markdown",
      "source": [
        "### GAME OF LIFE PATTERNS\n",
        "\n",
        "Graham Swanston\n",
        "\n",
        "March 1st, 2022"
      ],
      "metadata": {
        "id": "9ARduZCrYEot"
      }
    },
    {
      "cell_type": "code",
      "execution_count": null,
      "metadata": {
        "id": "UPBai_9uXv3R"
      },
      "outputs": [],
      "source": [
        ""
      ]
    }
  ]
}