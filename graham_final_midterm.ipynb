{
  "cells": [
    {
      "cell_type": "markdown",
      "metadata": {
        "id": "view-in-github",
        "colab_type": "text"
      },
      "source": [
        "<a href=\"https://colab.research.google.com/github/grahamswanston/cap-comp215/blob/main/graham_final_midterm.ipynb\" target=\"_parent\"><img src=\"https://colab.research.google.com/assets/colab-badge.svg\" alt=\"Open In Colab\"/></a>"
      ]
    },
    {
      "cell_type": "markdown",
      "source": [
        "# COMP215 Mid-term Exam   Spring 2022\n",
        "* Student Name: Graham Swanston\n",
        "* Date: April 7"
      ],
      "metadata": {
        "collapsed": false,
        "id": "GVxdiWrHptTU"
      }
    },
    {
      "cell_type": "markdown",
      "source": [
        "\n",
        "## Instructions:\n",
        " - exam is open-book, open-internet, but must be completed individually (no communications, cooperations, or assistance)\n",
        " - complete the exercises in this notebook\n",
        " - for each exercise, write a piece of code that solves the problem and produces some output, as specified.\n",
        "\n",
        "### Topics:\n",
        " - Data structures:  list, dictionary, class, graph, 1D and 2D array\n",
        " - Algorithms: graph traversal, matrix operators (numpy), sliding dot-product (correlation)\n",
        " - Techniques: list comprehension, generators, random numbers, plotting\n",
        " - Concepts: Big-O\n",
        "\n",
        "As usual, we start with module imports..."
      ],
      "metadata": {
        "collapsed": false,
        "id": "YBQC4lg1ptTY"
      }
    },
    {
      "cell_type": "code",
      "execution_count": 1,
      "metadata": {
        "collapsed": true,
        "colab": {
          "base_uri": "https://localhost:8080/"
        },
        "id": "xlxx_NYlptTZ",
        "outputId": "268c9384-0701-4640-dc6d-9e4eca996b85"
      },
      "outputs": [
        {
          "output_type": "stream",
          "name": "stdout",
          "text": [
            "--2022-04-08 20:16:07--  https://raw.githubusercontent.com/pearcej/complex-colab/master/notebooks/utils.py\n",
            "Resolving raw.githubusercontent.com (raw.githubusercontent.com)... 185.199.108.133, 185.199.109.133, 185.199.110.133, ...\n",
            "Connecting to raw.githubusercontent.com (raw.githubusercontent.com)|185.199.108.133|:443... connected.\n",
            "HTTP request sent, awaiting response... 200 OK\n",
            "Length: 2645 (2.6K) [text/plain]\n",
            "Saving to: ‘utils.py’\n",
            "\n",
            "\rutils.py              0%[                    ]       0  --.-KB/s               \rutils.py            100%[===================>]   2.58K  --.-KB/s    in 0s      \n",
            "\n",
            "2022-04-08 20:16:08 (45.6 MB/s) - ‘utils.py’ saved [2645/2645]\n",
            "\n",
            "--2022-04-08 20:16:08--  https://raw.githubusercontent.com/pearcej/complex-colab/master/notebooks/Cell2D.py\n",
            "Resolving raw.githubusercontent.com (raw.githubusercontent.com)... 185.199.110.133, 185.199.108.133, 185.199.111.133, ...\n",
            "Connecting to raw.githubusercontent.com (raw.githubusercontent.com)|185.199.110.133|:443... connected.\n",
            "HTTP request sent, awaiting response... 200 OK\n",
            "Length: 2628 (2.6K) [text/plain]\n",
            "Saving to: ‘Cell2D.py’\n",
            "\n",
            "Cell2D.py           100%[===================>]   2.57K  --.-KB/s    in 0s      \n",
            "\n",
            "2022-04-08 20:16:08 (37.6 MB/s) - ‘Cell2D.py’ saved [2628/2628]\n",
            "\n"
          ]
        }
      ],
      "source": [
        "import os\n",
        "import matplotlib.pyplot as plt\n",
        "import networkx as nx\n",
        "import numpy as np\n",
        "from scipy.signal import correlate2d\n",
        "\n",
        "if not os.path.exists('utils.py'):\n",
        "  !wget  https://raw.githubusercontent.com/pearcej/complex-colab/master/notebooks/utils.py\n",
        "if not os.path.exists('Cell2D.py'):\n",
        "  !wget  https://raw.githubusercontent.com/pearcej/complex-colab/master/notebooks/Cell2D.py\n",
        "from Cell2D import Cell2D, draw_array"
      ]
    },
    {
      "cell_type": "markdown",
      "source": [
        "## Structured Data\n",
        "The `exoplanets` data below was fetched from [NASA's Exoplanet Archive API](https://exoplanetarchive.ipac.caltech.edu/docs/API_queries.html) (only portion of data is shown here).\n",
        "[https://exoplanetarchive.ipac.caltech.edu/TAP/sync?query=select+pl_name,hostname,disc_year,disc_telescope+from+pscomppars&format=json]\n",
        "\n",
        "It is a list of confirmed exoplanets, where each record provides the planet name `pl_name` and host star `hostname`, along with discovery year and telescope."
      ],
      "metadata": {
        "collapsed": false,
        "id": "3TqSLOOVptTb"
      }
    },
    {
      "cell_type": "code",
      "execution_count": 2,
      "outputs": [],
      "source": [
        "exoplanets = [\n",
        " {'disc_telescope': '0.95 m Kepler Telescope',\n",
        "  'disc_year': 2021,\n",
        "  'hostname': 'Kepler-1901',\n",
        "  'pl_name': 'Kepler-1901 b'},\n",
        " {'disc_telescope': '0.95 m Kepler Telescope',\n",
        "  'disc_year': 2021,\n",
        "  'hostname': 'Kepler-1882',\n",
        "  'pl_name': 'Kepler-1882 b'},\n",
        " {'disc_telescope': '0.95 m Kepler Telescope',\n",
        "  'disc_year': 2021,\n",
        "  'hostname': 'Kepler-1732',\n",
        "  'pl_name': 'Kepler-1732 b'},\n",
        " {'disc_telescope': '0.95 m Kepler Telescope',\n",
        "  'disc_year': 2014,\n",
        "  'hostname': 'Kepler-152',\n",
        "  'pl_name': 'Kepler-152 b'},\n",
        " {'disc_telescope': '0.95 m Kepler Telescope',\n",
        "  'disc_year': 2016,\n",
        "  'hostname': 'Kepler-1526',\n",
        "  'pl_name': 'Kepler-1526 b'},\n",
        " {'disc_telescope': '0.95 m Kepler Telescope',\n",
        "  'disc_year': 2016,\n",
        "  'hostname': 'Kepler-1475',\n",
        "  'pl_name': 'Kepler-1475 b'},\n",
        " {'disc_telescope': '0.95 m Kepler Telescope',\n",
        "  'disc_year': 2021,\n",
        "  'hostname': 'Kepler-1863',\n",
        "  'pl_name': 'Kepler-1863 b'},\n",
        " {'disc_telescope': '0.95 m Kepler Telescope',\n",
        "  'disc_year': 2016,\n",
        "  'hostname': 'Kepler-954',\n",
        "  'pl_name': 'Kepler-954 b'},\n",
        " {'disc_telescope': '0.95 m Kepler Telescope',\n",
        "  'disc_year': 2016,\n",
        "  'hostname': 'Kepler-533',\n",
        "  'pl_name': 'Kepler-533 b'},\n",
        " {'disc_telescope': '0.95 m Kepler Telescope',\n",
        "  'disc_year': 2016,\n",
        "  'hostname': 'Kepler-1559',\n",
        "  'pl_name': 'Kepler-1559 b'},\n",
        " {'disc_telescope': '0.95 m Kepler Telescope',\n",
        "  'disc_year': 2019,\n",
        "  'hostname': 'V1298 Tau',\n",
        "  'pl_name': 'V1298 Tau d'},\n",
        " {'disc_telescope': '0.95 m Kepler Telescope',\n",
        "  'disc_year': 2016,\n",
        "  'hostname': 'K2-34',\n",
        "  'pl_name': 'K2-34 b'},\n",
        " {'disc_telescope': '0.95 m Kepler Telescope',\n",
        "  'disc_year': 2014,\n",
        "  'hostname': 'Kepler-122',\n",
        "  'pl_name': 'Kepler-122 f'},\n",
        " {'disc_telescope': '0.95 m Kepler Telescope',\n",
        "  'disc_year': 2014,\n",
        "  'hostname': 'Kepler-413',\n",
        "  'pl_name': 'Kepler-413 b'},\n",
        " {'disc_telescope': '0.95 m Kepler Telescope',\n",
        "  'disc_year': 2018,\n",
        "  'hostname': 'K2-154',\n",
        "  'pl_name': 'K2-154 c'},\n",
        " {'disc_telescope': '0.95 m Kepler Telescope',\n",
        "  'disc_year': 2016,\n",
        "  'hostname': 'Kepler-885',\n",
        "  'pl_name': 'Kepler-885 b'},\n",
        " {'disc_telescope': '0.95 m Kepler Telescope',\n",
        "  'disc_year': 2014,\n",
        "  'hostname': 'Kepler-120',\n",
        "  'pl_name': 'Kepler-120 b'},\n",
        " {'disc_telescope': '0.95 m Kepler Telescope',\n",
        "  'disc_year': 2021,\n",
        "  'hostname': 'Kepler-1878',\n",
        "  'pl_name': 'Kepler-1878 b'},\n",
        " {'disc_telescope': '0.95 m Kepler Telescope',\n",
        "  'disc_year': 2021,\n",
        "  'hostname': 'Kepler-324',\n",
        "  'pl_name': 'Kepler-324 e'},\n",
        " {'disc_telescope': '0.95 m Kepler Telescope',\n",
        "  'disc_year': 2016,\n",
        "  'hostname': 'KIC 5437945',\n",
        "  'pl_name': 'Kepler-460 c'},\n",
        " {'disc_telescope': '0.95 m Kepler Telescope',\n",
        "  'disc_year': 2016,\n",
        "  'hostname': 'Kepler-473',\n",
        "  'pl_name': 'Kepler-473 b'},\n",
        " {'disc_telescope': '0.95 m Kepler Telescope',\n",
        "  'disc_year': 2012,\n",
        "  'hostname': 'Kepler-85',\n",
        "  'pl_name': 'Kepler-85 c'},\n",
        " {'disc_telescope': '0.95 m Kepler Telescope',\n",
        "  'disc_year': 2012,\n",
        "  'hostname': 'Kepler-32',\n",
        "  'pl_name': 'Kepler-32 e'},\n",
        " {'disc_telescope': '3.6 m ESO Telescope',\n",
        "  'disc_year': 2012,\n",
        "  'hostname': 'GJ 3470',\n",
        "  'pl_name': 'GJ 3470 b'},\n",
        " {'disc_telescope': '0.95 m Kepler Telescope',\n",
        "  'disc_year': 2013,\n",
        "  'hostname': 'Kepler-66',\n",
        "  'pl_name': 'Kepler-66 b'},\n",
        " {'disc_telescope': '0.95 m Kepler Telescope',\n",
        "  'disc_year': 2016,\n",
        "  'hostname': 'Kepler-971',\n",
        "  'pl_name': 'Kepler-971 b'},\n",
        " {'disc_telescope': '0.95 m Kepler Telescope',\n",
        "  'disc_year': 2016,\n",
        "  'hostname': 'Kepler-1432',\n",
        "  'pl_name': 'Kepler-1432 b'},\n",
        " {'disc_telescope': '0.95 m Kepler Telescope',\n",
        "  'disc_year': 2016,\n",
        "  'hostname': 'Kepler-953',\n",
        "  'pl_name': 'Kepler-953 b'},\n",
        " {'disc_telescope': '3.6 m ESO Telescope',\n",
        "  'disc_year': 2008,\n",
        "  'hostname': 'HD 20868',\n",
        "  'pl_name': 'HD 20868 b'},\n",
        " {'disc_telescope': '0.95 m Kepler Telescope',\n",
        "  'disc_year': 2016,\n",
        "  'hostname': 'Kepler-1365',\n",
        "  'pl_name': 'Kepler-1365 c'},\n",
        " {'disc_telescope': '0.95 m Kepler Telescope',\n",
        "  'disc_year': 2016,\n",
        "  'hostname': 'Kepler-903',\n",
        "  'pl_name': 'Kepler-903 c'},\n",
        " {'disc_telescope': '0.95 m Kepler Telescope',\n",
        "  'disc_year': 2016,\n",
        "  'hostname': 'K2-347',\n",
        "  'pl_name': 'K2-347 b'},\n",
        " {'disc_telescope': '0.95 m Kepler Telescope',\n",
        "  'disc_year': 2015,\n",
        "  'hostname': 'Kepler-439',\n",
        "  'pl_name': 'Kepler-439 b'},\n",
        " {'disc_telescope': '0.95 m Kepler Telescope',\n",
        "  'disc_year': 2016,\n",
        "  'hostname': 'Kepler-810',\n",
        "  'pl_name': 'Kepler-810 b'},\n",
        " {'disc_telescope': '0.95 m Kepler Telescope',\n",
        "  'disc_year': 2018,\n",
        "  'hostname': 'K2-334',\n",
        "  'pl_name': 'K2-334 b'},\n",
        " {'disc_telescope': '0.1 m TESS Telescope',\n",
        "  'disc_year': 2022,\n",
        "  'hostname': 'TOI-2184',\n",
        "  'pl_name': 'TOI-2184 b'},\n",
        " {'disc_telescope': '0.95 m Kepler Telescope',\n",
        "  'disc_year': 2016,\n",
        "  'hostname': 'Kepler-600',\n",
        "  'pl_name': 'Kepler-600 b'},\n",
        " {'disc_telescope': '0.95 m Kepler Telescope',\n",
        "  'disc_year': 2016,\n",
        "  'hostname': 'Kepler-1161',\n",
        "  'pl_name': 'Kepler-1161 b'},\n",
        " {'disc_telescope': '0.95 m Kepler Telescope',\n",
        "  'disc_year': 2016,\n",
        "  'hostname': 'Kepler-543',\n",
        "  'pl_name': 'Kepler-543 b'},\n",
        " {'disc_telescope': '0.95 m Kepler Telescope',\n",
        "  'disc_year': 2016,\n",
        "  'hostname': 'Kepler-1494',\n",
        "  'pl_name': 'Kepler-1494 b'},\n",
        " {'disc_telescope': '0.95 m Kepler Telescope',\n",
        "  'disc_year': 2016,\n",
        "  'hostname': 'Kepler-1221',\n",
        "  'pl_name': 'Kepler-1221 b'},\n",
        " {'disc_telescope': '0.95 m Kepler Telescope',\n",
        "  'disc_year': 2016,\n",
        "  'hostname': 'Kepler-856',\n",
        "  'pl_name': 'Kepler-856 b'},\n",
        " {'disc_telescope': '0.95 m Kepler Telescope',\n",
        "  'disc_year': 2016,\n",
        "  'hostname': 'Kepler-1340',\n",
        "  'pl_name': 'Kepler-1340 b'},\n",
        " {'disc_telescope': '0.95 m Kepler Telescope',\n",
        "  'disc_year': 2018,\n",
        "  'hostname': 'K2-266',\n",
        "  'pl_name': 'K2-266 e'},\n",
        " {'disc_telescope': '0.95 m Kepler Telescope',\n",
        "  'disc_year': 2016,\n",
        "  'hostname': 'Kepler-1473',\n",
        "  'pl_name': 'Kepler-1473 b'},\n",
        " {'disc_telescope': '3.6 m ESO Telescope',\n",
        "  'disc_year': 2009,\n",
        "  'hostname': 'HD 125595',\n",
        "  'pl_name': 'HD 125595 b'},\n",
        " {'disc_telescope': '0.95 m Kepler Telescope',\n",
        "  'disc_year': 2014,\n",
        "  'hostname': 'Kepler-173',\n",
        "  'pl_name': 'Kepler-173 b'},\n",
        " {'disc_telescope': '0.1 m TESS Telescope',\n",
        "  'disc_year': 2022,\n",
        "  'hostname': 'TOI-1759',\n",
        "  'pl_name': 'TOI-1759 b'},\n",
        " {'disc_telescope': '0.95 m Kepler Telescope',\n",
        "  'disc_year': 2021,\n",
        "  'hostname': 'Kepler-1853',\n",
        "  'pl_name': 'Kepler-1853 b'},\n",
        " {'disc_telescope': '0.95 m Kepler Telescope',\n",
        "  'disc_year': 2016,\n",
        "  'hostname': 'Kepler-1083',\n",
        "  'pl_name': 'Kepler-1083 b'},\n",
        " {'disc_telescope': '0.95 m Kepler Telescope',\n",
        "  'disc_year': 2022,\n",
        "  'hostname': 'K2-384',\n",
        "  'pl_name': 'K2-384 b'},\n",
        " {'disc_telescope': '0.95 m Kepler Telescope',\n",
        "  'disc_year': 2016,\n",
        "  'hostname': 'K2-46',\n",
        "  'pl_name': 'K2-46 b'},\n",
        " {'disc_telescope': '0.1 m TESS Telescope',\n",
        "  'disc_year': 2019,\n",
        "  'hostname': 'TOI-125',\n",
        "  'pl_name': 'TOI-125 b'},\n",
        " {'disc_telescope': '0.95 m Kepler Telescope',\n",
        "  'disc_year': 2014,\n",
        "  'hostname': 'Kepler-262',\n",
        "  'pl_name': 'Kepler-262 b'},\n",
        " {'disc_telescope': '0.95 m Kepler Telescope',\n",
        "  'disc_year': 2016,\n",
        "  'hostname': 'Kepler-1493',\n",
        "  'pl_name': 'Kepler-1493 b'},\n",
        " {'disc_telescope': '0.95 m Kepler Telescope',\n",
        "  'disc_year': 2022,\n",
        "  'hostname': 'K2-383',\n",
        "  'pl_name': 'K2-383 b'},\n",
        " {'disc_telescope': '0.95 m Kepler Telescope',\n",
        "  'disc_year': 2016,\n",
        "  'hostname': 'Kepler-1156',\n",
        "  'pl_name': 'Kepler-1156 b'},\n",
        " {'disc_telescope': '0.95 m Kepler Telescope',\n",
        "  'disc_year': 2016,\n",
        "  'hostname': 'Kepler-1593',\n",
        "  'pl_name': 'Kepler-1593 b'},\n",
        " {'disc_telescope': '0.95 m Kepler Telescope',\n",
        "  'disc_year': 2016,\n",
        "  'hostname': 'Kepler-769',\n",
        "  'pl_name': 'Kepler-769 c'},\n",
        " {'disc_telescope': '0.95 m Kepler Telescope',\n",
        "  'disc_year': 2018,\n",
        "  'hostname': 'K2-180',\n",
        "  'pl_name': 'K2-180 b'},\n",
        " {'disc_telescope': '0.95 m Kepler Telescope',\n",
        "  'disc_year': 2016,\n",
        "  'hostname': 'Kepler-1001',\n",
        "  'pl_name': 'Kepler-1001 b'},\n",
        " {'disc_telescope': '1.6 m wide-field telescope',\n",
        "  'disc_year': 2019,\n",
        "  'hostname': 'KMT-2017-BLG-1146L',\n",
        "  'pl_name': 'KMT-2017-BLG-1146L b'},\n",
        " {'disc_telescope': '0.95 m Kepler Telescope',\n",
        "  'disc_year': 2012,\n",
        "  'hostname': 'Kepler-59',\n",
        "  'pl_name': 'Kepler-59 b'},\n",
        " {'disc_telescope': '0.95 m Kepler Telescope',\n",
        "  'disc_year': 2016,\n",
        "  'hostname': 'Kepler-1339',\n",
        "  'pl_name': 'Kepler-1339 b'},\n",
        " {'disc_telescope': '0.95 m Kepler Telescope',\n",
        "  'disc_year': 2014,\n",
        "  'hostname': 'Kepler-116',\n",
        "  'pl_name': 'Kepler-116 b'},\n",
        " {'disc_telescope': '0.95 m Kepler Telescope',\n",
        "  'disc_year': 2021,\n",
        "  'hostname': 'Kepler-1735',\n",
        "  'pl_name': 'Kepler-1735 b'},\n",
        " {'disc_telescope': '0.95 m Kepler Telescope',\n",
        "  'disc_year': 2021,\n",
        "  'hostname': 'Kepler-1919',\n",
        "  'pl_name': 'Kepler-1919 b'},\n",
        " {'disc_telescope': '0.95 m Kepler Telescope',\n",
        "  'disc_year': 2018,\n",
        "  'hostname': 'K2-199',\n",
        "  'pl_name': 'K2-199 b'},\n",
        " {'disc_telescope': '0.95 m Kepler Telescope',\n",
        "  'disc_year': 2012,\n",
        "  'hostname': 'Kepler-30',\n",
        "  'pl_name': 'Kepler-30 b'},\n",
        " {'disc_telescope': '0.95 m Kepler Telescope',\n",
        "  'disc_year': 2016,\n",
        "  'hostname': 'Kepler-1058',\n",
        "  'pl_name': 'Kepler-1058 b'},\n",
        " {'disc_telescope': '0.95 m Kepler Telescope',\n",
        "  'disc_year': 2014,\n",
        "  'hostname': 'Kepler-342',\n",
        "  'pl_name': 'Kepler-342 c'},\n",
        " {'disc_telescope': '0.95 m Kepler Telescope',\n",
        "  'disc_year': 2014,\n",
        "  'hostname': 'Kepler-178',\n",
        "  'pl_name': 'Kepler-178 d'},\n",
        " {'disc_telescope': '0.95 m Kepler Telescope',\n",
        "  'disc_year': 2014,\n",
        "  'hostname': 'Kepler-300',\n",
        "  'pl_name': 'Kepler-300 c'},\n",
        " {'disc_telescope': '0.95 m Kepler Telescope',\n",
        "  'disc_year': 2012,\n",
        "  'hostname': 'Kepler-49',\n",
        "  'pl_name': 'Kepler-49 c'},\n",
        " {'disc_telescope': '0.95 m Kepler Telescope',\n",
        "  'disc_year': 2014,\n",
        "  'hostname': 'Kepler-285',\n",
        "  'pl_name': 'Kepler-285 c'},\n",
        " {'disc_telescope': '0.95 m Kepler Telescope',\n",
        "  'disc_year': 2016,\n",
        "  'hostname': 'Kepler-1388',\n",
        "  'pl_name': 'Kepler-1388 e'},\n",
        " {'disc_telescope': '3.6 m ESO Telescope',\n",
        "  'disc_year': 2010,\n",
        "  'hostname': 'HD 113538',\n",
        "  'pl_name': 'HD 113538 c'},\n",
        " {'disc_telescope': '0.95 m Kepler Telescope',\n",
        "  'disc_year': 2016,\n",
        "  'hostname': 'Kepler-921',\n",
        "  'pl_name': 'Kepler-921 b'},\n",
        " {'disc_telescope': '0.95 m Kepler Telescope',\n",
        "  'disc_year': 2014,\n",
        "  'hostname': 'Kepler-84',\n",
        "  'pl_name': 'Kepler-84 d'},\n",
        " {'disc_telescope': '0.95 m Kepler Telescope',\n",
        "  'disc_year': 2014,\n",
        "  'hostname': 'Kepler-151',\n",
        "  'pl_name': 'Kepler-151 c'},\n",
        " {'disc_telescope': '0.95 m Kepler Telescope',\n",
        "  'disc_year': 2016,\n",
        "  'hostname': 'Kepler-484',\n",
        "  'pl_name': 'Kepler-484 b'},\n",
        " {'disc_telescope': '0.1 m TESS Telescope',\n",
        "  'disc_year': 2022,\n",
        "  'hostname': 'TOI-4329',\n",
        "  'pl_name': 'TOI-4329 b'},\n",
        " {'disc_telescope': '0.95 m Kepler Telescope',\n",
        "  'disc_year': 2016,\n",
        "  'hostname': 'Kepler-1224',\n",
        "  'pl_name': 'Kepler-1224 b'},\n",
        " {'disc_telescope': '0.95 m Kepler Telescope',\n",
        "  'disc_year': 2016,\n",
        "  'hostname': 'Kepler-1630',\n",
        "  'pl_name': 'Kepler-1630 b'},\n",
        " {'disc_telescope': '3.6 m ESO Telescope',\n",
        "  'disc_year': 2021,\n",
        "  'hostname': 'HD 93385',\n",
        "  'pl_name': 'HD 93385 b'},\n",
        " {'disc_telescope': '0.95 m Kepler Telescope',\n",
        "  'disc_year': 2015,\n",
        "  'hostname': 'KIC 5951458',\n",
        "  'pl_name': 'KIC 5951458 b'},\n",
        " {'disc_telescope': '0.95 m Kepler Telescope',\n",
        "  'disc_year': 2016,\n",
        "  'hostname': 'Kepler-688',\n",
        "  'pl_name': 'Kepler-688 b'},\n",
        " {'disc_telescope': '0.95 m Kepler Telescope',\n",
        "  'disc_year': 2016,\n",
        "  'hostname': 'Kepler-1379',\n",
        "  'pl_name': 'Kepler-1379 b'},\n",
        " {'disc_telescope': '0.95 m Kepler Telescope',\n",
        "  'disc_year': 2013,\n",
        "  'hostname': 'KOI-351',\n",
        "  'pl_name': 'KOI-351 d'},\n",
        " {'disc_telescope': '0.95 m Kepler Telescope',\n",
        "  'disc_year': 2016,\n",
        "  'hostname': 'Kepler-1543',\n",
        "  'pl_name': 'Kepler-1543 b'},\n",
        " {'disc_telescope': '0.95 m Kepler Telescope',\n",
        "  'disc_year': 2021,\n",
        "  'hostname': 'Kepler-1837',\n",
        "  'pl_name': 'Kepler-1837 b'},\n",
        " {'disc_telescope': '0.95 m Kepler Telescope',\n",
        "  'disc_year': 2014,\n",
        "  'hostname': 'Kepler-326',\n",
        "  'pl_name': 'Kepler-326 d'},\n",
        " {'disc_telescope': '0.95 m Kepler Telescope',\n",
        "  'disc_year': 2016,\n",
        "  'hostname': 'K2-26',\n",
        "  'pl_name': 'K2-26 b'},\n",
        " {'disc_telescope': '0.95 m Kepler Telescope',\n",
        "  'disc_year': 2016,\n",
        "  'hostname': 'Kepler-1128',\n",
        "  'pl_name': 'Kepler-1128 b'},\n",
        " {'disc_telescope': '0.95 m Kepler Telescope',\n",
        "  'disc_year': 2014,\n",
        "  'hostname': 'Kepler-334',\n",
        "  'pl_name': 'Kepler-334 b'},\n",
        " {'disc_telescope': '0.95 m Kepler Telescope',\n",
        "  'disc_year': 2016,\n",
        "  'hostname': 'Kepler-1448',\n",
        "  'pl_name': 'Kepler-1448 b'},\n",
        " {'disc_telescope': '0.95 m Kepler Telescope',\n",
        "  'disc_year': 2016,\n",
        "  'hostname': 'Kepler-1350',\n",
        "  'pl_name': 'Kepler-1350 b'},\n",
        " {'disc_telescope': '0.95 m Kepler Telescope',\n",
        "  'disc_year': 2021,\n",
        "  'hostname': 'Kepler-1770',\n",
        "  'pl_name': 'Kepler-1770 b'},\n",
        " {'disc_telescope': '0.95 m Kepler Telescope',\n",
        "  'disc_year': 2014,\n",
        "  'hostname': 'Kepler-401',\n",
        "  'pl_name': 'Kepler-401 c'},\n",
        " {'disc_telescope': '0.95 m Kepler Telescope',\n",
        "  'disc_year': 2021,\n",
        "  'hostname': 'Kepler-511',\n",
        "  'pl_name': 'Kepler-511 c'}\n",
        "]"
      ],
      "metadata": {
        "pycharm": {
          "name": "#%%\n"
        },
        "id": "3xI0ABcRptTc"
      }
    },
    {
      "cell_type": "markdown",
      "source": [
        "### Q.1\n",
        "Use a **list comprehension** to define a list of exoplanet names discovered by the `0.1 m TESS Telescope`\n",
        "*Hint*: there are 4 such planets in the list above."
      ],
      "metadata": {
        "collapsed": false,
        "id": "5hkwg5OOptTk"
      }
    },
    {
      "cell_type": "code",
      "execution_count": 3,
      "outputs": [
        {
          "output_type": "stream",
          "name": "stdout",
          "text": [
            "['TOI-2184 b', 'TOI-1759 b', 'TOI-125 b', 'TOI-4329 b']\n"
          ]
        }
      ],
      "source": [
        "exo_names = [item['pl_name'] for item in exoplanets if item['disc_telescope'] == '0.1 m TESS Telescope']\n",
        "print(exo_names)"
      ],
      "metadata": {
        "pycharm": {
          "name": "#%%\n"
        },
        "colab": {
          "base_uri": "https://localhost:8080/"
        },
        "id": "kG_dAvUmptTm",
        "outputId": "f9de878c-6d68-4359-b8e1-b86bd9d0954d"
      }
    },
    {
      "cell_type": "markdown",
      "source": [
        "### Q.2\n",
        "Develop a histogram to show the number of exoplanets discovered in each year.\n",
        "You may use any method to construct and display the histogram, but the simplest solution requires just a few lines of code.\n",
        "(no need to label axes or provide a chart title)"
      ],
      "metadata": {
        "collapsed": false,
        "id": "U9zyS6EuptTm"
      }
    },
    {
      "cell_type": "code",
      "execution_count": 4,
      "outputs": [
        {
          "output_type": "stream",
          "name": "stdout",
          "text": [
            "[2021, 2021, 2021, 2014, 2016, 2016, 2021, 2016, 2016, 2016, 2019, 2016, 2014, 2014, 2018, 2016, 2014, 2021, 2021, 2016, 2016, 2012, 2012, 2012, 2013, 2016, 2016, 2016, 2008, 2016, 2016, 2016, 2015, 2016, 2018, 2022, 2016, 2016, 2016, 2016, 2016, 2016, 2016, 2018, 2016, 2009, 2014, 2022, 2021, 2016, 2022, 2016, 2019, 2014, 2016, 2022, 2016, 2016, 2016, 2018, 2016, 2019, 2012, 2016, 2014, 2021, 2021, 2018, 2012, 2016, 2014, 2014, 2014, 2012, 2014, 2016, 2010, 2016, 2014, 2014, 2016, 2022, 2016, 2016, 2021, 2015, 2016, 2016, 2013, 2016, 2021, 2014, 2016, 2016, 2014, 2016, 2016, 2021, 2014, 2021]\n"
          ]
        },
        {
          "output_type": "execute_result",
          "data": {
            "text/plain": [
              "(array([ 1.,  1.,  1.,  6.,  2., 16.,  2., 45.,  5.,  3., 18.]),\n",
              " array([2008, 2009, 2010, 2012, 2013, 2014, 2015, 2016, 2018, 2019, 2021,\n",
              "        2022]),\n",
              " <a list of 11 Patch objects>)"
            ]
          },
          "metadata": {},
          "execution_count": 4
        },
        {
          "output_type": "display_data",
          "data": {
            "text/plain": [
              "<Figure size 432x288 with 1 Axes>"
            ],
            "image/png": "[encoded data removed]"
          },
          "metadata": {
            "needs_background": "light"
          }
        }
      ],
      "source": [
        "years = [item['disc_year'] for item in exoplanets]\n",
        "print(years)\n",
        "plt.hist(years, np.unique(years),)\n",
        "#Bug with 2017, it does not appear but appears there are many on the hist\n",
        "#plt.hist has some weird binning rules when given a list"
      ],
      "metadata": {
        "pycharm": {
          "name": "#%%\n"
        },
        "id": "WDKqdwkSptTn",
        "colab": {
          "base_uri": "https://localhost:8080/",
          "height": 0
        },
        "outputId": "c70d22d6-1996-4bfd-f1ba-123ec42dd48e"
      }
    },
    {
      "cell_type": "markdown",
      "source": [
        "## Graphs\n",
        "The following class defines a \"binary search tree\" - a directed graph where each node is restricted to at most 2 edges (branches).\n",
        "From any given node, the value in any node of the \"left\" branch are smaller, while the value of all nodes in the \"right\" branch are larger.  (see sample below)\n",
        "\n",
        "You need not understand the implementation of the insert and edges methods below to complete this question.\n",
        "Only that each node has a `value`, and a `left` and a `right` \"branch\" (an edge to a sub-tree), which is None if there is no branch."
      ],
      "metadata": {
        "collapsed": false,
        "id": "aM-YlKa9ptTn"
      }
    },
    {
      "cell_type": "code",
      "execution_count": 5,
      "outputs": [],
      "source": [
        "class Node:\n",
        "    \"\"\" One node in a Binary Tree \"\"\"\n",
        "    def __init__(self, value):\n",
        "        \"\"\" Construct a node with the given value and no left or right branches \"\"\"\n",
        "        self.value = value\n",
        "        self.left = None\n",
        "        self.right = None\n",
        "\n",
        "class BTree:\n",
        "    \"\"\" A Binary Search Tree \"\"\"\n",
        "    def __init__(self, data=None):\n",
        "        \"\"\" Construct binary search tree from given data or empty if no data supplied \"\"\"\n",
        "        self.root = None\n",
        "        for item in data:\n",
        "            self.insert(item)\n",
        "\n",
        "    def insert(self, value):\n",
        "        \"\"\" Insert value in the tree \"\"\"\n",
        "        if not self.root:\n",
        "            self.root = Node(value)\n",
        "        else:\n",
        "            self._insert(self.root, Node(value))\n",
        "\n",
        "    def _insert(self, parent, node):\n",
        "        \"\"\" Insert given node in the tree, below parent node (non-None) \"\"\"\n",
        "        if node.value < parent.value:\n",
        "            if parent.left is None:\n",
        "                parent.left = node\n",
        "            else:\n",
        "                self._insert(parent.left, node)\n",
        "        if node.value >= parent.value:\n",
        "            if parent.right is None:\n",
        "                parent.right = node\n",
        "            else:\n",
        "                self._insert(parent.right, node)\n",
        "\n",
        "    def edges(self):\n",
        "        \"\"\" Return list of edges (2-tuples) in this tree \"\"\"\n",
        "        return self._edges(self.root) if self.root else []\n",
        "\n",
        "    def _edges(self, parent):\n",
        "        \"\"\" Return list of edges (2-tuple) below parent node (non-None) \"\"\"\n",
        "        left_edges = [(parent.value, parent.left.value)] + self._edges(parent.left) if parent.left else []\n",
        "        right_edges = [(parent.value, parent.right.value)] + self._edges(parent.right) if parent.right else []\n",
        "        return left_edges + right_edges\n",
        "\n",
        "    def draw_graph(self):\n",
        "        \"\"\" Draw this tree as a directed graph \"\"\"\n",
        "        G = nx.DiGraph()\n",
        "        G.add_edges_from(self.edges())\n",
        "        nx.draw_planar(G, node_color='yellow', node_size=1000, with_labels=True)"
      ],
      "metadata": {
        "pycharm": {
          "name": "#%%\n"
        },
        "id": "bAwBi14GptTn"
      }
    },
    {
      "cell_type": "markdown",
      "source": [
        "A small binary search tree to use for testing your solution to Q.3 below..."
      ],
      "metadata": {
        "collapsed": false,
        "id": "vAxlr4aSptTn"
      }
    },
    {
      "cell_type": "code",
      "execution_count": 6,
      "outputs": [
        {
          "output_type": "display_data",
          "data": {
            "text/plain": [
              "<Figure size 432x288 with 1 Axes>"
            ],
            "image/png": "[encoded data removed]"
          },
          "metadata": {}
        }
      ],
      "source": [
        "T = BTree( (42, 19, 77, 13, 24, 52, 84) )\n",
        "T.draw_graph()"
      ],
      "metadata": {
        "pycharm": {
          "name": "#%%\n"
        },
        "colab": {
          "base_uri": "https://localhost:8080/",
          "height": 0
        },
        "id": "4cPkUx_FptTo",
        "outputId": "b7e5b29c-23f8-4c89-9f54-a94d8dced42e"
      }
    },
    {
      "cell_type": "markdown",
      "source": [
        "### Q.3\n",
        "Write an efficient function, O(log n), to determine if a given value is in the search tree or not.\n",
        "*Hint*: this is a small, pure-python algorithm - libraries like networkx or numpy won't help you here."
      ],
      "metadata": {
        "collapsed": false,
        "id": "d3Xk5dYTptTo"
      }
    },
    {
      "cell_type": "code",
      "execution_count": 7,
      "outputs": [],
      "source": [
        "def contains(tree, search_value):\n",
        "    \"\"\" Return True if tree contains the search_value, False otherwise \"\"\"\n",
        "    current = tree.root\n",
        "    while current != None:\n",
        "      if current.value == search_value:\n",
        "        return True\n",
        "      elif search_value < current.value:\n",
        "        current = current.left\n",
        "      else:\n",
        "        current = current.right\n",
        "    return False\n",
        "\n",
        "\n",
        "      \n",
        "# Unit Tests - these should pass if your algorithm works\n",
        "assert contains(T, 77)\n",
        "assert contains(T, 24)\n",
        "assert not contains(T, 55)"
      ],
      "metadata": {
        "pycharm": {
          "name": "#%%\n"
        },
        "id": "S77-S6k_ptTo"
      }
    },
    {
      "cell_type": "markdown",
      "source": [
        "## 1D Sliding Dot-product (correlation)\n",
        "The array below represents the size (in sq. m) of each house along a given street.\n",
        "In the questions below, we are trying to understand how each house compares to its next-door neighbours."
      ],
      "metadata": {
        "collapsed": false,
        "id": "_M3J8_3wptTo"
      }
    },
    {
      "cell_type": "code",
      "execution_count": 8,
      "outputs": [],
      "source": [
        "house_sizes = np.array( [251, 110, 92, 189, 215, 142, 126, 268, 243, 194] )"
      ],
      "metadata": {
        "pycharm": {
          "name": "#%%\n"
        },
        "id": "jbbZTjuGptTp"
      }
    },
    {
      "cell_type": "markdown",
      "source": [
        "### Q.4\n",
        "Compute the average size of each house's 2 next-door neighbours using `np.correlate` [https://numpy.org/doc/stable/reference/generated/numpy.correlate.html](https://numpy.org/doc/stable/reference/generated/numpy.correlate.html)\n",
        "To avoid edge effects, we assume the last house is next-door to first house (a cicular street)\n",
        "*Hint*: try `np.pad` with `mode='wrap'`  [https://numpy.org/devdocs/reference/generated/numpy.pad.html](https://numpy.org/devdocs/reference/generated/numpy.pad.html)"
      ],
      "metadata": {
        "collapsed": false,
        "id": "jxh5KdvOptTp"
      }
    },
    {
      "cell_type": "code",
      "execution_count": 9,
      "outputs": [
        {
          "output_type": "stream",
          "name": "stdout",
          "text": [
            "[152.  171.5 149.5 153.5 165.5 170.5 205.  184.5 231.  247. ]\n"
          ]
        }
      ],
      "source": [
        "kernal = [0.5,0,0.5]\n",
        "\n",
        "\n",
        "average_size = np.correlate(np.pad(house_sizes, 1, mode='wrap'), kernal)\n",
        "print(average_size)"
      ],
      "metadata": {
        "pycharm": {
          "name": "#%%\n"
        },
        "colab": {
          "base_uri": "https://localhost:8080/"
        },
        "id": "YGHVke8GptTp",
        "outputId": "a3576a76-4bdd-4a11-a767-40e741192f1b"
      }
    },
    {
      "cell_type": "markdown",
      "source": [
        "### Q.5\n",
        "Compute the \"variance\" (difference) between each house's size and the average of it's neighbours.\n",
        "*Hint*: As a check on your work, the average variance should always be zero."
      ],
      "metadata": {
        "collapsed": false,
        "id": "glkZrUtnptTp"
      }
    },
    {
      "cell_type": "code",
      "execution_count": 10,
      "outputs": [
        {
          "output_type": "stream",
          "name": "stdout",
          "text": [
            "[ 99.  -61.5 -57.5  35.5  49.5 -28.5 -79.   83.5  12.  -53. ]\n",
            "0.0\n"
          ]
        }
      ],
      "source": [
        "varience = house_sizes - average_size\n",
        "\n",
        "print(varience)\n",
        "print(sum(varience)/10)"
      ],
      "metadata": {
        "pycharm": {
          "name": "#%%\n"
        },
        "id": "9q9Mcg9pptTp",
        "colab": {
          "base_uri": "https://localhost:8080/"
        },
        "outputId": "de28d831-95bc-4dd3-8b40-d06ab1ebfbf2"
      }
    },
    {
      "cell_type": "markdown",
      "source": [
        "## Time-series plot\n",
        "The simple 2D CA below simulates a very simplistic pattern of forest logging over time.\n",
        "The rules are: forests grow more \"mature\" until the average age in a \"cut block\" exceeds some threshold, then the whole \"cut block\" is logged.\n",
        "Forests re-grow at different rates on different sites, reflecting variability in site conditions."
      ],
      "metadata": {
        "collapsed": false,
        "id": "HOBNMBWGptTp"
      }
    },
    {
      "cell_type": "code",
      "execution_count": 11,
      "outputs": [],
      "source": [
        "MATURE = 50       # \"maturity\" level at which a forest is considered \"mature\" (e.g., old-growth)\n",
        "\n",
        "class Logging(Cell2D):\n",
        "  \"\"\" 2D Cellular Automaton that simulates simple logging in large square cut blocks  \"\"\"\n",
        "  kernel = np.array([[1, 1, 1, 1, 1],\n",
        "                     [1, 1, 1, 1, 1],\n",
        "                     [1, 1, 1, 1, 1],\n",
        "                     [1, 1, 1, 1, 1],\n",
        "                     [1, 1, 1, 1, 1]])\n",
        "\n",
        "  def __init__(self, n, max_growth_rate=2, log_at=MATURE, initial_maturity=None):\n",
        "    \"\"\"\n",
        "    n: size of forest array is n x n\n",
        "    max_growth_rate: each forest cell \"matures\" at a rate in the range (0, max_growth_rate)\n",
        "                     representing varying site conditions\n",
        "    log_at:  \"cut blocks\" are logged when they reach this \"maturity\" level\n",
        "    initial_maturity: a 2-tuple defining (min, max) maturity - default:(0,log_at)\n",
        "                      forest is initialized with random \"maturity\" value in this range.\n",
        "    \"\"\"\n",
        "    initial_maturity = initial_maturity or (0, log_at)\n",
        "    self.array = np.array(np.random.randint(*initial_maturity, size=(n, n)), dtype='float64')\n",
        "    self.growth_rate = np.random.random(size=(n,n)) * max_growth_rate\n",
        "    self.log_at = log_at\n",
        "    self.size = n*n\n",
        "\n",
        "  def step(self):\n",
        "    \"\"\"Executes one time step, applying the CA rules to grow and log forest cut blocks.\"\"\"\n",
        "    a = self.array\n",
        "    average_maturity = correlate2d(a, self.kernel, mode='same') / self.kernel.size\n",
        "    loggable = average_maturity >= self.log_at\n",
        "    log = correlate2d(loggable, self.kernel, mode='same')  # log entire neighbourhood around where average is loggable\n",
        "    log_it = log>0\n",
        "    grow_it = log==0\n",
        "    self.array[log_it] = 0\n",
        "    self.array[grow_it] += self.growth_rate[grow_it]\n",
        "\n",
        "  def matured(self):\n",
        "    \"\"\" Return the proportion of forest that has re-grown to at least MATURE \"\"\"\n",
        "    return np.sum(self.array >= MATURE) / self.size\n",
        "\n",
        "  def draw(self):\n",
        "    \"\"\"Draws the cells.\"\"\"\n",
        "    plt.axes().set_title(\"Matured Forest: {}%\".format(round(self.matured()*100, 2)))\n",
        "    draw_array(self.array, cmap='Greens', vmin=0, vmax=MATURE)"
      ],
      "metadata": {
        "pycharm": {
          "name": "#%%\n"
        },
        "id": "10mbQzmAptTq"
      }
    },
    {
      "cell_type": "markdown",
      "source": [
        "A short animation to demonostrate the model behaviour"
      ],
      "metadata": {
        "collapsed": false,
        "id": "eg9DL1cOptTq"
      }
    },
    {
      "cell_type": "code",
      "execution_count": 12,
      "outputs": [
        {
          "output_type": "display_data",
          "data": {
            "text/plain": [
              "<Figure size 432x288 with 1 Axes>"
            ],
            "image/png": "[encoded data removed]"
          },
          "metadata": {}
        }
      ],
      "source": [
        "forest = Logging(100)\n",
        "forest.draw()\n",
        "forest.animate(frames=100, interval=0.1)"
      ],
      "metadata": {
        "pycharm": {
          "name": "#%%\n"
        },
        "id": "-Q0YYsWaptTq",
        "colab": {
          "base_uri": "https://localhost:8080/",
          "height": 268
        },
        "outputId": "d6d6256f-dd9c-425b-f43a-90441f8a5117"
      }
    },
    {
      "cell_type": "markdown",
      "source": [
        "### Q.6\n",
        "Plot the proportion of mature forest over time"
      ],
      "metadata": {
        "collapsed": false,
        "id": "RrapPUULptTq"
      }
    },
    {
      "cell_type": "code",
      "execution_count": 44,
      "outputs": [
        {
          "output_type": "execute_result",
          "data": {
            "text/plain": [
              "0.165821756487026"
            ]
          },
          "metadata": {},
          "execution_count": 44
        },
        {
          "output_type": "display_data",
          "data": {
            "text/plain": [
              "<Figure size 432x288 with 1 Axes>"
            ],
            "image/png": "[encoded data removed]"
          },
          "metadata": {
            "needs_background": "light"
          }
        }
      ],
      "source": [
        "def mature_proportion(forest, run_length=500):\n",
        "  occupied = [forest.matured()]\n",
        "  for _ in range(run_length):\n",
        "    forest.step()\n",
        "    occupied.append(forest.matured())\n",
        "  return occupied[100:] #slice off initial extreme swings in forest change\n",
        "\n",
        "def mean(list):\n",
        "  return (sum(list)/len(list))\n",
        "\n",
        "test_forest = Logging(100)\n",
        "\n",
        "pct_matured = mature_proportion(test_forest, 600)\n",
        "plt.plot(pct_matured)\n",
        "\n",
        "\n",
        "mean(pct_matured)"
      ],
      "metadata": {
        "pycharm": {
          "name": "#%%\n"
        },
        "colab": {
          "base_uri": "https://localhost:8080/",
          "height": 282
        },
        "id": "0ThFGP4NptTr",
        "outputId": "678bf1c6-2517-4d6f-bfff-607eacf4e41e"
      }
    },
    {
      "cell_type": "markdown",
      "source": [
        "### Q.7\n",
        "What is the system \"steady state\" with the model parameters used to generate the plot above?\n",
        "Does the system reach a stable \"equilibrium\", or is it better described as dynamic / oscillating\n",
        "How would you explain the shape of the plot above in terms of the model behaviour?"
      ],
      "metadata": {
        "collapsed": false,
        "id": "fk9fvkpOptTr"
      }
    },
    {
      "cell_type": "markdown",
      "source": [
        "I would say the model enters and oscillating equilibrium of 15-18% coverage. \n",
        "\n",
        "It never truly reaches an unchanging state, but does not demonstrate any large \n",
        "\n",
        "movements away from it's equilibrium range. It oscillates between states of \n",
        "\n",
        "overly forested and overly logged, represented respectively as the high peaks \n",
        "\n",
        "and low troughs on the graph above. Regular short, sharp jumps on the \n",
        "\n",
        "graph showing continuous logging as patches mature"
      ],
      "metadata": {
        "collapsed": false,
        "id": "ENqvUd3yptTr"
      }
    },
    {
      "cell_type": "markdown",
      "source": [
        "### Q.8  (bonus question)\n",
        "Develop a computational experiment to show how variability in regrowth rate and/or the time-to-maturity alter the model dynamics?"
      ],
      "metadata": {
        "collapsed": false,
        "id": "OG2MZyrfptTr"
      }
    },
    {
      "cell_type": "code",
      "execution_count": 50,
      "outputs": [
        {
          "output_type": "execute_result",
          "data": {
            "text/plain": [
              "[<matplotlib.lines.Line2D at 0x7f7f91cb5b50>]"
            ]
          },
          "metadata": {},
          "execution_count": 50
        },
        {
          "output_type": "display_data",
          "data": {
            "text/plain": [
              "<Figure size 432x288 with 1 Axes>"
            ],
            "image/png": "[encoded data removed]"
          },
          "metadata": {
            "needs_background": "light"
          }
        }
      ],
      "source": [
        "# Solution for Q.8 here\n",
        "\n",
        "#Run multiple test to 500 steps with changes to regrowth and ttm, store in a list and  \n",
        "\n",
        "def inc_regrowth_test(num_tests, pct_increase):\n",
        "  \"\"\"Run a number of tests where the growth rate is incremented\"\"\"\n",
        "  #num_test: Number of tests to be run\n",
        "  #pct_increase: Percentage increase in growth rate for each test\n",
        "\n",
        "  rate = 2\n",
        "  result = []\n",
        "  for _ in range(num_tests):\n",
        "    forest = Logging(100, max_growth_rate=rate)\n",
        "    result.append(mean(mature_proportion(forest)))\n",
        "    rate += (rate*(pct_increase/100))\n",
        "  return result\n",
        "\n",
        "def inc_time_to_regrowth_test(num_tests, pct_increase):\n",
        "  \"\"\"Run a number of tests where the time to regrowth is incremented\"\"\"\n",
        "  #num_test: Number of tests to be run\n",
        "  #pct_increase: Percentage increase in time to regrowth for each test\n",
        "\n",
        "  time = 50\n",
        "  result = []\n",
        "  for _ in range(num_tests):\n",
        "    forest = Logging(100, log_at=time)\n",
        "    result.append(mean(mature_proportion(forest)))\n",
        "    time += (time*(pct_increase/100))\n",
        "  return result\n",
        "\n",
        "plt.plot(inc_time_to_regrowth_test(10, 5), label='Varied Regrowth')\n",
        "plt.plot(inc_regrowth_test(10, 5),label='varied Time to Regrowth')\n",
        "\n",
        "\n"
      ],
      "metadata": {
        "pycharm": {
          "name": "#%%\n"
        },
        "id": "KUEEbl2BptTr",
        "colab": {
          "base_uri": "https://localhost:8080/",
          "height": 282
        },
        "outputId": "1ad4cd2d-cda0-4ddc-832a-439eae500ba3"
      }
    }
  ],
  "metadata": {
    "kernelspec": {
      "display_name": "Python 3",
      "language": "python",
      "name": "python3"
    },
    "language_info": {
      "codemirror_mode": {
        "name": "ipython",
        "version": 2
      },
      "file_extension": ".py",
      "mimetype": "text/x-python",
      "name": "python",
      "nbconvert_exporter": "python",
      "pygments_lexer": "ipython2",
      "version": "2.7.6"
    },
    "colab": {
      "name": "graham_final_midterm.ipynb",
      "provenance": [],
      "collapsed_sections": [],
      "include_colab_link": true
    }
  },
  "nbformat": 4,
  "nbformat_minor": 0
}