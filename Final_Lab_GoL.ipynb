{
  "cells": [
    {
      "cell_type": "markdown",
      "metadata": {
        "id": "view-in-github",
        "colab_type": "text"
      },
      "source": [
        "<a href=\"https://colab.research.google.com/github/grahamswanston/cap-comp215/blob/main/Final_Lab_GoL.ipynb\" target=\"_parent\"><img src=\"https://colab.research.google.com/assets/colab-badge.svg\" alt=\"Open In Colab\"/></a>"
      ]
    },
    {
      "cell_type": "markdown",
      "metadata": {
        "id": "4m3o3TLB_gKV"
      },
      "source": [
        "# Game of Life\n",
        "\n",
        "Code examples from [Think Complexity, 2nd edition](https://thinkcomplex.com).\n",
        "\n",
        "Copyright 2016 Allen Downey, [MIT License](http://opensource.org/licenses/MIT)"
      ]
    },
    {
      "cell_type": "code",
      "execution_count": null,
      "metadata": {
        "id": "6IZZIPBa_gKf"
      },
      "outputs": [],
      "source": [
        "%matplotlib inline\n",
        "\n",
        "import matplotlib.pyplot as plt\n",
        "import numpy as np\n",
        "import seaborn as sns\n",
        "import os\n",
        "import random"
      ]
    },
    {
      "cell_type": "code",
      "source": [
        "ALIVE = 1\n",
        "DEAD = 0"
      ],
      "metadata": {
        "id": "Yv3szw2rUhRC"
      },
      "execution_count": null,
      "outputs": []
    },
    {
      "cell_type": "code",
      "source": [
        "\"\"\" Code example from Complexity and Computation, a book about\n",
        "exploring complexity science with Python.  Available free from\n",
        "\n",
        "http://greenteapress.com/complexity\n",
        "\n",
        "Copyright 2016 Allen Downey\n",
        "MIT License: http://opensource.org/licenses/MIT\n",
        "\"\"\"\n",
        "\n",
        "import numpy as np\n",
        "import matplotlib.pyplot as plt\n",
        "\n",
        "# Here's how animate works\n",
        "# https://stackoverflow.com/questions/24816237/ipython-notebook-clear-cell-output-in-code\n",
        "# https://ipython.readthedocs.io/en/stable/api/generated/IPython.display.html#IPython.display.clear_output\n",
        "    \n",
        "from time import sleep\n",
        "from IPython.display import clear_output\n",
        "\n",
        "if not os.path.exists('utils.py'):\n",
        "    !wget https://raw.githubusercontent.com/AllenDowney/ThinkComplexity2/master/notebooks/utils.py\n",
        "\n",
        "class Cell2D:\n",
        "    \"\"\"Parent class for 2-D cellular automata.\"\"\"\n",
        "\n",
        "    def __init__(self, n, m=None):\n",
        "        \"\"\"Initializes the attributes.\n",
        "\n",
        "        n: number of rows\n",
        "        m: number of columns\n",
        "        \"\"\"\n",
        "\n",
        "        m = n if m is None else m\n",
        "        self.array = np.zeros((n, m), np.uint8)\n",
        "\n",
        "    def add_cells(self, row, col, *strings):\n",
        "        \"\"\"Adds cells at the given location.\n",
        "\n",
        "        row: top row index\n",
        "        col: left col index\n",
        "        strings: list of strings of 0s and 1s\n",
        "        \"\"\"\n",
        "        for i, s in enumerate(strings):\n",
        "            self.array[row+i, col:col+len(s)] = np.array([int(b) for b in s])\n",
        "\n",
        "    def loop(self, iters=1):\n",
        "        \"\"\"Runs the given number of steps.\"\"\"\n",
        "        for i in range(iters):\n",
        "            self.step()\n",
        "\n",
        "\n",
        "    def draw(self, **options):\n",
        "        \"\"\"Draws the array.\n",
        "        \"\"\"\n",
        "        draw_array(self.array, **options)\n",
        "\n",
        "    def animate(self, frames, interval=None, step=None):\n",
        "        \"\"\"Animate the automaton.\n",
        "        \n",
        "        frames: number of frames to draw\n",
        "        interval: time between frames in seconds\n",
        "        iters: number of steps between frames\n",
        "        \"\"\"\n",
        "        if step is None:\n",
        "            step = self.step\n",
        "            \n",
        "        plt.figure()\n",
        "        try:\n",
        "            for i in range(frames-1):\n",
        "                self.draw()\n",
        "                plt.show()\n",
        "                if interval:\n",
        "                    sleep(interval)\n",
        "                step()\n",
        "                clear_output(wait=True)\n",
        "            self.draw()\n",
        "            plt.show()\n",
        "        except KeyboardInterrupt:\n",
        "            pass\n",
        "\n",
        "\n",
        "def draw_array(array, **options):\n",
        "    \"\"\"Draws the cells.\"\"\"\n",
        "    n, m = array.shape\n",
        "    defaults = {\n",
        "                'cmap': 'Greens',\n",
        "                'alpha': 0.7,\n",
        "                'vmin': 0,\n",
        "                'vmax': 1, \n",
        "                'interpolation': 'none', \n",
        "                'origin': 'upper',\n",
        "                'extent': [0, m, 0, n]\n",
        "                }\n",
        "\n",
        "    options = {k: v for d in [defaults, options] for k, v in d.items()}\n",
        "\n",
        "    plt.axis([0, m, 0, n])\n",
        "    plt.xticks([])\n",
        "    plt.yticks([])\n",
        "\n",
        "    return plt.imshow(array, **options)"
      ],
      "metadata": {
        "id": "BTYpYh17mfFp"
      },
      "execution_count": null,
      "outputs": []
    },
    {
      "cell_type": "code",
      "source": [
        "options = {'colours': ['red', 'blue', 'green', 'yellow'],\n",
        "           'size' : ['small', 'medium', 'large'],\n",
        "           'shape': 'round',\n",
        "           'growth' : 0.005\n",
        "           }\n",
        "\n",
        "defaults = {'colours' : ['yellow', 'orange', 'purple'],\n",
        "            'size': 'small',\n",
        "            'shape': 'square',\n",
        "            'time': 'hh:mm:ss',\n",
        "            'speed': '200'\n",
        "            }"
      ],
      "metadata": {
        "id": "WL6IOEBoZ9aC"
      },
      "execution_count": null,
      "outputs": []
    },
    {
      "cell_type": "code",
      "source": [
        "#Merging options and defaults dictionaries, no change in defaults\n",
        "\n",
        "dict3 = {**defaults, **options}\n",
        "print(dict3)\n",
        "\n",
        "dict4 = defaults.copy()\n",
        "dict4.update(options)\n",
        "print(dict4)\n",
        "dict5 = {k: v for d in [options, defaults] for k, v in d.items()}\n",
        "print(dict5)\n",
        "\n"
      ],
      "metadata": {
        "id": "VIo9m1GHbnGk",
        "outputId": "9f6a7a04-a150-4aba-ef6e-b44a391f49ba",
        "colab": {
          "base_uri": "https://localhost:8080/"
        }
      },
      "execution_count": null,
      "outputs": [
        {
          "output_type": "stream",
          "name": "stdout",
          "text": [
            "{'colours': ['red', 'blue', 'green', 'yellow'], 'size': ['small', 'medium', 'large'], 'shape': 'round', 'time': 'hh:mm:ss', 'speed': '200', 'growth': 0.005}\n",
            "{'colours': ['red', 'blue', 'green', 'yellow'], 'size': ['small', 'medium', 'large'], 'shape': 'round', 'time': 'hh:mm:ss', 'speed': '200', 'growth': 0.005}\n",
            "{'colours': ['yellow', 'orange', 'purple'], 'size': 'small', 'shape': 'square', 'growth': 0.005, 'time': 'hh:mm:ss', 'speed': '200'}\n"
          ]
        }
      ]
    },
    {
      "cell_type": "markdown",
      "source": [
        "###Exercise 2 Enumerating Elementary 2D CA’s?"
      ],
      "metadata": {
        "id": "FYmSRMzNq-8M"
      }
    },
    {
      "cell_type": "code",
      "source": [
        "neighbourhood = np.array([[0,0,0],\n",
        "                          [0,0,0],\n",
        "                          [0,0,0]])\n",
        "\n",
        "#9 locations with 2 possible states, so 2*2*2*2*2*2*2*2*2 or 2^9 = 512 possibilities\n",
        "\n",
        "#from week 5 example\n",
        "\n",
        "size_of_neighbourhood = 9            # for Wolfram's set of simple CA's\n",
        "n_states_for_one_cell = 2            # on or off\n",
        "n_neighbourhood_states = n_states_for_one_cell ** size_of_neighbourhood    # 2**9 == 512\n",
        "\n",
        "print('Number of unique neighbourhood states for {n_state} state CA with neighbourhood size {n_size}: {n_rules}'.format(\n",
        "    n_state=n_states_for_one_cell, n_size=size_of_neighbourhood, n_rules=n_neighbourhood_states\n",
        "))\n",
        "\n",
        "bit = (0,1)\n",
        "states = [[(i,j,k),(l,m,n),(o,p,q)] for i in bit for j in bit for k in bit for l in bit for m in bit for n in bit for o in bit for p in bit for q in bit]\n",
        "states[-25:]\n"
      ],
      "metadata": {
        "id": "TeoUR3wWq_Lm",
        "outputId": "71357c5d-0324-40e2-b3b1-b1b180f49fe0",
        "colab": {
          "base_uri": "https://localhost:8080/"
        }
      },
      "execution_count": null,
      "outputs": [
        {
          "output_type": "stream",
          "name": "stdout",
          "text": [
            "Number of unique neighbourhood states for 2 state CA with neighbourhood size 9: 512\n"
          ]
        },
        {
          "output_type": "execute_result",
          "data": {
            "text/plain": [
              "[[(1, 1, 1), (1, 0, 0), (1, 1, 1)],\n",
              " [(1, 1, 1), (1, 0, 1), (0, 0, 0)],\n",
              " [(1, 1, 1), (1, 0, 1), (0, 0, 1)],\n",
              " [(1, 1, 1), (1, 0, 1), (0, 1, 0)],\n",
              " [(1, 1, 1), (1, 0, 1), (0, 1, 1)],\n",
              " [(1, 1, 1), (1, 0, 1), (1, 0, 0)],\n",
              " [(1, 1, 1), (1, 0, 1), (1, 0, 1)],\n",
              " [(1, 1, 1), (1, 0, 1), (1, 1, 0)],\n",
              " [(1, 1, 1), (1, 0, 1), (1, 1, 1)],\n",
              " [(1, 1, 1), (1, 1, 0), (0, 0, 0)],\n",
              " [(1, 1, 1), (1, 1, 0), (0, 0, 1)],\n",
              " [(1, 1, 1), (1, 1, 0), (0, 1, 0)],\n",
              " [(1, 1, 1), (1, 1, 0), (0, 1, 1)],\n",
              " [(1, 1, 1), (1, 1, 0), (1, 0, 0)],\n",
              " [(1, 1, 1), (1, 1, 0), (1, 0, 1)],\n",
              " [(1, 1, 1), (1, 1, 0), (1, 1, 0)],\n",
              " [(1, 1, 1), (1, 1, 0), (1, 1, 1)],\n",
              " [(1, 1, 1), (1, 1, 1), (0, 0, 0)],\n",
              " [(1, 1, 1), (1, 1, 1), (0, 0, 1)],\n",
              " [(1, 1, 1), (1, 1, 1), (0, 1, 0)],\n",
              " [(1, 1, 1), (1, 1, 1), (0, 1, 1)],\n",
              " [(1, 1, 1), (1, 1, 1), (1, 0, 0)],\n",
              " [(1, 1, 1), (1, 1, 1), (1, 0, 1)],\n",
              " [(1, 1, 1), (1, 1, 1), (1, 1, 0)],\n",
              " [(1, 1, 1), (1, 1, 1), (1, 1, 1)]]"
            ]
          },
          "metadata": {},
          "execution_count": 6
        }
      ]
    },
    {
      "cell_type": "markdown",
      "source": [
        "For a 3 cell neighbourhood, 2^8 = 256 rules\n",
        "\n",
        "for a 9 cell neighbourhood, 2^512 =~ 1.34078*10^154 \n",
        "\n",
        "It is believed all the matter in the universe is made up of the equivalent of 10^80 hydrogen atoms, so this is an ungodly ammount on rules"
      ],
      "metadata": {
        "id": "OW4Umxvz3c1h"
      }
    },
    {
      "cell_type": "code",
      "source": [
        "states[1]"
      ],
      "metadata": {
        "id": "LY3H4w1Q3exx",
        "outputId": "748a27af-760b-40f8-cfc9-1ad908ed5651",
        "colab": {
          "base_uri": "https://localhost:8080/"
        }
      },
      "execution_count": null,
      "outputs": [
        {
          "output_type": "execute_result",
          "data": {
            "text/plain": [
              "[(0, 0, 0), (0, 0, 0), (0, 0, 1)]"
            ]
          },
          "metadata": {},
          "execution_count": 7
        }
      ]
    },
    {
      "cell_type": "markdown",
      "source": [
        "Since each of the 3 dimensions of the neighbourhood are 3 long, we can break them into 3 seperate units and use wolframs method to process each row into their 256 possible states, and enumerating each state as a tuple (1-256, 1-256, 1-256)."
      ],
      "metadata": {
        "id": "9DlLfrQo-2wa"
      }
    },
    {
      "cell_type": "markdown",
      "metadata": {
        "id": "z2mgtKhq_gKi"
      },
      "source": [
        "## Game of Life entities\n",
        "\n"
      ]
    },
    {
      "cell_type": "code",
      "execution_count": null,
      "metadata": {
        "id": "0g20qfjE_gKj"
      },
      "outputs": [],
      "source": [
        "from scipy.signal import correlate2d\n",
        "\n",
        "\n",
        "class Life(Cell2D):\n",
        "    \"\"\"Implementation of Conway's Game of Life.\"\"\"\n",
        "    kernel = np.array([[1, 1, 1],\n",
        "                       [1,10, 1],\n",
        "                       [1, 1, 1]])\n",
        "\n",
        "    table = np.zeros(20, dtype=np.uint8)\n",
        "    table[[3, 12, 13]] = 1\n",
        "\n",
        "    def step(self):\n",
        "        \"\"\"Executes one time step.\"\"\"\n",
        "        is_alive = self.array==ALIVE\n",
        "        is_dead = self.array==DEAD\n",
        "\n",
        "\n",
        "        c = correlate2d(self.array, self.kernel, mode='same')\n",
        "        self.array = self.table[c]\n",
        "\n",
        "            \n",
        "    def num_alive(self):\n",
        "      return len(self.array[self.array == ALIVE])\n",
        "\n",
        "    def num_dead(self):\n",
        "      return len(self.array[self.array == DEAD])"
      ]
    },
    {
      "cell_type": "markdown",
      "metadata": {
        "id": "QSwbAAJK_gKk"
      },
      "source": [
        "The following function creates a `Life` object and sets the initial condition using strings of `0` and `1` characters."
      ]
    },
    {
      "cell_type": "code",
      "execution_count": null,
      "metadata": {
        "id": "p-64ThEb_gKl"
      },
      "outputs": [],
      "source": [
        "def make_life(n, m, row, col, *strings):\n",
        "    \"\"\"Makes a Life object.\n",
        "    \n",
        "    n, m: rows and columns of the Life array\n",
        "    row, col: upper left coordinate of the cells to be added\n",
        "    strings: list of strings of '0' and '1'\n",
        "    \"\"\"\n",
        "    life = Life(n, m)\n",
        "    life.add_cells(row, col, *strings)\n",
        "    return life"
      ]
    },
    {
      "cell_type": "markdown",
      "metadata": {
        "id": "tX9Rv4NU_gKm"
      },
      "source": [
        "A beehive is a stable entity, also called a \"still life\""
      ]
    },
    {
      "cell_type": "code",
      "execution_count": null,
      "metadata": {
        "id": "qCdt3QJ9_gKn",
        "outputId": "e63afd09-0afa-4a87-da76-a46bf0f602ac",
        "colab": {
          "base_uri": "https://localhost:8080/",
          "height": 252
        }
      },
      "outputs": [
        {
          "output_type": "display_data",
          "data": {
            "text/plain": [
              "<Figure size 432x288 with 1 Axes>"
            ],
            "image/png": "[encoded data removed]"
          },
          "metadata": {}
        }
      ],
      "source": [
        "# beehive\n",
        "life = make_life(3, 4, 0, 0, '0110', '1001', '0110')\n",
        "life.draw()\n",
        "#plt.show('figs/chap06-1')"
      ]
    },
    {
      "cell_type": "markdown",
      "metadata": {
        "id": "VCvf6wSp_gKp"
      },
      "source": [
        "Here's what it looks like after one step:"
      ]
    },
    {
      "cell_type": "code",
      "execution_count": null,
      "metadata": {
        "id": "_PEQ0M2c_gKq",
        "outputId": "d043c33a-ee13-4ecf-a703-a98a0ad3b76a",
        "colab": {
          "base_uri": "https://localhost:8080/",
          "height": 252
        }
      },
      "outputs": [
        {
          "output_type": "display_data",
          "data": {
            "text/plain": [
              "<Figure size 432x288 with 1 Axes>"
            ],
            "image/png": "[encoded data removed]"
          },
          "metadata": {}
        }
      ],
      "source": [
        "life.step()\n",
        "life.draw()"
      ]
    },
    {
      "cell_type": "markdown",
      "metadata": {
        "id": "r9VAEcz2_gKr"
      },
      "source": [
        "A toad is an oscillator with period 2.  Here's are its two configurations:"
      ]
    },
    {
      "cell_type": "code",
      "execution_count": null,
      "metadata": {
        "id": "x0bH36P4_gKr",
        "outputId": "0938b240-3d04-46f5-e913-fa84993b00b9",
        "colab": {
          "base_uri": "https://localhost:8080/",
          "height": 288
        }
      },
      "outputs": [
        {
          "output_type": "display_data",
          "data": {
            "text/plain": [
              "<Figure size 720x360 with 2 Axes>"
            ],
            "image/png": "[encoded data removed]"
          },
          "metadata": {}
        }
      ],
      "source": [
        "# toad\n",
        "plt.figure(figsize=(10, 5))\n",
        "plt.subplot(1, 2, 1)\n",
        "life = make_life(4, 4, 1, 0, '0111', '1110')\n",
        "life.draw()\n",
        "\n",
        "plt.subplot(1, 2, 2)\n",
        "life.step()\n",
        "life.draw()\n",
        "\n",
        "plt.show('figs/chap06-2')"
      ]
    },
    {
      "cell_type": "markdown",
      "metadata": {
        "id": "ySxJf49i_gKs"
      },
      "source": [
        "Here's what the toad looks like as an animation."
      ]
    },
    {
      "cell_type": "code",
      "execution_count": null,
      "metadata": {
        "id": "sII5eq5-_gKt",
        "outputId": "06c8cd32-75f1-46f2-f953-d506c9bc4bf5",
        "colab": {
          "base_uri": "https://localhost:8080/",
          "height": 252
        }
      },
      "outputs": [
        {
          "output_type": "display_data",
          "data": {
            "text/plain": [
              "<Figure size 432x288 with 1 Axes>"
            ],
            "image/png": "[encoded data removed]"
          },
          "metadata": {}
        }
      ],
      "source": [
        "life = make_life(4, 4, 1, 0, '0111', '1110')\n",
        "life.animate(10, 0.5)"
      ]
    },
    {
      "cell_type": "markdown",
      "metadata": {
        "id": "VMk8z8oC_gKu"
      },
      "source": [
        "A glider is a spaceship that translates one unit down and to the right with period 4. "
      ]
    },
    {
      "cell_type": "code",
      "execution_count": null,
      "metadata": {
        "id": "4eX1fc3Y_gKv",
        "outputId": "115c0adb-72d6-42ac-de60-f2c1eb9edef4",
        "colab": {
          "base_uri": "https://localhost:8080/",
          "height": 150
        }
      },
      "outputs": [
        {
          "output_type": "display_data",
          "data": {
            "text/plain": [
              "<Figure size 864x288 with 5 Axes>"
            ],
            "image/png": "[encoded data removed]"
          },
          "metadata": {}
        }
      ],
      "source": [
        "# glider\n",
        "plt.figure(figsize=(12, 4))\n",
        "\n",
        "glider = ['010', '001', '111']\n",
        "life = make_life(4, 4, 0, 0, *glider)\n",
        "\n",
        "for i in range(1, 6):\n",
        "    plt.subplot(1, 5, i)\n",
        "    life.draw()\n",
        "    life.step()\n",
        "    \n",
        "plt.show('figs/chap06-3')"
      ]
    },
    {
      "cell_type": "markdown",
      "metadata": {
        "id": "GccVliE__gKv"
      },
      "source": [
        "Here's an animation showing glider movement."
      ]
    },
    {
      "cell_type": "code",
      "execution_count": null,
      "metadata": {
        "id": "8XQZHx-l_gKw",
        "outputId": "11e0bd7b-cb26-41cb-a6b2-c24304d3cc5b",
        "colab": {
          "base_uri": "https://localhost:8080/",
          "height": 252
        }
      },
      "outputs": [
        {
          "output_type": "display_data",
          "data": {
            "text/plain": [
              "<Figure size 432x288 with 1 Axes>"
            ],
            "image/png": "[encoded data removed]"
          },
          "metadata": {}
        }
      ],
      "source": [
        "life = make_life(10, 10, 0, 0, '010', '001', '111')\n",
        "life.animate(frames=28, interval=0.2)"
      ]
    },
    {
      "cell_type": "markdown",
      "metadata": {
        "id": "ZmqZIf3j_gKx"
      },
      "source": [
        "**Exercise:** If you start GoL from a random configuration, it usually runs chaotically for a while and then settles into stable patterns that include blinkers, blocks, and beehives, ships, boats, and loaves.\n",
        "\n",
        "Start GoL in a random state and run it until it stabilizes (try 1000 steps).\n",
        "What stable patterns can you identify?\n",
        "\n",
        "Hint: use `np.random.randint`."
      ]
    },
    {
      "cell_type": "code",
      "execution_count": null,
      "metadata": {
        "id": "WCekfjj6_gKy",
        "outputId": "b5de11df-f2c4-4998-d385-72942e7b56a0",
        "colab": {
          "base_uri": "https://localhost:8080/",
          "height": 252
        }
      },
      "outputs": [
        {
          "output_type": "display_data",
          "data": {
            "text/plain": [
              "<Figure size 432x288 with 1 Axes>"
            ],
            "image/png": "[encoded data removed]"
          },
          "metadata": {}
        }
      ],
      "source": [
        "def make_random_life(n, m, p):\n",
        "    \"\"\"Makes a Life object.\n",
        "    \n",
        "    n, m: rows and columns of the Life array\n",
        "    p: probability of a cell being alive when initiated\n",
        "    strings: list of strings of '0' and '1'\n",
        "    \"\"\"\n",
        "    life = Life(n, m)\n",
        "    life.array = np.random.choice([DEAD, ALIVE], size = (n, m), p=[1-p, p])\n",
        "    return life\n",
        "\n",
        "random_life = make_random_life(50, 50, 0.25)\n",
        "random_life.animate(frames=28, interval=0.2)"
      ]
    },
    {
      "cell_type": "code",
      "source": [
        "def alive_cells(cell2D, run_length=1000):\n",
        "  alive = [cell2D.num_alive()]\n",
        "  for _ in range(run_length):\n",
        "    cell2D.step()\n",
        "    alive.append(cell2D.num_alive())\n",
        "  return alive\n",
        "\n",
        "test = make_random_life(100, 100, 0.1)\n",
        "results_1 = alive_cells(test)\n",
        "plt.plot(results_1)"
      ],
      "metadata": {
        "id": "OV3JO2urXXDo",
        "outputId": "a4d301d9-a2e7-4055-e0e6-43acfee0e85c",
        "colab": {
          "base_uri": "https://localhost:8080/",
          "height": 282
        }
      },
      "execution_count": null,
      "outputs": [
        {
          "output_type": "execute_result",
          "data": {
            "text/plain": [
              "[<matplotlib.lines.Line2D at 0x7f1762450710>]"
            ]
          },
          "metadata": {},
          "execution_count": 18
        },
        {
          "output_type": "display_data",
          "data": {
            "text/plain": [
              "<Figure size 432x288 with 1 Axes>"
            ],
            "image/png": "[encoded data removed]"
          },
          "metadata": {
            "needs_background": "light"
          }
        }
      ]
    },
    {
      "cell_type": "code",
      "source": [
        ""
      ],
      "metadata": {
        "id": "lKTGselXavXh"
      },
      "execution_count": null,
      "outputs": []
    },
    {
      "cell_type": "code",
      "source": [
        "def test_data_storage(n=100, p=0.1, inc=0.05, runtime=1000, margin=5, j= 5):\n",
        "  \"\"\"run multiple tests with varying probababilities of initial alive cells, return a dict of results\n",
        "  n: size of array\n",
        "  p: starting probability of initially being alive\n",
        "  inc: increment increase of probability for each test\n",
        "  runtime: steps per test\n",
        "  margin: number of times each state is tested\n",
        "  j: number of tests to be done\n",
        "  \"\"\"\n",
        "\n",
        "  results = []\n",
        "  \n",
        "  for i in range(j):\n",
        "    for r in range(margin):\n",
        "      test_life = make_random_life(n, n, p)\n",
        "      cell_count = alive_cells(test_life, runtime)\n",
        "      run = {\n",
        "              'name' : f\"test {i}:{r}\",\n",
        "              'probability': '{p}'.format(p=p),\n",
        "              'alive_cells': cell_count,\n",
        "             }\n",
        "\n",
        "      results.append(run)\n",
        "    p = (p + inc)\n",
        "  return results\n",
        "\n",
        "filled_dict = test_data_storage()"
      ],
      "metadata": {
        "id": "LnZot_4abCTl"
      },
      "execution_count": null,
      "outputs": []
    },
    {
      "cell_type": "code",
      "source": [
        "for i in range(len(filled_dict)):\n",
        "  window = 7\n",
        "  steady_state = []\n",
        "\n",
        "#def count_to_steady(**dict):\n",
        "\n"
      ],
      "metadata": {
        "id": "rrBA_qzftDug",
        "outputId": "bc0b3c56-6d94-4766-cb11-5c4cbf2f3147",
        "colab": {
          "base_uri": "https://localhost:8080/"
        }
      },
      "execution_count": null,
      "outputs": [
        {
          "output_type": "stream",
          "name": "stdout",
          "text": [
            "0.1\n",
            "0.1\n",
            "0.1\n",
            "0.1\n",
            "0.1\n",
            "0.15000000000000002\n",
            "0.15000000000000002\n",
            "0.15000000000000002\n",
            "0.15000000000000002\n",
            "0.15000000000000002\n",
            "0.2\n",
            "0.2\n",
            "0.2\n",
            "0.2\n",
            "0.2\n",
            "0.25\n",
            "0.25\n",
            "0.25\n",
            "0.25\n",
            "0.25\n",
            "0.3\n",
            "0.3\n",
            "0.3\n",
            "0.3\n",
            "0.3\n"
          ]
        }
      ]
    },
    {
      "cell_type": "markdown",
      "metadata": {
        "id": "DT1QQ5oH_gKz"
      },
      "source": [
        "### Methuselas\n",
        "\n",
        "Most initial conditions run for a short time and reach a steady state.  But some initial conditional run for a surprisingly long time; they are called Methuselahs.\n",
        "\n",
        "The r-pentomino starts with only five live cells, but it runs for 1103 steps before stabilizing."
      ]
    },
    {
      "cell_type": "code",
      "execution_count": null,
      "metadata": {
        "id": "IE-No8cx_gKz"
      },
      "outputs": [],
      "source": [
        "# r pentomino\n",
        "rpent = ['011', '110', '010']\n",
        "life = make_life(3, 3, 0, 0, *rpent)\n",
        "life.draw()"
      ]
    },
    {
      "cell_type": "markdown",
      "metadata": {
        "id": "BGDMi2hX_gK0"
      },
      "source": [
        "Here are the start and finish configurations."
      ]
    },
    {
      "cell_type": "code",
      "execution_count": null,
      "metadata": {
        "id": "hmvKMot__gK0"
      },
      "outputs": [],
      "source": [
        "# r pentomino\n",
        "plt.figure(figsize=(10, 5))\n",
        "plt.subplot(1, 2, 1)\n",
        "life = make_life(120, 120, 50, 45, *rpent)\n",
        "life.draw()\n",
        "\n",
        "for i in range(1103):\n",
        "    life.step()\n",
        "\n",
        "plt.subplot(1, 2, 2)\n",
        "life.draw()\n",
        "\n",
        "plt.show('figs/chap06-4')"
      ]
    },
    {
      "cell_type": "markdown",
      "metadata": {
        "id": "mxlgtLb4_gK1"
      },
      "source": [
        "And here's the animation that shows the steps."
      ]
    },
    {
      "cell_type": "code",
      "execution_count": null,
      "metadata": {
        "id": "ZSmUWKVb_gK1"
      },
      "outputs": [],
      "source": [
        "life = make_life(120, 120, 50, 45, *rpent)\n",
        "life.animate(frames=1200)"
      ]
    },
    {
      "cell_type": "markdown",
      "metadata": {
        "id": "V33AkjVi_gK2"
      },
      "source": [
        "### Conway's conjecture"
      ]
    },
    {
      "cell_type": "markdown",
      "metadata": {
        "id": "bhx0x3QS_gK2"
      },
      "source": [
        "Most initial conditions run for a short time and reach a steady state.  Some, like the r-pentomino, run for a long time before they reach steady state.  Another example is rabbits, which starts with only nine cells and runs 17331 steps before reaching steady state.\n",
        "\n",
        "To run my implementation of rabbits, open a terminal in `ThinkComplexity2/code` and run\n",
        "\n",
        "```\n",
        "python LifeRabbits.py\n",
        "```\n",
        "\n",
        "Patterns that take a long time to reach steady state are called Methuselahs.\n",
        "\n",
        "Patterns like these prompted Conway's conjecture, which asks whether there are any initial conditions where the number of live cells is unbounded."
      ]
    },
    {
      "cell_type": "markdown",
      "metadata": {
        "id": "LxndxLly_gK3"
      },
      "source": [
        "Gosper's glider gun was the first entity to be discovered that produces an unbounded number of live cells, which refutes Conway's conjecture."
      ]
    },
    {
      "cell_type": "code",
      "execution_count": null,
      "metadata": {
        "id": "f5b1HNUH_gK3"
      },
      "outputs": [],
      "source": [
        "glider_gun = [\n",
        "    '000000000000000000000000100000000000',\n",
        "    '000000000000000000000010100000000000',\n",
        "    '000000000000110000001100000000000011',\n",
        "    '000000000001000100001100000000000011',\n",
        "    '110000000010000010001100000000000000',\n",
        "    '110000000010001011000010100000000000',\n",
        "    '000000000010000010000000100000000000',\n",
        "    '000000000001000100000000000000000000',\n",
        "    '000000000000110000000000000000000000'\n",
        "]"
      ]
    },
    {
      "cell_type": "markdown",
      "metadata": {
        "id": "N-w7IZbr_gK4"
      },
      "source": [
        "Here's the initial configuration:"
      ]
    },
    {
      "cell_type": "code",
      "execution_count": null,
      "metadata": {
        "id": "5qxWSApy_gK4"
      },
      "outputs": [],
      "source": [
        "life = make_life(11, 38, 1, 1, *glider_gun)\n",
        "life.draw()\n",
        "\n",
        "plt.show('figs/chap06-5')"
      ]
    },
    {
      "cell_type": "markdown",
      "metadata": {
        "id": "xxeaONpf_gK4"
      },
      "source": [
        "And here's what it looks like running:"
      ]
    },
    {
      "cell_type": "code",
      "execution_count": null,
      "metadata": {
        "id": "D5QiOAJP_gK5"
      },
      "outputs": [],
      "source": [
        "life = make_life(50, 50, 2, 2, *glider_gun)\n",
        "life.animate(frames=200)"
      ]
    },
    {
      "cell_type": "markdown",
      "metadata": {
        "id": "Sq05TGAy_gK5"
      },
      "source": [
        "**Puffer train**\n",
        "\n",
        "Another way to \"refute\" Conway's conjecture is a puffer train.\n",
        "\n",
        "To see a puffer train run, open a terminal and run\n",
        "\n",
        "```\n",
        "python LifePuffer.py\n",
        "```"
      ]
    },
    {
      "cell_type": "markdown",
      "metadata": {
        "id": "VhZvZaGZ_gK5"
      },
      "source": [
        "### Implementing Game of Life\n",
        "\n",
        "As an example, I'll start with an array of random cells:"
      ]
    },
    {
      "cell_type": "code",
      "execution_count": null,
      "metadata": {
        "tags": [],
        "id": "zAqNXrqM_gK6"
      },
      "outputs": [],
      "source": [
        "a = np.random.randint(2, size=(10, 10), dtype=np.uint8)\n",
        "print(a)"
      ]
    },
    {
      "cell_type": "markdown",
      "metadata": {
        "id": "GNgyx98i_gK6"
      },
      "source": [
        "The following is a straightforward translation of the GoL rules using `for` loops and array slicing."
      ]
    },
    {
      "cell_type": "code",
      "execution_count": null,
      "metadata": {
        "tags": [],
        "id": "ad3djpoq_gK6"
      },
      "outputs": [],
      "source": [
        "b = np.zeros_like(a)\n",
        "rows, cols = a.shape\n",
        "for i in range(1, rows-1):\n",
        "    for j in range(1, cols-1):\n",
        "        state = a[i, j]\n",
        "        neighbors = a[i-1:i+2, j-1:j+2]\n",
        "        k = np.sum(neighbors) - state\n",
        "        if state:\n",
        "            if k==2 or k==3:\n",
        "                b[i, j] = 1\n",
        "        else:\n",
        "            if k == 3:\n",
        "                b[i, j] = 1\n",
        "\n",
        "print(b)"
      ]
    },
    {
      "cell_type": "markdown",
      "metadata": {
        "id": "s4T4uj_O_gK7"
      },
      "source": [
        "Here's a smaller, faster version using cross correlation."
      ]
    },
    {
      "cell_type": "code",
      "execution_count": null,
      "metadata": {
        "tags": [],
        "id": "B-UwU84l_gK7"
      },
      "outputs": [],
      "source": [
        "from scipy.signal import correlate2d\n",
        "\n",
        "kernel = np.array([[1, 1, 1],\n",
        "                   [1, 0, 1],\n",
        "                   [1, 1, 1]])\n",
        "\n",
        "c = correlate2d(a, kernel, mode='same')\n",
        "b = (c==3) | (c==2) & a\n",
        "b = b.astype(np.uint8)\n",
        "print(b)"
      ]
    },
    {
      "cell_type": "markdown",
      "metadata": {
        "id": "Emygt0Kg_gK7"
      },
      "source": [
        "Using a kernel that gives a weight of 10 to the center cell, we can simplify the logic a little."
      ]
    },
    {
      "cell_type": "code",
      "execution_count": null,
      "metadata": {
        "tags": [],
        "id": "0vXOuhdZ_gK8"
      },
      "outputs": [],
      "source": [
        "kernel = np.array([[1, 1, 1],\n",
        "                   [1,10, 1],\n",
        "                   [1, 1, 1]])\n",
        "\n",
        "c = correlate2d(a, kernel, mode='same')\n",
        "b = (c==3) | (c==12) | (c==13)\n",
        "b = b.astype(np.uint8)\n",
        "print(b)"
      ]
    },
    {
      "cell_type": "markdown",
      "metadata": {
        "id": "ejfIWrjK_gK8"
      },
      "source": [
        "More importantly, the second version of the kernel makes it possible to use a look up table to get the next state, which is faster and even more concise."
      ]
    },
    {
      "cell_type": "code",
      "execution_count": null,
      "metadata": {
        "tags": [],
        "id": "9a9eLZks_gK9"
      },
      "outputs": [],
      "source": [
        "table = np.zeros(20, dtype=np.uint8)\n",
        "table[[3, 12, 13]] = 1\n",
        "c = correlate2d(a, kernel, mode='same')\n",
        "b = table[c]\n",
        "print(b)"
      ]
    },
    {
      "cell_type": "markdown",
      "metadata": {
        "id": "clAKXsde_gK9"
      },
      "source": [
        "**Exercise:** Many Game of Life patterns are available in portable file formats.\n",
        "Write a function to parse one of these formats and initialize the array."
      ]
    },
    {
      "cell_type": "code",
      "execution_count": null,
      "metadata": {
        "id": "K1r5RSen_gK-"
      },
      "outputs": [],
      "source": [
        "# Solution goes here"
      ]
    },
    {
      "cell_type": "code",
      "execution_count": null,
      "metadata": {
        "id": "eWCohU9s_gK-"
      },
      "outputs": [],
      "source": [
        "# Solution goes here"
      ]
    },
    {
      "cell_type": "code",
      "execution_count": null,
      "metadata": {
        "id": "wBHQC5pR_gK-"
      },
      "outputs": [],
      "source": [
        "life.draw()"
      ]
    },
    {
      "cell_type": "code",
      "execution_count": null,
      "metadata": {
        "id": "lCIkN2BS_gK_"
      },
      "outputs": [],
      "source": [
        "# Solution goes here"
      ]
    },
    {
      "cell_type": "markdown",
      "metadata": {
        "id": "1Yf5QTPu_gK_"
      },
      "source": [
        "### Highlife\n",
        "\n",
        "One variation of GoL, called \"Highlife\", has the\n",
        "same rules as GoL, plus one additional rule: a dead cell with 6\n",
        "neighbors comes to life.\n",
        "\n",
        "You can try out different rules by inheriting from `Life` and changing the lookup table.\n",
        "\n",
        "**Exercise:** Modify the table below to add the new rule."
      ]
    },
    {
      "cell_type": "code",
      "execution_count": null,
      "metadata": {
        "id": "v5KT1ATf_gK_"
      },
      "outputs": [],
      "source": [
        "# Starter code\n",
        "\n",
        "class MyLife(Life):\n",
        "    \"\"\"Implementation of Life.\"\"\"\n",
        "\n",
        "    table = np.zeros(20, dtype=np.uint8)\n",
        "    table[[3, 12, 13]] = 1"
      ]
    },
    {
      "cell_type": "markdown",
      "metadata": {
        "id": "R_W3mB5O_gLA"
      },
      "source": [
        "One of the more interesting patterns in Highlife is the replicator, which has the following initial configuration.\n"
      ]
    },
    {
      "cell_type": "code",
      "execution_count": null,
      "metadata": {
        "id": "hfyXwFSs_gLA"
      },
      "outputs": [],
      "source": [
        "replicator = [\n",
        "    '00111',\n",
        "    '01001',\n",
        "    '10001',\n",
        "    '10010',\n",
        "    '11100'\n",
        "]"
      ]
    },
    {
      "cell_type": "markdown",
      "metadata": {
        "id": "QgPwfNQT_gLA"
      },
      "source": [
        "Make a `MyLife` object with `n=100` and use `add_cells` to put a replicator near the middle.\n",
        "\n",
        "Make an animation with about 200 frames and see how it behaves."
      ]
    },
    {
      "cell_type": "code",
      "execution_count": null,
      "metadata": {
        "id": "NNla8MO1_gLA"
      },
      "outputs": [],
      "source": [
        "# Solution goes here"
      ]
    },
    {
      "cell_type": "markdown",
      "metadata": {
        "id": "o5btYPbd_gLB"
      },
      "source": [
        "**Exercise:** \n",
        "\n",
        "If you generalize the Turing machine to two dimensions, or\n",
        "add a read-write head to a 2-D CA, the result is a\n",
        "cellular automaton called a Turmite.  It is named after a\n",
        "termite because of the way the read-write head moves, but\n",
        "spelled wrong as an homage to Alan Turing.\n",
        "\n",
        "The most famous Turmite is Langton's Ant, discovered by Chris Langton\n",
        "in 1986.\n",
        "\n",
        "The ant is a read-write head with\n",
        "four states, which you can think of as facing north, south,\n",
        "east or west.  The cells have two states, black and white.\n",
        "\n",
        "The rules are simple.  During each time step, the ant checks the color\n",
        "of the cell it is on.  If black, the ant turns to the right,\n",
        "changes the cell to white, and moves forward one space.  If the cell\n",
        "is white, the ant turns left, changes the cell to black, and moves\n",
        "forward.\n",
        "\n",
        "Given a simple world, a simple set of rules, and only one moving part,\n",
        "you might expect to see simple behavior---but you should know\n",
        "better by now.  Starting with all white cells, Langton's ant\n",
        "moves in a seemingly random pattern for more than 10 000 steps\n",
        "before it enters a cycle with a period of 104 steps.  After\n",
        "each cycle, the ant is translated diagonally, so it leaves\n",
        "a trail called the \"highway\".\n",
        "\n",
        "Write an implementation of Langton's Ant."
      ]
    },
    {
      "cell_type": "code",
      "execution_count": null,
      "metadata": {
        "id": "-wt3p9ph_gLC"
      },
      "outputs": [],
      "source": [
        "# Solution goes here"
      ]
    },
    {
      "cell_type": "code",
      "execution_count": null,
      "metadata": {
        "id": "i2q7qN_z_gLC"
      },
      "outputs": [],
      "source": [
        "n = 5\n",
        "turmite = Turmite(n)\n",
        "turmite.draw()"
      ]
    },
    {
      "cell_type": "code",
      "execution_count": null,
      "metadata": {
        "id": "9vOzUXce_gLD"
      },
      "outputs": [],
      "source": [
        "turmite.step()\n",
        "turmite.draw()"
      ]
    },
    {
      "cell_type": "code",
      "execution_count": null,
      "metadata": {
        "id": "CCIsf8Er_gLD"
      },
      "outputs": [],
      "source": [
        "# Solution goes here"
      ]
    },
    {
      "cell_type": "code",
      "execution_count": null,
      "metadata": {
        "id": "jk70v9XH_gLD"
      },
      "outputs": [],
      "source": [
        "# And a larger version with 1000 steps\n",
        "\n",
        "turmite = Turmite(n=30)\n",
        "anim = turmite.animate(frames=1000)"
      ]
    },
    {
      "cell_type": "code",
      "execution_count": null,
      "metadata": {
        "id": "6AXhDTZR_gLD"
      },
      "outputs": [],
      "source": [
        "# Solution goes here"
      ]
    }
  ],
  "metadata": {
    "kernelspec": {
      "display_name": "Python 3.8.3 32-bit",
      "language": "python",
      "name": "python_defaultSpec_1593789852346"
    },
    "language_info": {
      "codemirror_mode": {
        "name": "ipython",
        "version": 3
      },
      "file_extension": ".py",
      "mimetype": "text/x-python",
      "name": "python",
      "nbconvert_exporter": "python",
      "pygments_lexer": "ipython3",
      "version": "3.7.3"
    },
    "colab": {
      "name": "Final_Lab_GoL.ipynb",
      "provenance": [],
      "collapsed_sections": [
        "DT1QQ5oH_gKz",
        "V33AkjVi_gK2",
        "VhZvZaGZ_gK5",
        "1Yf5QTPu_gK_"
      ],
      "include_colab_link": true
    }
  },
  "nbformat": 4,
  "nbformat_minor": 0
}