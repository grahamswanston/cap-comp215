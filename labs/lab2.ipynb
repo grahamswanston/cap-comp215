{
  "nbformat": 4,
  "nbformat_minor": 0,
  "metadata": {
    "colab": {
      "name": "iMdb.ipynb",
      "provenance": [],
      "collapsed_sections": [],
      "include_colab_link": true
    },
    "kernelspec": {
      "name": "python3",
      "language": "python",
      "display_name": "Python 3 (ipykernel)"
    },
    "language_info": {
      "name": "python"
    }
  },
  "cells": [
    {
      "cell_type": "markdown",
      "metadata": {
        "id": "view-in-github",
        "colab_type": "text"
      },
      "source": [
        "<a href=\"https://colab.research.google.com/github/grahamswanston/cap-comp215/blob/main/labs/lab2.ipynb\" target=\"_parent\"><img src=\"https://colab.research.google.com/assets/colab-badge.svg\" alt=\"Open In Colab\"/></a>"
      ]
    },
    {
      "cell_type": "markdown",
      "source": [
        "COMP 215 - LAB 2\n",
        "----------------\n",
        "#### Name: Graham Swanston\n",
        "#### Date: January 20, 2022\n",
        "This lab exercise is mostly a review of strings, tuples, lists, dictionaries, and functions.\n",
        "We will also see how \"list comprehension\" provides a compact form for \"list accumulator\" algorithms.\n",
        "\n",
        "As usual, the first code cell simply imports all the modules we'll be using..."
      ],
      "metadata": {
        "id": "nbRPZPKZU5Pk"
      }
    },
    {
      "cell_type": "code",
      "execution_count": 38,
      "outputs": [],
      "source": [
        "import json, requests\n",
        "import matplotlib.pyplot as plt\n",
        "from pprint import pprint"
      ],
      "metadata": {
        "pycharm": {
          "name": "#%%\n"
        },
        "id": "g-bM7ATV0wG_"
      }
    },
    {
      "cell_type": "markdown",
      "source": [
        "We'll answer some questions about movies and TV shows with the IMDb database:  https://www.imdb.com/\n",
        "> using the IMDb API:  https://imdb-api.com/api\n",
        "\n",
        "You can register for your own API key, or simply use the one provided below.\n",
        "\n",
        "Here's an example query:\n",
        " *   search for TV Series with title == \"Lexx\""
      ],
      "metadata": {
        "collapsed": false,
        "pycharm": {
          "name": "#%% md\n"
        },
        "id": "M0kgkyqP0wHB"
      }
    },
    {
      "cell_type": "code",
      "execution_count": 39,
      "metadata": {
        "id": "JDGbYTySU3BP",
        "outputId": "4d20c9f8-db54-43f5-a349-fa1e08acf54e",
        "colab": {
          "base_uri": "https://localhost:8080/"
        }
      },
      "outputs": [
        {
          "output_type": "stream",
          "name": "stdout",
          "text": [
            "[{'description': '(1996) (TV Series)',\n",
            "  'id': 'tt0115243',\n",
            "  'image': 'https://imdb-api.com/images/original/MV5BOGFjMzQyMTYtMjQxNy00NjAyLWI2OWMtZGVhMjk4OGM3ZjE5XkEyXkFqcGdeQXVyNzMzMjU5NDY@._V1_Ratio0.7273_AL_.jpg',\n",
            "  'resultType': 'Title',\n",
            "  'title': 'Lexx'},\n",
            " {'description': '(2008) (Video)',\n",
            "  'id': 'tt1833738',\n",
            "  'image': 'https://imdb-api.com/images/original/MV5BMjAyMTYzNjk4NV5BMl5BanBnXkFtZTcwNzE4MTU0NA@@._V1_Ratio0.7273_AL_.jpg',\n",
            "  'resultType': 'Title',\n",
            "  'title': 'Lexx'},\n",
            " {'description': '(2018)',\n",
            "  'id': 'tt10800568',\n",
            "  'image': 'https://imdb-api.com/images/original/MV5BZWY5ODYwNzYtMmIyMS00YzhhLTg0OTAtODM1M2I5YzkxMzY1XkEyXkFqcGdeQXVyMTEwNDU1MzEy._V1_Ratio0.7273_AL_.jpg',\n",
            "  'resultType': 'Title',\n",
            "  'title': 'Lexxy Roxx: Lexy 360 - Der Film'},\n",
            " {'description': '(2014) (Short)',\n",
            "  'id': 'tt4396272',\n",
            "  'image': 'https://imdb-api.com/images/original/nopicture.jpg',\n",
            "  'resultType': 'Title',\n",
            "  'title': 'Lexxxus'},\n",
            " {'description': '(2018) (Short)',\n",
            "  'id': 'tt12646262',\n",
            "  'image': 'https://imdb-api.com/images/original/MV5BODczYTEwNTctYzAzYy00YjIzLThkNGQtMDdjYmU5NjI1MzAxXkEyXkFqcGdeQXVyMTIwNjM2NTQz._V1_Ratio2.3182_AL_.jpg',\n",
            "  'resultType': 'Title',\n",
            "  'title': 'Lexxe - Red Velvet'},\n",
            " {'description': '(2016) (Video) aka \"Lexxzibé Inonime Nirek & Elmaniak: La '\n",
            "                 'Belle Et La Bête (2016)\"',\n",
            "  'id': 'tt14690226',\n",
            "  'image': 'https://imdb-api.com/images/original/MV5BN2NmNGYxZTgtYjg3MC00ZDZhLTk1ODUtM2E4NGYwYzQ3YTFiXkEyXkFqcGdeQXVyMTA2NzA1NDYz._V1_Ratio1.7727_AL_.jpg',\n",
            "  'resultType': 'Title',\n",
            "  'title': 'Mauvais augure feat. Nirek & Ced (Elmaniak) Auger: La Belle Et La '\n",
            "           'Bête'},\n",
            " {'description': '(2015)',\n",
            "  'id': 'tt2268016',\n",
            "  'image': 'https://imdb-api.com/images/original/MV5BNDMyODU3ODk3Ml5BMl5BanBnXkFtZTgwNDc1ODkwNjE@._V1_Ratio0.7273_AL_.jpg',\n",
            "  'resultType': 'Title',\n",
            "  'title': 'Magic Mike XXL'},\n",
            " {'description': '(2020) (TV Series)',\n",
            "  'id': 'tt6964748',\n",
            "  'image': 'https://imdb-api.com/images/original/MV5BOTg4ZmQ5ZjItZTllZC00NzUzLTkwMTEtMjIzYzliZjk2ODUwXkEyXkFqcGdeQXVyMTEyMjM2NDc2._V1_Ratio0.7273_AL_.jpg',\n",
            "  'resultType': 'Title',\n",
            "  'title': 'Alex Rider'},\n",
            " {'description': '(2015)',\n",
            "  'id': 'tt5909066',\n",
            "  'image': 'https://imdb-api.com/images/original/MV5BYThlMWNjNTgtNGIyYS00YzQxLWFkNTUtYjhmYjAxOTQyYmM1XkEyXkFqcGdeQXVyMTMwNjQxNDU1._V1_Ratio0.7273_AL_.jpg',\n",
            "  'resultType': 'Title',\n",
            "  'title': 'Sexxx'}]\n"
          ]
        }
      ],
      "source": [
        "API_KEY = 'k_ynffhhna'\n",
        "\n",
        "title = 'lexx'\n",
        "url = \"https://imdb-api.com/en/API/SearchTitle/{key}/{title}\".format(key=API_KEY, title=title)\n",
        "\n",
        "response = requests.request(\"GET\", url, headers={}, data={})\n",
        "\n",
        "data = json.loads(response.text)  # recall json.loads for lab 1\n",
        "\n",
        "results = data['results']\n",
        "pprint(results)"
      ]
    },
    {
      "cell_type": "markdown",
      "source": [
        "Next we extract the item we want from the data set by applying a \"filter\":"
      ],
      "metadata": {
        "collapsed": false,
        "pycharm": {
          "name": "#%% md\n"
        },
        "id": "qhE3KjTB0wHC"
      }
    },
    {
      "cell_type": "code",
      "execution_count": 40,
      "outputs": [
        {
          "output_type": "stream",
          "name": "stdout",
          "text": [
            "{'description': '(1996) (TV Series)',\n",
            " 'id': 'tt0115243',\n",
            " 'image': 'https://imdb-api.com/images/original/MV5BOGFjMzQyMTYtMjQxNy00NjAyLWI2OWMtZGVhMjk4OGM3ZjE5XkEyXkFqcGdeQXVyNzMzMjU5NDY@._V1_Ratio0.7273_AL_.jpg',\n",
            " 'resultType': 'Title',\n",
            " 'title': 'Lexx'}\n"
          ]
        }
      ],
      "source": [
        "items = [item for item in results if item['title']=='Lexx' and \"TV\" in item['description']]\n",
        "assert len(items) == 1\n",
        "lexx = items[0]\n",
        "pprint(lexx)"
      ],
      "metadata": {
        "pycharm": {
          "name": "#%%\n"
        },
        "id": "pkL-F5yO0wHD",
        "outputId": "38105906-4c3d-490d-a84d-7ca2bd26a701",
        "colab": {
          "base_uri": "https://localhost:8080/"
        }
      }
    },
    {
      "cell_type": "markdown",
      "source": [
        "## Exercise 1\n",
        "\n",
        "In the code cell below, re-write the \"list comprehension\" above as a loop so you understand how it works.\n",
        "Notice how the \"conditional list comprehension\" is a compact way to \"filter\" items of interest from a large data set.\n"
      ],
      "metadata": {
        "collapsed": false,
        "pycharm": {
          "name": "#%% md\n"
        },
        "id": "3M7G8wLG0wHE"
      }
    },
    {
      "cell_type": "code",
      "execution_count": 41,
      "outputs": [
        {
          "output_type": "stream",
          "name": "stdout",
          "text": [
            "{'description': '(1996) (TV Series)',\n",
            " 'id': 'tt0115243',\n",
            " 'image': 'https://imdb-api.com/images/original/MV5BOGFjMzQyMTYtMjQxNy00NjAyLWI2OWMtZGVhMjk4OGM3ZjE5XkEyXkFqcGdeQXVyNzMzMjU5NDY@._V1_Ratio0.7273_AL_.jpg',\n",
            " 'resultType': 'Title',\n",
            " 'title': 'Lexx'}\n"
          ]
        }
      ],
      "source": [
        "items = []\n",
        "for i in results:\n",
        "    if i['title'] == 'Lexx' and \"TV\" in i['description']:\n",
        "        items.append(i)\n",
        "        assert len(items) == 1\n",
        "pprint(items[0])\n"
      ],
      "metadata": {
        "pycharm": {
          "name": "#%%\n"
        },
        "id": "svDU2bqD0wHE",
        "outputId": "4388f086-bb61-445a-fdf4-69e0d2acbae7",
        "colab": {
          "base_uri": "https://localhost:8080/"
        }
      }
    },
    {
      "cell_type": "markdown",
      "source": [
        "Notice that the `lexx` dictionary contains an `id` field that uniquely identifies this record in the database.\n",
        "\n",
        "We can use the `id` to fetch other information about the TV series, for example,\n",
        "*   get names of all actors in the TV Series Lexx\n"
      ],
      "metadata": {
        "id": "DNRs7ynOYwYk"
      }
    },
    {
      "cell_type": "code",
      "source": [
        "url = \"https://imdb-api.com/en/API/FullCast/{key}/{id}\".format(key=API_KEY, id=lexx['id'])\n",
        "response = requests.request(\"GET\", url, headers={}, data={})\n",
        "data = json.loads(response.text)\n",
        "\n",
        "actors = data['actors']\n",
        "pprint(actors[10:10])   # recall the slice operator (it's a long list!)"
      ],
      "metadata": {
        "colab": {
          "base_uri": "https://localhost:8080/"
        },
        "id": "tiyXTDfnZAd0",
        "outputId": "237c372a-7491-4901-a9d6-df4c135d8b30"
      },
      "execution_count": 91,
      "outputs": [
        {
          "output_type": "stream",
          "name": "stdout",
          "text": [
            "[]\n"
          ]
        }
      ]
    },
    {
      "cell_type": "markdown",
      "source": [
        "Notice that the `asCharacter` field contains a number of different pieces of data as a single string, including the character name.\n",
        "This kind of \"free-form\" text data is notoriously challenging to parse...\n",
        "\n",
        "## Exercise 2\n",
        "\n",
        "In the code cell below, write a python function that takes a string input (the text from `asCharacter` field)\n",
        "and returns the number of episodes, if available, or None.\n",
        "\n",
        "Hints:\n",
        "* notice this is a numeric value followed by the word \"episodes\"\n",
        "* recall str.split() and str.isdigit() and other string build-ins.\n",
        "\n",
        "Add unit tests to cover as many cases from the `actors` data set above as you can.\n"
      ],
      "metadata": {
        "id": "iOZspDBVbBns"
      }
    },
    {
      "cell_type": "code",
      "execution_count": 93,
      "outputs": [
        {
          "output_type": "stream",
          "name": "stdout",
          "text": [
            "This actor was in 61 episodes.\n",
            "This actor was in 61 episodes.\n",
            "This actor was in 57 episodes.\n",
            "This actor was in 55 episodes.\n",
            "This actor was in 46 episodes.\n",
            "This actor was in 23 episodes.\n",
            "This actor was in 16 episodes.\n",
            "This actor was in 8 episodes.\n",
            "This actor was in 13 episodes.\n",
            "This actor was in 10 episodes.\n"
          ]
        }
      ],
      "source": [
        "def episode_count(asCharString):\n",
        "  \n",
        "  str_parse = asCharString['asCharacter'].split(' ', -3)\n",
        "  episodes = str_parse[-3]\n",
        "  if episodes.isdigit() == False:\n",
        "    return 'NONE'\n",
        "  return episodes\n",
        "  \n",
        "\n",
        "for i in actors[:10]:\n",
        "  print(\"This actor was in\", episode_count(i), 'episodes.')\n"
      ],
      "metadata": {
        "pycharm": {
          "name": "#%%\n"
        },
        "id": "zpRH0a-b0wHH",
        "outputId": "9d0a57d1-2a94-4d0a-a2e2-79e8d487d817",
        "colab": {
          "base_uri": "https://localhost:8080/"
        }
      }
    },
    {
      "cell_type": "markdown",
      "source": [
        "## Exercise 3\n",
        "\n",
        "In the code cell below, write a python function that takes a string input (the text from `asCharacter` field)\n",
        "and returns just the character name.  This one may be even a little harder!\n",
        "\n",
        "Hints:\n",
        "* notice the character name is usually followed by a forward slash, `/`\n",
        "* don't worry if your algorithm does not perfectly parse every character's name --\n",
        "it may not really be possible to correclty handle all cases because the field format does not follow consistent rules\n",
        "\n",
        "Add unit tests to cover as many cases from the `actors` data set above as you can.\n"
      ],
      "metadata": {
        "collapsed": false,
        "pycharm": {
          "name": "#%% md\n"
        },
        "id": "oXoWorF-0wHI"
      }
    },
    {
      "cell_type": "code",
      "execution_count": 92,
      "outputs": [
        {
          "output_type": "stream",
          "name": "stdout",
          "text": [
            "Divine Predecessor \n",
            "Holo Cleric \n",
            "Holo Judge \n",
            "Blue Team Member \n",
            "E.J. Moss, Commander of Eagle 5 \n",
            "Lomea \n",
            "Road Worker \n",
            "Computer \n",
            "Black Pawn #3 \n",
            "Master of Ceremonies\n",
            "Brother Treygor\n",
            "Groo\n",
            "Thodin\n",
            "Kyoo\n",
            "Older Woman\n",
            "Gibble\n",
            "Dale\n",
            "Dream Girl #1\n",
            "Journalist #2\n",
            "Rockhound\n",
            "Professor Shnoog\n",
            "Middle Aged Son\n",
            "Guard #3\n",
            "Nurse\n",
            "Older Husband\n",
            "Older Wife\n",
            "Gypsy Servant\n",
            "Lace\n",
            "Survivalist\n",
            "Frankie\n",
            "Businessman\n",
            "Hank\n",
            "Guard #1\n",
            "Cmdr. Bricklin\n",
            "Computer\n",
            "\n"
          ]
        }
      ],
      "source": [
        "def character_name(asCharString):\n",
        "  \n",
        "  str_parse = asCharString['asCharacter'].split('/')\n",
        "  if len(str_parse) == 1:\n",
        "    reformat = str_parse[0].split() \n",
        "    i = 0\n",
        "    name = []\n",
        "    for i in range(len(reformat)):\n",
        "      \n",
        "      if reformat[i].isdigit() == True:\n",
        "        break\n",
        "      name.append(reformat[i])\n",
        "      i = i +1\n",
        "    \n",
        "    return ' '.join(name)\n",
        "  else:    \n",
        "    name = str_parse[0]\n",
        "  return name\n",
        "\n",
        "for i in actors[10::10]:\n",
        "  print(character_name(i))"
      ],
      "metadata": {
        "pycharm": {
          "name": "#%%\n"
        },
        "id": "WUakFXr50wHI",
        "colab": {
          "base_uri": "https://localhost:8080/"
        },
        "outputId": "886abbb5-8834-4db6-9309-42507d88c6e7"
      }
    },
    {
      "cell_type": "markdown",
      "source": [
        "\n",
        "## Exercise 4\n",
        "\n",
        "Using the functions you developed above, define 2 list comprehensions that:\n",
        "* create list of 2 tuples with (actor name, character description) for actors in Lexx  (from `asCharacter` field)\n",
        "* create a list of dictionaries, with keys:  'actor' and 'character' for the same data\n",
        "\n",
        "Hint: this is a very simple problem - the goal is to learn how to build these lists using a comprehension.\n",
        "\n",
        "Pretty print (pprint) your lists to visually verify the results."
      ],
      "metadata": {
        "id": "f_iRYAa3lqV0"
      }
    },
    {
      "cell_type": "code",
      "source": [
        "# your code here"
      ],
      "metadata": {
        "id": "Ds1YevErlzCe",
        "pycharm": {
          "name": "#%%\n"
        }
      },
      "execution_count": 45,
      "outputs": []
    }
  ]
}